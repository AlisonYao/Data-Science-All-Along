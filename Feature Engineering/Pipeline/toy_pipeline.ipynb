{
 "metadata": {
  "language_info": {
   "codemirror_mode": {
    "name": "ipython",
    "version": 3
   },
   "file_extension": ".py",
   "mimetype": "text/x-python",
   "name": "python",
   "nbconvert_exporter": "python",
   "pygments_lexer": "ipython3",
   "version": "3.7.0"
  },
  "orig_nbformat": 2,
  "kernelspec": {
   "name": "python370jvsc74a57bd0597c3c0e459f41ae29c6ba30388c7e35239002b09253c9d0c9b5ec401afa0069",
   "display_name": "Python 3.7.0 64-bit ('ds': conda)"
  }
 },
 "nbformat": 4,
 "nbformat_minor": 2,
 "cells": [
  {
   "cell_type": "code",
   "execution_count": 1,
   "metadata": {},
   "outputs": [],
   "source": [
    "import numpy as np\n",
    "X = np.array([[np.nan,0, 3],\n",
    "            [3, 7, 9], \n",
    "            [3, 5, 2], \n",
    "            [4, np.nan,6], \n",
    "            [8, 8, 1]])\n",
    "y = np.array([14, 16, -1,  8, -5])"
   ]
  },
  {
   "source": [
    "Pipeline:\n",
    "\n",
    "1. Impute missing values using the mean\n",
    "\n",
    "2. Transform features to quadratic\n",
    "\n",
    "3. Fit a linear regression"
   ],
   "cell_type": "markdown",
   "metadata": {}
  },
  {
   "cell_type": "code",
   "execution_count": 3,
   "metadata": {},
   "outputs": [],
   "source": [
    "from sklearn.pipeline import make_pipeline\n",
    "from sklearn.linear_model import LinearRegression\n",
    "from sklearn.preprocessing import PolynomialFeatures\n",
    "from sklearn.impute import SimpleImputer\n",
    "\n",
    "model = make_pipeline(SimpleImputer(missing_values=np.nan, strategy='mean'), \n",
    "                      PolynomialFeatures(degree=2), \n",
    "                      LinearRegression())"
   ]
  },
  {
   "cell_type": "code",
   "execution_count": 4,
   "metadata": {},
   "outputs": [
    {
     "output_type": "stream",
     "name": "stdout",
     "text": [
      "[14 16 -1  8 -5]\n[14. 16. -1.  8. -5.]\n"
     ]
    }
   ],
   "source": [
    "model.fit(X, y) # X with missing values, from above \n",
    "print(y)\n",
    "print(model.predict(X)) # for simplicity, testing on training data so we got everything correctly"
   ]
  }
 ]
}