{
 "metadata": {
  "language_info": {
   "codemirror_mode": {
    "name": "ipython",
    "version": 3
   },
   "file_extension": ".py",
   "mimetype": "text/x-python",
   "name": "python",
   "nbconvert_exporter": "python",
   "pygments_lexer": "ipython3",
   "version": "3.7.0"
  },
  "orig_nbformat": 2,
  "kernelspec": {
   "name": "python370jvsc74a57bd0597c3c0e459f41ae29c6ba30388c7e35239002b09253c9d0c9b5ec401afa0069",
   "display_name": "Python 3.7.0 64-bit ('ds': conda)"
  }
 },
 "nbformat": 4,
 "nbformat_minor": 2,
 "cells": [
  {
   "cell_type": "code",
   "execution_count": 2,
   "metadata": {},
   "outputs": [],
   "source": [
    "import numpy as np"
   ]
  },
  {
   "source": [
    "## Fancy Indexing"
   ],
   "cell_type": "markdown",
   "metadata": {}
  },
  {
   "cell_type": "code",
   "execution_count": 3,
   "metadata": {},
   "outputs": [
    {
     "output_type": "stream",
     "name": "stdout",
     "text": [
      "[51 92 14 71 60 20 82 86 74 74]\n"
     ]
    }
   ],
   "source": [
    "rand = np.random.RandomState(42)\n",
    "x = rand.randint(100, size=10)\n",
    "print(x)"
   ]
  },
  {
   "cell_type": "code",
   "execution_count": 4,
   "metadata": {},
   "outputs": [
    {
     "output_type": "execute_result",
     "data": {
      "text/plain": [
       "array([71, 86, 60])"
      ]
     },
     "metadata": {},
     "execution_count": 4
    }
   ],
   "source": [
    "x[[3, 7, 4]]"
   ]
  },
  {
   "cell_type": "code",
   "execution_count": 5,
   "metadata": {},
   "outputs": [
    {
     "output_type": "execute_result",
     "data": {
      "text/plain": [
       "array([[71, 86],\n",
       "       [60, 20]])"
      ]
     },
     "metadata": {},
     "execution_count": 5
    }
   ],
   "source": [
    "ind = np.array([[3, 7],\n",
    "                [4, 5]])\n",
    "x[ind]"
   ]
  },
  {
   "cell_type": "code",
   "execution_count": 6,
   "metadata": {},
   "outputs": [
    {
     "output_type": "stream",
     "name": "stdout",
     "text": [
      "[[ 0  1  2  3]\n [ 4  5  6  7]\n [ 8  9 10 11]]\n"
     ]
    },
    {
     "output_type": "execute_result",
     "data": {
      "text/plain": [
       "array([ 2,  5, 11])"
      ]
     },
     "metadata": {},
     "execution_count": 6
    }
   ],
   "source": [
    "X = np.arange(12).reshape((3, 4))\n",
    "print(X)\n",
    "row = np.array([0, 1, 2])\n",
    "col = np.array([2, 1, 3])\n",
    "X[row, col]"
   ]
  },
  {
   "source": [
    "### + broadcasting"
   ],
   "cell_type": "markdown",
   "metadata": {}
  },
  {
   "cell_type": "code",
   "execution_count": 7,
   "metadata": {},
   "outputs": [
    {
     "output_type": "stream",
     "name": "stdout",
     "text": [
      "[[0]\n [1]\n [2]]\n"
     ]
    },
    {
     "output_type": "execute_result",
     "data": {
      "text/plain": [
       "array([[ 2,  1,  3],\n",
       "       [ 6,  5,  7],\n",
       "       [10,  9, 11]])"
      ]
     },
     "metadata": {},
     "execution_count": 7
    }
   ],
   "source": [
    "print(row[:, np.newaxis])\n",
    "X[row[:, np.newaxis], col] # broadcasting"
   ]
  },
  {
   "source": [
    "## Combined Indexing"
   ],
   "cell_type": "markdown",
   "metadata": {}
  },
  {
   "cell_type": "code",
   "execution_count": 8,
   "metadata": {},
   "outputs": [
    {
     "output_type": "execute_result",
     "data": {
      "text/plain": [
       "array([[ 0,  1,  2,  3],\n",
       "       [ 4,  5,  6,  7],\n",
       "       [ 8,  9, 10, 11]])"
      ]
     },
     "metadata": {},
     "execution_count": 8
    }
   ],
   "source": [
    "X"
   ]
  },
  {
   "cell_type": "code",
   "execution_count": 9,
   "metadata": {},
   "outputs": [
    {
     "output_type": "execute_result",
     "data": {
      "text/plain": [
       "array([10,  8,  9])"
      ]
     },
     "metadata": {},
     "execution_count": 9
    }
   ],
   "source": [
    "X[2, [2, 0, 1]]"
   ]
  },
  {
   "cell_type": "code",
   "execution_count": 10,
   "metadata": {},
   "outputs": [
    {
     "output_type": "execute_result",
     "data": {
      "text/plain": [
       "array([[ 6,  4,  5],\n",
       "       [10,  8,  9]])"
      ]
     },
     "metadata": {},
     "execution_count": 10
    }
   ],
   "source": [
    "X[1:, [2, 0, 1]]"
   ]
  },
  {
   "cell_type": "code",
   "execution_count": 11,
   "metadata": {},
   "outputs": [
    {
     "output_type": "execute_result",
     "data": {
      "text/plain": [
       "array([[ 0,  2],\n",
       "       [ 4,  6],\n",
       "       [ 8, 10]])"
      ]
     },
     "metadata": {},
     "execution_count": 11
    }
   ],
   "source": [
    "# + masking\n",
    "mask = np.array([1, 0, 1, 0], dtype=bool)\n",
    "X[row[:, np.newaxis], mask] # broadcasting"
   ]
  },
  {
   "source": [
    "## Example: Selecting Random Points"
   ],
   "cell_type": "markdown",
   "metadata": {}
  },
  {
   "cell_type": "code",
   "execution_count": 12,
   "metadata": {},
   "outputs": [
    {
     "output_type": "execute_result",
     "data": {
      "text/plain": [
       "(100, 2)"
      ]
     },
     "metadata": {},
     "execution_count": 12
    }
   ],
   "source": [
    "mean = [0, 0]\n",
    "cov = [[1, 2],\n",
    "       [2, 5]]\n",
    "X = rand.multivariate_normal(mean, cov, 100) # sample from a multivariable normal distribution\n",
    "X.shape"
   ]
  },
  {
   "cell_type": "code",
   "execution_count": 14,
   "metadata": {},
   "outputs": [
    {
     "output_type": "display_data",
     "data": {
      "text/plain": "<Figure size 432x288 with 1 Axes>",
      "image/svg+xml": "<?xml version=\"1.0\" encoding=\"utf-8\" standalone=\"no\"?>\n<!DOCTYPE svg PUBLIC \"-//W3C//DTD SVG 1.1//EN\"\n  \"http://www.w3.org/Graphics/SVG/1.1/DTD/svg11.dtd\">\n<!-- Created with matplotlib (https://matplotlib.org/) -->\n<svg height=\"251.399844pt\" version=\"1.1\" viewBox=\"0 0 371.241719 251.399844\" width=\"371.241719pt\" xmlns=\"http://www.w3.org/2000/svg\" xmlns:xlink=\"http://www.w3.org/1999/xlink\">\n <metadata>\n  <rdf:RDF xmlns:cc=\"http://creativecommons.org/ns#\" xmlns:dc=\"http://purl.org/dc/elements/1.1/\" xmlns:rdf=\"http://www.w3.org/1999/02/22-rdf-syntax-ns#\">\n   <cc:Work>\n    <dc:type rdf:resource=\"http://purl.org/dc/dcmitype/StillImage\"/>\n    <dc:date>2021-06-09T14:35:28.880671</dc:date>\n    <dc:format>image/svg+xml</dc:format>\n    <dc:creator>\n     <cc:Agent>\n      <dc:title>Matplotlib v3.3.1, https://matplotlib.org/</dc:title>\n     </cc:Agent>\n    </dc:creator>\n   </cc:Work>\n  </rdf:RDF>\n </metadata>\n <defs>\n  <style type=\"text/css\">*{stroke-linecap:butt;stroke-linejoin:round;}</style>\n </defs>\n <g id=\"figure_1\">\n  <g id=\"patch_1\">\n   <path d=\"M 0 251.399844 \nL 371.241719 251.399844 \nL 371.241719 0 \nL 0 0 \nz\n\" style=\"fill:#ffffff;\"/>\n  </g>\n  <g id=\"axes_1\">\n   <g id=\"patch_2\">\n    <path d=\"M 29.241719 224.64 \nL 364.041719 224.64 \nL 364.041719 7.2 \nL 29.241719 7.2 \nz\n\" style=\"fill:#eaeaf2;\"/>\n   </g>\n   <g id=\"matplotlib.axis_1\">\n    <g id=\"xtick_1\">\n     <g id=\"line2d_1\">\n      <path clip-path=\"url(#p018dba1359)\" d=\"M 45.804631 224.64 \nL 45.804631 7.2 \n\" style=\"fill:none;stroke:#ffffff;stroke-linecap:round;\"/>\n     </g>\n     <g id=\"text_1\">\n      <!-- −3 -->\n      <g style=\"fill:#262626;\" transform=\"translate(39.533772 242.013594)scale(0.11 -0.11)\">\n       <defs>\n        <path d=\"M 52.828125 31.203125 \nL 5.5625 31.203125 \nL 5.5625 39.40625 \nL 52.828125 39.40625 \nz\n\" id=\"ArialMT-8722\"/>\n        <path d=\"M 4.203125 18.890625 \nL 12.984375 20.0625 \nQ 14.5 12.59375 18.140625 9.296875 \nQ 21.78125 6 27 6 \nQ 33.203125 6 37.46875 10.296875 \nQ 41.75 14.59375 41.75 20.953125 \nQ 41.75 27 37.796875 30.921875 \nQ 33.84375 34.859375 27.734375 34.859375 \nQ 25.25 34.859375 21.53125 33.890625 \nL 22.515625 41.609375 \nQ 23.390625 41.5 23.921875 41.5 \nQ 29.546875 41.5 34.03125 44.421875 \nQ 38.53125 47.359375 38.53125 53.46875 \nQ 38.53125 58.296875 35.25 61.46875 \nQ 31.984375 64.65625 26.8125 64.65625 \nQ 21.6875 64.65625 18.265625 61.421875 \nQ 14.84375 58.203125 13.875 51.765625 \nL 5.078125 53.328125 \nQ 6.6875 62.15625 12.390625 67.015625 \nQ 18.109375 71.875 26.609375 71.875 \nQ 32.46875 71.875 37.390625 69.359375 \nQ 42.328125 66.84375 44.9375 62.5 \nQ 47.5625 58.15625 47.5625 53.265625 \nQ 47.5625 48.640625 45.0625 44.828125 \nQ 42.578125 41.015625 37.703125 38.765625 \nQ 44.046875 37.3125 47.5625 32.6875 \nQ 51.078125 28.078125 51.078125 21.140625 \nQ 51.078125 11.765625 44.234375 5.25 \nQ 37.40625 -1.265625 26.953125 -1.265625 \nQ 17.53125 -1.265625 11.296875 4.34375 \nQ 5.078125 9.96875 4.203125 18.890625 \nz\n\" id=\"ArialMT-51\"/>\n       </defs>\n       <use xlink:href=\"#ArialMT-8722\"/>\n       <use x=\"58.398438\" xlink:href=\"#ArialMT-51\"/>\n      </g>\n     </g>\n    </g>\n    <g id=\"xtick_2\">\n     <g id=\"line2d_2\">\n      <path clip-path=\"url(#p018dba1359)\" d=\"M 102.754093 224.64 \nL 102.754093 7.2 \n\" style=\"fill:none;stroke:#ffffff;stroke-linecap:round;\"/>\n     </g>\n     <g id=\"text_2\">\n      <!-- −2 -->\n      <g style=\"fill:#262626;\" transform=\"translate(96.483233 242.013594)scale(0.11 -0.11)\">\n       <defs>\n        <path d=\"M 50.34375 8.453125 \nL 50.34375 0 \nL 3.03125 0 \nQ 2.9375 3.171875 4.046875 6.109375 \nQ 5.859375 10.9375 9.828125 15.625 \nQ 13.8125 20.3125 21.34375 26.46875 \nQ 33.015625 36.03125 37.109375 41.625 \nQ 41.21875 47.21875 41.21875 52.203125 \nQ 41.21875 57.421875 37.46875 61 \nQ 33.734375 64.59375 27.734375 64.59375 \nQ 21.390625 64.59375 17.578125 60.78125 \nQ 13.765625 56.984375 13.71875 50.25 \nL 4.6875 51.171875 \nQ 5.609375 61.28125 11.65625 66.578125 \nQ 17.71875 71.875 27.9375 71.875 \nQ 38.234375 71.875 44.234375 66.15625 \nQ 50.25 60.453125 50.25 52 \nQ 50.25 47.703125 48.484375 43.546875 \nQ 46.734375 39.40625 42.65625 34.8125 \nQ 38.578125 30.21875 29.109375 22.21875 \nQ 21.1875 15.578125 18.9375 13.203125 \nQ 16.703125 10.84375 15.234375 8.453125 \nz\n\" id=\"ArialMT-50\"/>\n       </defs>\n       <use xlink:href=\"#ArialMT-8722\"/>\n       <use x=\"58.398438\" xlink:href=\"#ArialMT-50\"/>\n      </g>\n     </g>\n    </g>\n    <g id=\"xtick_3\">\n     <g id=\"line2d_3\">\n      <path clip-path=\"url(#p018dba1359)\" d=\"M 159.703554 224.64 \nL 159.703554 7.2 \n\" style=\"fill:none;stroke:#ffffff;stroke-linecap:round;\"/>\n     </g>\n     <g id=\"text_3\">\n      <!-- −1 -->\n      <g style=\"fill:#262626;\" transform=\"translate(153.432695 242.013594)scale(0.11 -0.11)\">\n       <defs>\n        <path d=\"M 37.25 0 \nL 28.46875 0 \nL 28.46875 56 \nQ 25.296875 52.984375 20.140625 49.953125 \nQ 14.984375 46.921875 10.890625 45.40625 \nL 10.890625 53.90625 \nQ 18.265625 57.375 23.78125 62.296875 \nQ 29.296875 67.234375 31.59375 71.875 \nL 37.25 71.875 \nz\n\" id=\"ArialMT-49\"/>\n       </defs>\n       <use xlink:href=\"#ArialMT-8722\"/>\n       <use x=\"58.398438\" xlink:href=\"#ArialMT-49\"/>\n      </g>\n     </g>\n    </g>\n    <g id=\"xtick_4\">\n     <g id=\"line2d_4\">\n      <path clip-path=\"url(#p018dba1359)\" d=\"M 216.653016 224.64 \nL 216.653016 7.2 \n\" style=\"fill:none;stroke:#ffffff;stroke-linecap:round;\"/>\n     </g>\n     <g id=\"text_4\">\n      <!-- 0 -->\n      <g style=\"fill:#262626;\" transform=\"translate(213.5945 242.013594)scale(0.11 -0.11)\">\n       <defs>\n        <path d=\"M 4.15625 35.296875 \nQ 4.15625 48 6.765625 55.734375 \nQ 9.375 63.484375 14.515625 67.671875 \nQ 19.671875 71.875 27.484375 71.875 \nQ 33.25 71.875 37.59375 69.546875 \nQ 41.9375 67.234375 44.765625 62.859375 \nQ 47.609375 58.5 49.21875 52.21875 \nQ 50.828125 45.953125 50.828125 35.296875 \nQ 50.828125 22.703125 48.234375 14.96875 \nQ 45.65625 7.234375 40.5 3 \nQ 35.359375 -1.21875 27.484375 -1.21875 \nQ 17.140625 -1.21875 11.234375 6.203125 \nQ 4.15625 15.140625 4.15625 35.296875 \nz\nM 13.1875 35.296875 \nQ 13.1875 17.671875 17.3125 11.828125 \nQ 21.4375 6 27.484375 6 \nQ 33.546875 6 37.671875 11.859375 \nQ 41.796875 17.71875 41.796875 35.296875 \nQ 41.796875 52.984375 37.671875 58.78125 \nQ 33.546875 64.59375 27.390625 64.59375 \nQ 21.34375 64.59375 17.71875 59.46875 \nQ 13.1875 52.9375 13.1875 35.296875 \nz\n\" id=\"ArialMT-48\"/>\n       </defs>\n       <use xlink:href=\"#ArialMT-48\"/>\n      </g>\n     </g>\n    </g>\n    <g id=\"xtick_5\">\n     <g id=\"line2d_5\">\n      <path clip-path=\"url(#p018dba1359)\" d=\"M 273.602478 224.64 \nL 273.602478 7.2 \n\" style=\"fill:none;stroke:#ffffff;stroke-linecap:round;\"/>\n     </g>\n     <g id=\"text_5\">\n      <!-- 1 -->\n      <g style=\"fill:#262626;\" transform=\"translate(270.543962 242.013594)scale(0.11 -0.11)\">\n       <use xlink:href=\"#ArialMT-49\"/>\n      </g>\n     </g>\n    </g>\n    <g id=\"xtick_6\">\n     <g id=\"line2d_6\">\n      <path clip-path=\"url(#p018dba1359)\" d=\"M 330.551939 224.64 \nL 330.551939 7.2 \n\" style=\"fill:none;stroke:#ffffff;stroke-linecap:round;\"/>\n     </g>\n     <g id=\"text_6\">\n      <!-- 2 -->\n      <g style=\"fill:#262626;\" transform=\"translate(327.493424 242.013594)scale(0.11 -0.11)\">\n       <use xlink:href=\"#ArialMT-50\"/>\n      </g>\n     </g>\n    </g>\n   </g>\n   <g id=\"matplotlib.axis_2\">\n    <g id=\"ytick_1\">\n     <g id=\"line2d_7\">\n      <path clip-path=\"url(#p018dba1359)\" d=\"M 29.241719 219.571552 \nL 364.041719 219.571552 \n\" style=\"fill:none;stroke:#ffffff;stroke-linecap:round;\"/>\n     </g>\n     <g id=\"text_7\">\n      <!-- −8 -->\n      <g style=\"fill:#262626;\" transform=\"translate(7.2 223.508349)scale(0.11 -0.11)\">\n       <defs>\n        <path d=\"M 17.671875 38.8125 \nQ 12.203125 40.828125 9.5625 44.53125 \nQ 6.9375 48.25 6.9375 53.421875 \nQ 6.9375 61.234375 12.546875 66.546875 \nQ 18.171875 71.875 27.484375 71.875 \nQ 36.859375 71.875 42.578125 66.421875 \nQ 48.296875 60.984375 48.296875 53.171875 \nQ 48.296875 48.1875 45.671875 44.5 \nQ 43.0625 40.828125 37.75 38.8125 \nQ 44.34375 36.671875 47.78125 31.875 \nQ 51.21875 27.09375 51.21875 20.453125 \nQ 51.21875 11.28125 44.71875 5.03125 \nQ 38.234375 -1.21875 27.640625 -1.21875 \nQ 17.046875 -1.21875 10.546875 5.046875 \nQ 4.046875 11.328125 4.046875 20.703125 \nQ 4.046875 27.6875 7.59375 32.390625 \nQ 11.140625 37.109375 17.671875 38.8125 \nz\nM 15.921875 53.71875 \nQ 15.921875 48.640625 19.1875 45.40625 \nQ 22.46875 42.1875 27.6875 42.1875 \nQ 32.765625 42.1875 36.015625 45.375 \nQ 39.265625 48.578125 39.265625 53.21875 \nQ 39.265625 58.0625 35.90625 61.359375 \nQ 32.5625 64.65625 27.59375 64.65625 \nQ 22.5625 64.65625 19.234375 61.421875 \nQ 15.921875 58.203125 15.921875 53.71875 \nz\nM 13.09375 20.65625 \nQ 13.09375 16.890625 14.875 13.375 \nQ 16.65625 9.859375 20.171875 7.921875 \nQ 23.6875 6 27.734375 6 \nQ 34.03125 6 38.125 10.046875 \nQ 42.234375 14.109375 42.234375 20.359375 \nQ 42.234375 26.703125 38.015625 30.859375 \nQ 33.796875 35.015625 27.4375 35.015625 \nQ 21.234375 35.015625 17.15625 30.90625 \nQ 13.09375 26.8125 13.09375 20.65625 \nz\n\" id=\"ArialMT-56\"/>\n       </defs>\n       <use xlink:href=\"#ArialMT-8722\"/>\n       <use x=\"58.398438\" xlink:href=\"#ArialMT-56\"/>\n      </g>\n     </g>\n    </g>\n    <g id=\"ytick_2\">\n     <g id=\"line2d_8\">\n      <path clip-path=\"url(#p018dba1359)\" d=\"M 29.241719 190.598735 \nL 364.041719 190.598735 \n\" style=\"fill:none;stroke:#ffffff;stroke-linecap:round;\"/>\n     </g>\n     <g id=\"text_8\">\n      <!-- −6 -->\n      <g style=\"fill:#262626;\" transform=\"translate(7.2 194.535532)scale(0.11 -0.11)\">\n       <defs>\n        <path d=\"M 49.75 54.046875 \nL 41.015625 53.375 \nQ 39.84375 58.546875 37.703125 60.890625 \nQ 34.125 64.65625 28.90625 64.65625 \nQ 24.703125 64.65625 21.53125 62.3125 \nQ 17.390625 59.28125 14.984375 53.46875 \nQ 12.59375 47.65625 12.5 36.921875 \nQ 15.671875 41.75 20.265625 44.09375 \nQ 24.859375 46.4375 29.890625 46.4375 \nQ 38.671875 46.4375 44.84375 39.96875 \nQ 51.03125 33.5 51.03125 23.25 \nQ 51.03125 16.5 48.125 10.71875 \nQ 45.21875 4.9375 40.140625 1.859375 \nQ 35.0625 -1.21875 28.609375 -1.21875 \nQ 17.625 -1.21875 10.6875 6.859375 \nQ 3.765625 14.9375 3.765625 33.5 \nQ 3.765625 54.25 11.421875 63.671875 \nQ 18.109375 71.875 29.4375 71.875 \nQ 37.890625 71.875 43.28125 67.140625 \nQ 48.6875 62.40625 49.75 54.046875 \nz\nM 13.875 23.1875 \nQ 13.875 18.65625 15.796875 14.5 \nQ 17.71875 10.359375 21.1875 8.171875 \nQ 24.65625 6 28.46875 6 \nQ 34.03125 6 38.03125 10.484375 \nQ 42.046875 14.984375 42.046875 22.703125 \nQ 42.046875 30.125 38.078125 34.390625 \nQ 34.125 38.671875 28.125 38.671875 \nQ 22.171875 38.671875 18.015625 34.390625 \nQ 13.875 30.125 13.875 23.1875 \nz\n\" id=\"ArialMT-54\"/>\n       </defs>\n       <use xlink:href=\"#ArialMT-8722\"/>\n       <use x=\"58.398438\" xlink:href=\"#ArialMT-54\"/>\n      </g>\n     </g>\n    </g>\n    <g id=\"ytick_3\">\n     <g id=\"line2d_9\">\n      <path clip-path=\"url(#p018dba1359)\" d=\"M 29.241719 161.625918 \nL 364.041719 161.625918 \n\" style=\"fill:none;stroke:#ffffff;stroke-linecap:round;\"/>\n     </g>\n     <g id=\"text_9\">\n      <!-- −4 -->\n      <g style=\"fill:#262626;\" transform=\"translate(7.2 165.562715)scale(0.11 -0.11)\">\n       <defs>\n        <path d=\"M 32.328125 0 \nL 32.328125 17.140625 \nL 1.265625 17.140625 \nL 1.265625 25.203125 \nL 33.9375 71.578125 \nL 41.109375 71.578125 \nL 41.109375 25.203125 \nL 50.78125 25.203125 \nL 50.78125 17.140625 \nL 41.109375 17.140625 \nL 41.109375 0 \nz\nM 32.328125 25.203125 \nL 32.328125 57.46875 \nL 9.90625 25.203125 \nz\n\" id=\"ArialMT-52\"/>\n       </defs>\n       <use xlink:href=\"#ArialMT-8722\"/>\n       <use x=\"58.398438\" xlink:href=\"#ArialMT-52\"/>\n      </g>\n     </g>\n    </g>\n    <g id=\"ytick_4\">\n     <g id=\"line2d_10\">\n      <path clip-path=\"url(#p018dba1359)\" d=\"M 29.241719 132.653102 \nL 364.041719 132.653102 \n\" style=\"fill:none;stroke:#ffffff;stroke-linecap:round;\"/>\n     </g>\n     <g id=\"text_10\">\n      <!-- −2 -->\n      <g style=\"fill:#262626;\" transform=\"translate(7.2 136.589899)scale(0.11 -0.11)\">\n       <use xlink:href=\"#ArialMT-8722\"/>\n       <use x=\"58.398438\" xlink:href=\"#ArialMT-50\"/>\n      </g>\n     </g>\n    </g>\n    <g id=\"ytick_5\">\n     <g id=\"line2d_11\">\n      <path clip-path=\"url(#p018dba1359)\" d=\"M 29.241719 103.680285 \nL 364.041719 103.680285 \n\" style=\"fill:none;stroke:#ffffff;stroke-linecap:round;\"/>\n     </g>\n     <g id=\"text_11\">\n      <!-- 0 -->\n      <g style=\"fill:#262626;\" transform=\"translate(13.624688 107.617082)scale(0.11 -0.11)\">\n       <use xlink:href=\"#ArialMT-48\"/>\n      </g>\n     </g>\n    </g>\n    <g id=\"ytick_6\">\n     <g id=\"line2d_12\">\n      <path clip-path=\"url(#p018dba1359)\" d=\"M 29.241719 74.707468 \nL 364.041719 74.707468 \n\" style=\"fill:none;stroke:#ffffff;stroke-linecap:round;\"/>\n     </g>\n     <g id=\"text_12\">\n      <!-- 2 -->\n      <g style=\"fill:#262626;\" transform=\"translate(13.624688 78.644265)scale(0.11 -0.11)\">\n       <use xlink:href=\"#ArialMT-50\"/>\n      </g>\n     </g>\n    </g>\n    <g id=\"ytick_7\">\n     <g id=\"line2d_13\">\n      <path clip-path=\"url(#p018dba1359)\" d=\"M 29.241719 45.734652 \nL 364.041719 45.734652 \n\" style=\"fill:none;stroke:#ffffff;stroke-linecap:round;\"/>\n     </g>\n     <g id=\"text_13\">\n      <!-- 4 -->\n      <g style=\"fill:#262626;\" transform=\"translate(13.624688 49.671449)scale(0.11 -0.11)\">\n       <use xlink:href=\"#ArialMT-52\"/>\n      </g>\n     </g>\n    </g>\n    <g id=\"ytick_8\">\n     <g id=\"line2d_14\">\n      <path clip-path=\"url(#p018dba1359)\" d=\"M 29.241719 16.761835 \nL 364.041719 16.761835 \n\" style=\"fill:none;stroke:#ffffff;stroke-linecap:round;\"/>\n     </g>\n     <g id=\"text_14\">\n      <!-- 6 -->\n      <g style=\"fill:#262626;\" transform=\"translate(13.624688 20.698632)scale(0.11 -0.11)\">\n       <use xlink:href=\"#ArialMT-54\"/>\n      </g>\n     </g>\n    </g>\n   </g>\n   <g id=\"PathCollection_1\">\n    <defs>\n     <path d=\"M 0 3 \nC 0.795609 3 1.55874 2.683901 2.12132 2.12132 \nC 2.683901 1.55874 3 0.795609 3 0 \nC 3 -0.795609 2.683901 -1.55874 2.12132 -2.12132 \nC 1.55874 -2.683901 0.795609 -3 0 -3 \nC -0.795609 -3 -1.55874 -2.683901 -2.12132 -2.12132 \nC -2.683901 -1.55874 -3 -0.795609 -3 0 \nC -3 0.795609 -2.683901 1.55874 -2.12132 2.12132 \nC -1.55874 2.683901 -0.795609 3 0 3 \nz\n\" id=\"mf6c4b43560\" style=\"stroke:#4c72b0;\"/>\n    </defs>\n    <g clip-path=\"url(#p018dba1359)\">\n     <use style=\"fill:#4c72b0;stroke:#4c72b0;\" x=\"179.948633\" xlink:href=\"#mf6c4b43560\" y=\"110.375991\"/>\n     <use style=\"fill:#4c72b0;stroke:#4c72b0;\" x=\"258.660944\" xlink:href=\"#mf6c4b43560\" y=\"86.11741\"/>\n     <use style=\"fill:#4c72b0;stroke:#4c72b0;\" x=\"266.854971\" xlink:href=\"#mf6c4b43560\" y=\"87.340315\"/>\n     <use style=\"fill:#4c72b0;stroke:#4c72b0;\" x=\"333.398833\" xlink:href=\"#mf6c4b43560\" y=\"17.083636\"/>\n     <use style=\"fill:#4c72b0;stroke:#4c72b0;\" x=\"206.906981\" xlink:href=\"#mf6c4b43560\" y=\"133.559769\"/>\n     <use style=\"fill:#4c72b0;stroke:#4c72b0;\" x=\"255.35415\" xlink:href=\"#mf6c4b43560\" y=\"91.554419\"/>\n     <use style=\"fill:#4c72b0;stroke:#4c72b0;\" x=\"300.289127\" xlink:href=\"#mf6c4b43560\" y=\"85.867639\"/>\n     <use style=\"fill:#4c72b0;stroke:#4c72b0;\" x=\"236.746\" xlink:href=\"#mf6c4b43560\" y=\"81.968723\"/>\n     <use style=\"fill:#4c72b0;stroke:#4c72b0;\" x=\"73.395219\" xlink:href=\"#mf6c4b43560\" y=\"185.474892\"/>\n     <use style=\"fill:#4c72b0;stroke:#4c72b0;\" x=\"221.455729\" xlink:href=\"#mf6c4b43560\" y=\"108.812905\"/>\n     <use style=\"fill:#4c72b0;stroke:#4c72b0;\" x=\"227.586898\" xlink:href=\"#mf6c4b43560\" y=\"82.109836\"/>\n     <use style=\"fill:#4c72b0;stroke:#4c72b0;\" x=\"215.191569\" xlink:href=\"#mf6c4b43560\" y=\"114.543337\"/>\n     <use style=\"fill:#4c72b0;stroke:#4c72b0;\" x=\"273.926649\" xlink:href=\"#mf6c4b43560\" y=\"71.044245\"/>\n     <use style=\"fill:#4c72b0;stroke:#4c72b0;\" x=\"244.851122\" xlink:href=\"#mf6c4b43560\" y=\"86.450198\"/>\n     <use style=\"fill:#4c72b0;stroke:#4c72b0;\" x=\"220.240103\" xlink:href=\"#mf6c4b43560\" y=\"95.372435\"/>\n     <use style=\"fill:#4c72b0;stroke:#4c72b0;\" x=\"259.418093\" xlink:href=\"#mf6c4b43560\" y=\"60.295375\"/>\n     <use style=\"fill:#4c72b0;stroke:#4c72b0;\" x=\"44.459901\" xlink:href=\"#mf6c4b43560\" y=\"190.709708\"/>\n     <use style=\"fill:#4c72b0;stroke:#4c72b0;\" x=\"185.932722\" xlink:href=\"#mf6c4b43560\" y=\"108.71996\"/>\n     <use style=\"fill:#4c72b0;stroke:#4c72b0;\" x=\"304.251183\" xlink:href=\"#mf6c4b43560\" y=\"74.711312\"/>\n     <use style=\"fill:#4c72b0;stroke:#4c72b0;\" x=\"187.673253\" xlink:href=\"#mf6c4b43560\" y=\"129.915121\"/>\n     <use style=\"fill:#4c72b0;stroke:#4c72b0;\" x=\"306.699\" xlink:href=\"#mf6c4b43560\" y=\"62.189717\"/>\n     <use style=\"fill:#4c72b0;stroke:#4c72b0;\" x=\"273.206703\" xlink:href=\"#mf6c4b43560\" y=\"66.842209\"/>\n     <use style=\"fill:#4c72b0;stroke:#4c72b0;\" x=\"166.677701\" xlink:href=\"#mf6c4b43560\" y=\"120.450795\"/>\n     <use style=\"fill:#4c72b0;stroke:#4c72b0;\" x=\"153.144088\" xlink:href=\"#mf6c4b43560\" y=\"130.843461\"/>\n     <use style=\"fill:#4c72b0;stroke:#4c72b0;\" x=\"241.14076\" xlink:href=\"#mf6c4b43560\" y=\"98.418205\"/>\n     <use style=\"fill:#4c72b0;stroke:#4c72b0;\" x=\"272.038376\" xlink:href=\"#mf6c4b43560\" y=\"52.425096\"/>\n     <use style=\"fill:#4c72b0;stroke:#4c72b0;\" x=\"234.948028\" xlink:href=\"#mf6c4b43560\" y=\"98.879919\"/>\n     <use style=\"fill:#4c72b0;stroke:#4c72b0;\" x=\"174.158097\" xlink:href=\"#mf6c4b43560\" y=\"143.860755\"/>\n     <use style=\"fill:#4c72b0;stroke:#4c72b0;\" x=\"166.267576\" xlink:href=\"#mf6c4b43560\" y=\"129.972456\"/>\n     <use style=\"fill:#4c72b0;stroke:#4c72b0;\" x=\"272.909894\" xlink:href=\"#mf6c4b43560\" y=\"70.320926\"/>\n     <use style=\"fill:#4c72b0;stroke:#4c72b0;\" x=\"148.122181\" xlink:href=\"#mf6c4b43560\" y=\"133.290899\"/>\n     <use style=\"fill:#4c72b0;stroke:#4c72b0;\" x=\"130.601385\" xlink:href=\"#mf6c4b43560\" y=\"151.222853\"/>\n     <use style=\"fill:#4c72b0;stroke:#4c72b0;\" x=\"59.280174\" xlink:href=\"#mf6c4b43560\" y=\"214.756364\"/>\n     <use style=\"fill:#4c72b0;stroke:#4c72b0;\" x=\"238.953601\" xlink:href=\"#mf6c4b43560\" y=\"90.939601\"/>\n     <use style=\"fill:#4c72b0;stroke:#4c72b0;\" x=\"268.580118\" xlink:href=\"#mf6c4b43560\" y=\"55.445044\"/>\n     <use style=\"fill:#4c72b0;stroke:#4c72b0;\" x=\"168.700072\" xlink:href=\"#mf6c4b43560\" y=\"132.830784\"/>\n     <use style=\"fill:#4c72b0;stroke:#4c72b0;\" x=\"277.353669\" xlink:href=\"#mf6c4b43560\" y=\"89.845762\"/>\n     <use style=\"fill:#4c72b0;stroke:#4c72b0;\" x=\"241.971245\" xlink:href=\"#mf6c4b43560\" y=\"76.470711\"/>\n     <use style=\"fill:#4c72b0;stroke:#4c72b0;\" x=\"237.118785\" xlink:href=\"#mf6c4b43560\" y=\"97.805326\"/>\n     <use style=\"fill:#4c72b0;stroke:#4c72b0;\" x=\"165.028517\" xlink:href=\"#mf6c4b43560\" y=\"117.223113\"/>\n     <use style=\"fill:#4c72b0;stroke:#4c72b0;\" x=\"196.270582\" xlink:href=\"#mf6c4b43560\" y=\"111.265805\"/>\n     <use style=\"fill:#4c72b0;stroke:#4c72b0;\" x=\"140.647314\" xlink:href=\"#mf6c4b43560\" y=\"147.603541\"/>\n     <use style=\"fill:#4c72b0;stroke:#4c72b0;\" x=\"218.256222\" xlink:href=\"#mf6c4b43560\" y=\"92.141148\"/>\n     <use style=\"fill:#4c72b0;stroke:#4c72b0;\" x=\"238.171722\" xlink:href=\"#mf6c4b43560\" y=\"96.232912\"/>\n     <use style=\"fill:#4c72b0;stroke:#4c72b0;\" x=\"155.998937\" xlink:href=\"#mf6c4b43560\" y=\"145.506425\"/>\n     <use style=\"fill:#4c72b0;stroke:#4c72b0;\" x=\"348.823537\" xlink:href=\"#mf6c4b43560\" y=\"17.095218\"/>\n     <use style=\"fill:#4c72b0;stroke:#4c72b0;\" x=\"243.764231\" xlink:href=\"#mf6c4b43560\" y=\"91.564652\"/>\n     <use style=\"fill:#4c72b0;stroke:#4c72b0;\" x=\"196.441092\" xlink:href=\"#mf6c4b43560\" y=\"118.696479\"/>\n     <use style=\"fill:#4c72b0;stroke:#4c72b0;\" x=\"249.417683\" xlink:href=\"#mf6c4b43560\" y=\"115.268995\"/>\n     <use style=\"fill:#4c72b0;stroke:#4c72b0;\" x=\"235.674087\" xlink:href=\"#mf6c4b43560\" y=\"69.9852\"/>\n     <use style=\"fill:#4c72b0;stroke:#4c72b0;\" x=\"254.100772\" xlink:href=\"#mf6c4b43560\" y=\"106.923722\"/>\n     <use style=\"fill:#4c72b0;stroke:#4c72b0;\" x=\"294.715721\" xlink:href=\"#mf6c4b43560\" y=\"71.304856\"/>\n     <use style=\"fill:#4c72b0;stroke:#4c72b0;\" x=\"220.69617\" xlink:href=\"#mf6c4b43560\" y=\"107.980643\"/>\n     <use style=\"fill:#4c72b0;stroke:#4c72b0;\" x=\"251.249717\" xlink:href=\"#mf6c4b43560\" y=\"82.372338\"/>\n     <use style=\"fill:#4c72b0;stroke:#4c72b0;\" x=\"197.161421\" xlink:href=\"#mf6c4b43560\" y=\"119.711848\"/>\n     <use style=\"fill:#4c72b0;stroke:#4c72b0;\" x=\"256.07699\" xlink:href=\"#mf6c4b43560\" y=\"86.078676\"/>\n     <use style=\"fill:#4c72b0;stroke:#4c72b0;\" x=\"198.934366\" xlink:href=\"#mf6c4b43560\" y=\"114.677221\"/>\n     <use style=\"fill:#4c72b0;stroke:#4c72b0;\" x=\"201.340258\" xlink:href=\"#mf6c4b43560\" y=\"131.112735\"/>\n     <use style=\"fill:#4c72b0;stroke:#4c72b0;\" x=\"240.597358\" xlink:href=\"#mf6c4b43560\" y=\"76.852975\"/>\n     <use style=\"fill:#4c72b0;stroke:#4c72b0;\" x=\"228.678034\" xlink:href=\"#mf6c4b43560\" y=\"74.594258\"/>\n     <use style=\"fill:#4c72b0;stroke:#4c72b0;\" x=\"112.375111\" xlink:href=\"#mf6c4b43560\" y=\"145.886847\"/>\n     <use style=\"fill:#4c72b0;stroke:#4c72b0;\" x=\"261.311622\" xlink:href=\"#mf6c4b43560\" y=\"75.049239\"/>\n     <use style=\"fill:#4c72b0;stroke:#4c72b0;\" x=\"222.49564\" xlink:href=\"#mf6c4b43560\" y=\"85.617099\"/>\n     <use style=\"fill:#4c72b0;stroke:#4c72b0;\" x=\"107.822277\" xlink:href=\"#mf6c4b43560\" y=\"156.816565\"/>\n     <use style=\"fill:#4c72b0;stroke:#4c72b0;\" x=\"224.138314\" xlink:href=\"#mf6c4b43560\" y=\"104.815129\"/>\n     <use style=\"fill:#4c72b0;stroke:#4c72b0;\" x=\"209.152515\" xlink:href=\"#mf6c4b43560\" y=\"127.461051\"/>\n     <use style=\"fill:#4c72b0;stroke:#4c72b0;\" x=\"208.368417\" xlink:href=\"#mf6c4b43560\" y=\"123.110278\"/>\n     <use style=\"fill:#4c72b0;stroke:#4c72b0;\" x=\"187.510625\" xlink:href=\"#mf6c4b43560\" y=\"124.100438\"/>\n     <use style=\"fill:#4c72b0;stroke:#4c72b0;\" x=\"256.379847\" xlink:href=\"#mf6c4b43560\" y=\"93.168419\"/>\n     <use style=\"fill:#4c72b0;stroke:#4c72b0;\" x=\"223.303052\" xlink:href=\"#mf6c4b43560\" y=\"90.87645\"/>\n     <use style=\"fill:#4c72b0;stroke:#4c72b0;\" x=\"150.257664\" xlink:href=\"#mf6c4b43560\" y=\"136.199699\"/>\n     <use style=\"fill:#4c72b0;stroke:#4c72b0;\" x=\"89.555352\" xlink:href=\"#mf6c4b43560\" y=\"141.918333\"/>\n     <use style=\"fill:#4c72b0;stroke:#4c72b0;\" x=\"238.212507\" xlink:href=\"#mf6c4b43560\" y=\"93.668352\"/>\n     <use style=\"fill:#4c72b0;stroke:#4c72b0;\" x=\"266.469741\" xlink:href=\"#mf6c4b43560\" y=\"54.416718\"/>\n     <use style=\"fill:#4c72b0;stroke:#4c72b0;\" x=\"167.184228\" xlink:href=\"#mf6c4b43560\" y=\"147.656436\"/>\n     <use style=\"fill:#4c72b0;stroke:#4c72b0;\" x=\"157.631815\" xlink:href=\"#mf6c4b43560\" y=\"120.842206\"/>\n     <use style=\"fill:#4c72b0;stroke:#4c72b0;\" x=\"186.279044\" xlink:href=\"#mf6c4b43560\" y=\"109.046038\"/>\n     <use style=\"fill:#4c72b0;stroke:#4c72b0;\" x=\"233.973942\" xlink:href=\"#mf6c4b43560\" y=\"112.123571\"/>\n     <use style=\"fill:#4c72b0;stroke:#4c72b0;\" x=\"132.563345\" xlink:href=\"#mf6c4b43560\" y=\"134.543042\"/>\n     <use style=\"fill:#4c72b0;stroke:#4c72b0;\" x=\"198.809599\" xlink:href=\"#mf6c4b43560\" y=\"129.604615\"/>\n     <use style=\"fill:#4c72b0;stroke:#4c72b0;\" x=\"280.812017\" xlink:href=\"#mf6c4b43560\" y=\"82.004629\"/>\n     <use style=\"fill:#4c72b0;stroke:#4c72b0;\" x=\"148.498293\" xlink:href=\"#mf6c4b43560\" y=\"125.646525\"/>\n     <use style=\"fill:#4c72b0;stroke:#4c72b0;\" x=\"173.821238\" xlink:href=\"#mf6c4b43560\" y=\"115.236171\"/>\n     <use style=\"fill:#4c72b0;stroke:#4c72b0;\" x=\"259.124611\" xlink:href=\"#mf6c4b43560\" y=\"75.310907\"/>\n     <use style=\"fill:#4c72b0;stroke:#4c72b0;\" x=\"305.54791\" xlink:href=\"#mf6c4b43560\" y=\"61.190467\"/>\n     <use style=\"fill:#4c72b0;stroke:#4c72b0;\" x=\"175.643728\" xlink:href=\"#mf6c4b43560\" y=\"132.621371\"/>\n     <use style=\"fill:#4c72b0;stroke:#4c72b0;\" x=\"141.297965\" xlink:href=\"#mf6c4b43560\" y=\"141.521441\"/>\n     <use style=\"fill:#4c72b0;stroke:#4c72b0;\" x=\"70.739432\" xlink:href=\"#mf6c4b43560\" y=\"191.817164\"/>\n     <use style=\"fill:#4c72b0;stroke:#4c72b0;\" x=\"291.40277\" xlink:href=\"#mf6c4b43560\" y=\"58.317072\"/>\n     <use style=\"fill:#4c72b0;stroke:#4c72b0;\" x=\"246.025261\" xlink:href=\"#mf6c4b43560\" y=\"70.320312\"/>\n     <use style=\"fill:#4c72b0;stroke:#4c72b0;\" x=\"217.435908\" xlink:href=\"#mf6c4b43560\" y=\"105.351922\"/>\n     <use style=\"fill:#4c72b0;stroke:#4c72b0;\" x=\"207.049469\" xlink:href=\"#mf6c4b43560\" y=\"97.969402\"/>\n     <use style=\"fill:#4c72b0;stroke:#4c72b0;\" x=\"223.524339\" xlink:href=\"#mf6c4b43560\" y=\"87.276409\"/>\n     <use style=\"fill:#4c72b0;stroke:#4c72b0;\" x=\"169.097377\" xlink:href=\"#mf6c4b43560\" y=\"138.249493\"/>\n     <use style=\"fill:#4c72b0;stroke:#4c72b0;\" x=\"276.555811\" xlink:href=\"#mf6c4b43560\" y=\"74.936611\"/>\n     <use style=\"fill:#4c72b0;stroke:#4c72b0;\" x=\"177.275566\" xlink:href=\"#mf6c4b43560\" y=\"126.412339\"/>\n     <use style=\"fill:#4c72b0;stroke:#4c72b0;\" x=\"145.081193\" xlink:href=\"#mf6c4b43560\" y=\"119.990503\"/>\n     <use style=\"fill:#4c72b0;stroke:#4c72b0;\" x=\"222.131174\" xlink:href=\"#mf6c4b43560\" y=\"113.000199\"/>\n     <use style=\"fill:#4c72b0;stroke:#4c72b0;\" x=\"159.897929\" xlink:href=\"#mf6c4b43560\" y=\"137.728864\"/>\n     <use style=\"fill:#4c72b0;stroke:#4c72b0;\" x=\"147.513375\" xlink:href=\"#mf6c4b43560\" y=\"129.421724\"/>\n    </g>\n   </g>\n   <g id=\"patch_3\">\n    <path d=\"M 29.241719 224.64 \nL 29.241719 7.2 \n\" style=\"fill:none;stroke:#ffffff;stroke-linecap:square;stroke-linejoin:miter;stroke-width:1.25;\"/>\n   </g>\n   <g id=\"patch_4\">\n    <path d=\"M 364.041719 224.64 \nL 364.041719 7.2 \n\" style=\"fill:none;stroke:#ffffff;stroke-linecap:square;stroke-linejoin:miter;stroke-width:1.25;\"/>\n   </g>\n   <g id=\"patch_5\">\n    <path d=\"M 29.241719 224.64 \nL 364.041719 224.64 \n\" style=\"fill:none;stroke:#ffffff;stroke-linecap:square;stroke-linejoin:miter;stroke-width:1.25;\"/>\n   </g>\n   <g id=\"patch_6\">\n    <path d=\"M 29.241719 7.2 \nL 364.041719 7.2 \n\" style=\"fill:none;stroke:#ffffff;stroke-linecap:square;stroke-linejoin:miter;stroke-width:1.25;\"/>\n   </g>\n  </g>\n </g>\n <defs>\n  <clipPath id=\"p018dba1359\">\n   <rect height=\"217.44\" width=\"334.8\" x=\"29.241719\" y=\"7.2\"/>\n  </clipPath>\n </defs>\n</svg>\n",
      "image/png": "[encoded data removed]"
     },
     "metadata": {}
    }
   ],
   "source": [
    "%matplotlib inline\n",
    "import matplotlib.pyplot as plt\n",
    "import seaborn; seaborn.set() # for plot styling \n",
    "plt.scatter(X[:, 0], X[:, 1]);"
   ]
  },
  {
   "cell_type": "code",
   "execution_count": 15,
   "metadata": {},
   "outputs": [
    {
     "output_type": "execute_result",
     "data": {
      "text/plain": [
       "array([95, 52, 38,  6, 10, 74, 62, 33, 40, 43, 75, 53, 80, 34, 90, 97, 13,\n",
       "       25, 68, 73])"
      ]
     },
     "metadata": {},
     "execution_count": 15
    }
   ],
   "source": [
    "indices = np.random.choice(X.shape[0], 20, replace=False)\n",
    "indices"
   ]
  },
  {
   "cell_type": "code",
   "execution_count": 17,
   "metadata": {},
   "outputs": [
    {
     "output_type": "execute_result",
     "data": {
      "text/plain": [
       "(20, 2)"
      ]
     },
     "metadata": {},
     "execution_count": 17
    }
   ],
   "source": [
    "selection = X[indices] # fancy indexing here \n",
    "selection.shape"
   ]
  },
  {
   "cell_type": "code",
   "execution_count": 18,
   "metadata": {},
   "outputs": [
    {
     "output_type": "execute_result",
     "data": {
      "text/plain": [
       "<matplotlib.collections.PathCollection at 0x7fcb492ceb70>"
      ]
     },
     "metadata": {},
     "execution_count": 18
    },
    {
     "output_type": "display_data",
     "data": {
      "text/plain": "<Figure size 432x288 with 1 Axes>",
      "image/svg+xml": "<?xml version=\"1.0\" encoding=\"utf-8\" standalone=\"no\"?>\n<!DOCTYPE svg PUBLIC \"-//W3C//DTD SVG 1.1//EN\"\n  \"http://www.w3.org/Graphics/SVG/1.1/DTD/svg11.dtd\">\n<!-- Created with matplotlib (https://matplotlib.org/) -->\n<svg height=\"251.399844pt\" version=\"1.1\" viewBox=\"0 0 371.241719 251.399844\" width=\"371.241719pt\" xmlns=\"http://www.w3.org/2000/svg\" xmlns:xlink=\"http://www.w3.org/1999/xlink\">\n <metadata>\n  <rdf:RDF xmlns:cc=\"http://creativecommons.org/ns#\" xmlns:dc=\"http://purl.org/dc/elements/1.1/\" xmlns:rdf=\"http://www.w3.org/1999/02/22-rdf-syntax-ns#\">\n   <cc:Work>\n    <dc:type rdf:resource=\"http://purl.org/dc/dcmitype/StillImage\"/>\n    <dc:date>2021-06-09T14:38:25.891744</dc:date>\n    <dc:format>image/svg+xml</dc:format>\n    <dc:creator>\n     <cc:Agent>\n      <dc:title>Matplotlib v3.3.1, https://matplotlib.org/</dc:title>\n     </cc:Agent>\n    </dc:creator>\n   </cc:Work>\n  </rdf:RDF>\n </metadata>\n <defs>\n  <style type=\"text/css\">*{stroke-linecap:butt;stroke-linejoin:round;}</style>\n </defs>\n <g id=\"figure_1\">\n  <g id=\"patch_1\">\n   <path d=\"M 0 251.399844 \nL 371.241719 251.399844 \nL 371.241719 0 \nL 0 0 \nz\n\" style=\"fill:#ffffff;\"/>\n  </g>\n  <g id=\"axes_1\">\n   <g id=\"patch_2\">\n    <path d=\"M 29.241719 224.64 \nL 364.041719 224.64 \nL 364.041719 7.2 \nL 29.241719 7.2 \nz\n\" style=\"fill:#eaeaf2;\"/>\n   </g>\n   <g id=\"matplotlib.axis_1\">\n    <g id=\"xtick_1\">\n     <g id=\"line2d_1\">\n      <path clip-path=\"url(#pcafa523bba)\" d=\"M 45.804631 224.64 \nL 45.804631 7.2 \n\" style=\"fill:none;stroke:#ffffff;stroke-linecap:round;\"/>\n     </g>\n     <g id=\"text_1\">\n      <!-- −3 -->\n      <g style=\"fill:#262626;\" transform=\"translate(39.533772 242.013594)scale(0.11 -0.11)\">\n       <defs>\n        <path d=\"M 52.828125 31.203125 \nL 5.5625 31.203125 \nL 5.5625 39.40625 \nL 52.828125 39.40625 \nz\n\" id=\"ArialMT-8722\"/>\n        <path d=\"M 4.203125 18.890625 \nL 12.984375 20.0625 \nQ 14.5 12.59375 18.140625 9.296875 \nQ 21.78125 6 27 6 \nQ 33.203125 6 37.46875 10.296875 \nQ 41.75 14.59375 41.75 20.953125 \nQ 41.75 27 37.796875 30.921875 \nQ 33.84375 34.859375 27.734375 34.859375 \nQ 25.25 34.859375 21.53125 33.890625 \nL 22.515625 41.609375 \nQ 23.390625 41.5 23.921875 41.5 \nQ 29.546875 41.5 34.03125 44.421875 \nQ 38.53125 47.359375 38.53125 53.46875 \nQ 38.53125 58.296875 35.25 61.46875 \nQ 31.984375 64.65625 26.8125 64.65625 \nQ 21.6875 64.65625 18.265625 61.421875 \nQ 14.84375 58.203125 13.875 51.765625 \nL 5.078125 53.328125 \nQ 6.6875 62.15625 12.390625 67.015625 \nQ 18.109375 71.875 26.609375 71.875 \nQ 32.46875 71.875 37.390625 69.359375 \nQ 42.328125 66.84375 44.9375 62.5 \nQ 47.5625 58.15625 47.5625 53.265625 \nQ 47.5625 48.640625 45.0625 44.828125 \nQ 42.578125 41.015625 37.703125 38.765625 \nQ 44.046875 37.3125 47.5625 32.6875 \nQ 51.078125 28.078125 51.078125 21.140625 \nQ 51.078125 11.765625 44.234375 5.25 \nQ 37.40625 -1.265625 26.953125 -1.265625 \nQ 17.53125 -1.265625 11.296875 4.34375 \nQ 5.078125 9.96875 4.203125 18.890625 \nz\n\" id=\"ArialMT-51\"/>\n       </defs>\n       <use xlink:href=\"#ArialMT-8722\"/>\n       <use x=\"58.398438\" xlink:href=\"#ArialMT-51\"/>\n      </g>\n     </g>\n    </g>\n    <g id=\"xtick_2\">\n     <g id=\"line2d_2\">\n      <path clip-path=\"url(#pcafa523bba)\" d=\"M 102.754093 224.64 \nL 102.754093 7.2 \n\" style=\"fill:none;stroke:#ffffff;stroke-linecap:round;\"/>\n     </g>\n     <g id=\"text_2\">\n      <!-- −2 -->\n      <g style=\"fill:#262626;\" transform=\"translate(96.483233 242.013594)scale(0.11 -0.11)\">\n       <defs>\n        <path d=\"M 50.34375 8.453125 \nL 50.34375 0 \nL 3.03125 0 \nQ 2.9375 3.171875 4.046875 6.109375 \nQ 5.859375 10.9375 9.828125 15.625 \nQ 13.8125 20.3125 21.34375 26.46875 \nQ 33.015625 36.03125 37.109375 41.625 \nQ 41.21875 47.21875 41.21875 52.203125 \nQ 41.21875 57.421875 37.46875 61 \nQ 33.734375 64.59375 27.734375 64.59375 \nQ 21.390625 64.59375 17.578125 60.78125 \nQ 13.765625 56.984375 13.71875 50.25 \nL 4.6875 51.171875 \nQ 5.609375 61.28125 11.65625 66.578125 \nQ 17.71875 71.875 27.9375 71.875 \nQ 38.234375 71.875 44.234375 66.15625 \nQ 50.25 60.453125 50.25 52 \nQ 50.25 47.703125 48.484375 43.546875 \nQ 46.734375 39.40625 42.65625 34.8125 \nQ 38.578125 30.21875 29.109375 22.21875 \nQ 21.1875 15.578125 18.9375 13.203125 \nQ 16.703125 10.84375 15.234375 8.453125 \nz\n\" id=\"ArialMT-50\"/>\n       </defs>\n       <use xlink:href=\"#ArialMT-8722\"/>\n       <use x=\"58.398438\" xlink:href=\"#ArialMT-50\"/>\n      </g>\n     </g>\n    </g>\n    <g id=\"xtick_3\">\n     <g id=\"line2d_3\">\n      <path clip-path=\"url(#pcafa523bba)\" d=\"M 159.703554 224.64 \nL 159.703554 7.2 \n\" style=\"fill:none;stroke:#ffffff;stroke-linecap:round;\"/>\n     </g>\n     <g id=\"text_3\">\n      <!-- −1 -->\n      <g style=\"fill:#262626;\" transform=\"translate(153.432695 242.013594)scale(0.11 -0.11)\">\n       <defs>\n        <path d=\"M 37.25 0 \nL 28.46875 0 \nL 28.46875 56 \nQ 25.296875 52.984375 20.140625 49.953125 \nQ 14.984375 46.921875 10.890625 45.40625 \nL 10.890625 53.90625 \nQ 18.265625 57.375 23.78125 62.296875 \nQ 29.296875 67.234375 31.59375 71.875 \nL 37.25 71.875 \nz\n\" id=\"ArialMT-49\"/>\n       </defs>\n       <use xlink:href=\"#ArialMT-8722\"/>\n       <use x=\"58.398438\" xlink:href=\"#ArialMT-49\"/>\n      </g>\n     </g>\n    </g>\n    <g id=\"xtick_4\">\n     <g id=\"line2d_4\">\n      <path clip-path=\"url(#pcafa523bba)\" d=\"M 216.653016 224.64 \nL 216.653016 7.2 \n\" style=\"fill:none;stroke:#ffffff;stroke-linecap:round;\"/>\n     </g>\n     <g id=\"text_4\">\n      <!-- 0 -->\n      <g style=\"fill:#262626;\" transform=\"translate(213.5945 242.013594)scale(0.11 -0.11)\">\n       <defs>\n        <path d=\"M 4.15625 35.296875 \nQ 4.15625 48 6.765625 55.734375 \nQ 9.375 63.484375 14.515625 67.671875 \nQ 19.671875 71.875 27.484375 71.875 \nQ 33.25 71.875 37.59375 69.546875 \nQ 41.9375 67.234375 44.765625 62.859375 \nQ 47.609375 58.5 49.21875 52.21875 \nQ 50.828125 45.953125 50.828125 35.296875 \nQ 50.828125 22.703125 48.234375 14.96875 \nQ 45.65625 7.234375 40.5 3 \nQ 35.359375 -1.21875 27.484375 -1.21875 \nQ 17.140625 -1.21875 11.234375 6.203125 \nQ 4.15625 15.140625 4.15625 35.296875 \nz\nM 13.1875 35.296875 \nQ 13.1875 17.671875 17.3125 11.828125 \nQ 21.4375 6 27.484375 6 \nQ 33.546875 6 37.671875 11.859375 \nQ 41.796875 17.71875 41.796875 35.296875 \nQ 41.796875 52.984375 37.671875 58.78125 \nQ 33.546875 64.59375 27.390625 64.59375 \nQ 21.34375 64.59375 17.71875 59.46875 \nQ 13.1875 52.9375 13.1875 35.296875 \nz\n\" id=\"ArialMT-48\"/>\n       </defs>\n       <use xlink:href=\"#ArialMT-48\"/>\n      </g>\n     </g>\n    </g>\n    <g id=\"xtick_5\">\n     <g id=\"line2d_5\">\n      <path clip-path=\"url(#pcafa523bba)\" d=\"M 273.602478 224.64 \nL 273.602478 7.2 \n\" style=\"fill:none;stroke:#ffffff;stroke-linecap:round;\"/>\n     </g>\n     <g id=\"text_5\">\n      <!-- 1 -->\n      <g style=\"fill:#262626;\" transform=\"translate(270.543962 242.013594)scale(0.11 -0.11)\">\n       <use xlink:href=\"#ArialMT-49\"/>\n      </g>\n     </g>\n    </g>\n    <g id=\"xtick_6\">\n     <g id=\"line2d_6\">\n      <path clip-path=\"url(#pcafa523bba)\" d=\"M 330.551939 224.64 \nL 330.551939 7.2 \n\" style=\"fill:none;stroke:#ffffff;stroke-linecap:round;\"/>\n     </g>\n     <g id=\"text_6\">\n      <!-- 2 -->\n      <g style=\"fill:#262626;\" transform=\"translate(327.493424 242.013594)scale(0.11 -0.11)\">\n       <use xlink:href=\"#ArialMT-50\"/>\n      </g>\n     </g>\n    </g>\n   </g>\n   <g id=\"matplotlib.axis_2\">\n    <g id=\"ytick_1\">\n     <g id=\"line2d_7\">\n      <path clip-path=\"url(#pcafa523bba)\" d=\"M 29.241719 219.571552 \nL 364.041719 219.571552 \n\" style=\"fill:none;stroke:#ffffff;stroke-linecap:round;\"/>\n     </g>\n     <g id=\"text_7\">\n      <!-- −8 -->\n      <g style=\"fill:#262626;\" transform=\"translate(7.2 223.508349)scale(0.11 -0.11)\">\n       <defs>\n        <path d=\"M 17.671875 38.8125 \nQ 12.203125 40.828125 9.5625 44.53125 \nQ 6.9375 48.25 6.9375 53.421875 \nQ 6.9375 61.234375 12.546875 66.546875 \nQ 18.171875 71.875 27.484375 71.875 \nQ 36.859375 71.875 42.578125 66.421875 \nQ 48.296875 60.984375 48.296875 53.171875 \nQ 48.296875 48.1875 45.671875 44.5 \nQ 43.0625 40.828125 37.75 38.8125 \nQ 44.34375 36.671875 47.78125 31.875 \nQ 51.21875 27.09375 51.21875 20.453125 \nQ 51.21875 11.28125 44.71875 5.03125 \nQ 38.234375 -1.21875 27.640625 -1.21875 \nQ 17.046875 -1.21875 10.546875 5.046875 \nQ 4.046875 11.328125 4.046875 20.703125 \nQ 4.046875 27.6875 7.59375 32.390625 \nQ 11.140625 37.109375 17.671875 38.8125 \nz\nM 15.921875 53.71875 \nQ 15.921875 48.640625 19.1875 45.40625 \nQ 22.46875 42.1875 27.6875 42.1875 \nQ 32.765625 42.1875 36.015625 45.375 \nQ 39.265625 48.578125 39.265625 53.21875 \nQ 39.265625 58.0625 35.90625 61.359375 \nQ 32.5625 64.65625 27.59375 64.65625 \nQ 22.5625 64.65625 19.234375 61.421875 \nQ 15.921875 58.203125 15.921875 53.71875 \nz\nM 13.09375 20.65625 \nQ 13.09375 16.890625 14.875 13.375 \nQ 16.65625 9.859375 20.171875 7.921875 \nQ 23.6875 6 27.734375 6 \nQ 34.03125 6 38.125 10.046875 \nQ 42.234375 14.109375 42.234375 20.359375 \nQ 42.234375 26.703125 38.015625 30.859375 \nQ 33.796875 35.015625 27.4375 35.015625 \nQ 21.234375 35.015625 17.15625 30.90625 \nQ 13.09375 26.8125 13.09375 20.65625 \nz\n\" id=\"ArialMT-56\"/>\n       </defs>\n       <use xlink:href=\"#ArialMT-8722\"/>\n       <use x=\"58.398438\" xlink:href=\"#ArialMT-56\"/>\n      </g>\n     </g>\n    </g>\n    <g id=\"ytick_2\">\n     <g id=\"line2d_8\">\n      <path clip-path=\"url(#pcafa523bba)\" d=\"M 29.241719 190.598735 \nL 364.041719 190.598735 \n\" style=\"fill:none;stroke:#ffffff;stroke-linecap:round;\"/>\n     </g>\n     <g id=\"text_8\">\n      <!-- −6 -->\n      <g style=\"fill:#262626;\" transform=\"translate(7.2 194.535532)scale(0.11 -0.11)\">\n       <defs>\n        <path d=\"M 49.75 54.046875 \nL 41.015625 53.375 \nQ 39.84375 58.546875 37.703125 60.890625 \nQ 34.125 64.65625 28.90625 64.65625 \nQ 24.703125 64.65625 21.53125 62.3125 \nQ 17.390625 59.28125 14.984375 53.46875 \nQ 12.59375 47.65625 12.5 36.921875 \nQ 15.671875 41.75 20.265625 44.09375 \nQ 24.859375 46.4375 29.890625 46.4375 \nQ 38.671875 46.4375 44.84375 39.96875 \nQ 51.03125 33.5 51.03125 23.25 \nQ 51.03125 16.5 48.125 10.71875 \nQ 45.21875 4.9375 40.140625 1.859375 \nQ 35.0625 -1.21875 28.609375 -1.21875 \nQ 17.625 -1.21875 10.6875 6.859375 \nQ 3.765625 14.9375 3.765625 33.5 \nQ 3.765625 54.25 11.421875 63.671875 \nQ 18.109375 71.875 29.4375 71.875 \nQ 37.890625 71.875 43.28125 67.140625 \nQ 48.6875 62.40625 49.75 54.046875 \nz\nM 13.875 23.1875 \nQ 13.875 18.65625 15.796875 14.5 \nQ 17.71875 10.359375 21.1875 8.171875 \nQ 24.65625 6 28.46875 6 \nQ 34.03125 6 38.03125 10.484375 \nQ 42.046875 14.984375 42.046875 22.703125 \nQ 42.046875 30.125 38.078125 34.390625 \nQ 34.125 38.671875 28.125 38.671875 \nQ 22.171875 38.671875 18.015625 34.390625 \nQ 13.875 30.125 13.875 23.1875 \nz\n\" id=\"ArialMT-54\"/>\n       </defs>\n       <use xlink:href=\"#ArialMT-8722\"/>\n       <use x=\"58.398438\" xlink:href=\"#ArialMT-54\"/>\n      </g>\n     </g>\n    </g>\n    <g id=\"ytick_3\">\n     <g id=\"line2d_9\">\n      <path clip-path=\"url(#pcafa523bba)\" d=\"M 29.241719 161.625918 \nL 364.041719 161.625918 \n\" style=\"fill:none;stroke:#ffffff;stroke-linecap:round;\"/>\n     </g>\n     <g id=\"text_9\">\n      <!-- −4 -->\n      <g style=\"fill:#262626;\" transform=\"translate(7.2 165.562715)scale(0.11 -0.11)\">\n       <defs>\n        <path d=\"M 32.328125 0 \nL 32.328125 17.140625 \nL 1.265625 17.140625 \nL 1.265625 25.203125 \nL 33.9375 71.578125 \nL 41.109375 71.578125 \nL 41.109375 25.203125 \nL 50.78125 25.203125 \nL 50.78125 17.140625 \nL 41.109375 17.140625 \nL 41.109375 0 \nz\nM 32.328125 25.203125 \nL 32.328125 57.46875 \nL 9.90625 25.203125 \nz\n\" id=\"ArialMT-52\"/>\n       </defs>\n       <use xlink:href=\"#ArialMT-8722\"/>\n       <use x=\"58.398438\" xlink:href=\"#ArialMT-52\"/>\n      </g>\n     </g>\n    </g>\n    <g id=\"ytick_4\">\n     <g id=\"line2d_10\">\n      <path clip-path=\"url(#pcafa523bba)\" d=\"M 29.241719 132.653102 \nL 364.041719 132.653102 \n\" style=\"fill:none;stroke:#ffffff;stroke-linecap:round;\"/>\n     </g>\n     <g id=\"text_10\">\n      <!-- −2 -->\n      <g style=\"fill:#262626;\" transform=\"translate(7.2 136.589899)scale(0.11 -0.11)\">\n       <use xlink:href=\"#ArialMT-8722\"/>\n       <use x=\"58.398438\" xlink:href=\"#ArialMT-50\"/>\n      </g>\n     </g>\n    </g>\n    <g id=\"ytick_5\">\n     <g id=\"line2d_11\">\n      <path clip-path=\"url(#pcafa523bba)\" d=\"M 29.241719 103.680285 \nL 364.041719 103.680285 \n\" style=\"fill:none;stroke:#ffffff;stroke-linecap:round;\"/>\n     </g>\n     <g id=\"text_11\">\n      <!-- 0 -->\n      <g style=\"fill:#262626;\" transform=\"translate(13.624688 107.617082)scale(0.11 -0.11)\">\n       <use xlink:href=\"#ArialMT-48\"/>\n      </g>\n     </g>\n    </g>\n    <g id=\"ytick_6\">\n     <g id=\"line2d_12\">\n      <path clip-path=\"url(#pcafa523bba)\" d=\"M 29.241719 74.707468 \nL 364.041719 74.707468 \n\" style=\"fill:none;stroke:#ffffff;stroke-linecap:round;\"/>\n     </g>\n     <g id=\"text_12\">\n      <!-- 2 -->\n      <g style=\"fill:#262626;\" transform=\"translate(13.624688 78.644265)scale(0.11 -0.11)\">\n       <use xlink:href=\"#ArialMT-50\"/>\n      </g>\n     </g>\n    </g>\n    <g id=\"ytick_7\">\n     <g id=\"line2d_13\">\n      <path clip-path=\"url(#pcafa523bba)\" d=\"M 29.241719 45.734652 \nL 364.041719 45.734652 \n\" style=\"fill:none;stroke:#ffffff;stroke-linecap:round;\"/>\n     </g>\n     <g id=\"text_13\">\n      <!-- 4 -->\n      <g style=\"fill:#262626;\" transform=\"translate(13.624688 49.671449)scale(0.11 -0.11)\">\n       <use xlink:href=\"#ArialMT-52\"/>\n      </g>\n     </g>\n    </g>\n    <g id=\"ytick_8\">\n     <g id=\"line2d_14\">\n      <path clip-path=\"url(#pcafa523bba)\" d=\"M 29.241719 16.761835 \nL 364.041719 16.761835 \n\" style=\"fill:none;stroke:#ffffff;stroke-linecap:round;\"/>\n     </g>\n     <g id=\"text_14\">\n      <!-- 6 -->\n      <g style=\"fill:#262626;\" transform=\"translate(13.624688 20.698632)scale(0.11 -0.11)\">\n       <use xlink:href=\"#ArialMT-54\"/>\n      </g>\n     </g>\n    </g>\n   </g>\n   <g id=\"PathCollection_1\">\n    <defs>\n     <path d=\"M 0 3 \nC 0.795609 3 1.55874 2.683901 2.12132 2.12132 \nC 2.683901 1.55874 3 0.795609 3 0 \nC 3 -0.795609 2.683901 -1.55874 2.12132 -2.12132 \nC 1.55874 -2.683901 0.795609 -3 0 -3 \nC -0.795609 -3 -1.55874 -2.683901 -2.12132 -2.12132 \nC -2.683901 -1.55874 -3 -0.795609 -3 0 \nC -3 0.795609 -2.683901 1.55874 -2.12132 2.12132 \nC -1.55874 2.683901 -0.795609 3 0 3 \nz\n\" id=\"mcf5c682e69\" style=\"stroke:#4c72b0;stroke-opacity:0.3;\"/>\n    </defs>\n    <g clip-path=\"url(#pcafa523bba)\">\n     <use style=\"fill:#4c72b0;fill-opacity:0.3;stroke:#4c72b0;stroke-opacity:0.3;\" x=\"179.948633\" xlink:href=\"#mcf5c682e69\" y=\"110.375991\"/>\n     <use style=\"fill:#4c72b0;fill-opacity:0.3;stroke:#4c72b0;stroke-opacity:0.3;\" x=\"258.660944\" xlink:href=\"#mcf5c682e69\" y=\"86.11741\"/>\n     <use style=\"fill:#4c72b0;fill-opacity:0.3;stroke:#4c72b0;stroke-opacity:0.3;\" x=\"266.854971\" xlink:href=\"#mcf5c682e69\" y=\"87.340315\"/>\n     <use style=\"fill:#4c72b0;fill-opacity:0.3;stroke:#4c72b0;stroke-opacity:0.3;\" x=\"333.398833\" xlink:href=\"#mcf5c682e69\" y=\"17.083636\"/>\n     <use style=\"fill:#4c72b0;fill-opacity:0.3;stroke:#4c72b0;stroke-opacity:0.3;\" x=\"206.906981\" xlink:href=\"#mcf5c682e69\" y=\"133.559769\"/>\n     <use style=\"fill:#4c72b0;fill-opacity:0.3;stroke:#4c72b0;stroke-opacity:0.3;\" x=\"255.35415\" xlink:href=\"#mcf5c682e69\" y=\"91.554419\"/>\n     <use style=\"fill:#4c72b0;fill-opacity:0.3;stroke:#4c72b0;stroke-opacity:0.3;\" x=\"300.289127\" xlink:href=\"#mcf5c682e69\" y=\"85.867639\"/>\n     <use style=\"fill:#4c72b0;fill-opacity:0.3;stroke:#4c72b0;stroke-opacity:0.3;\" x=\"236.746\" xlink:href=\"#mcf5c682e69\" y=\"81.968723\"/>\n     <use style=\"fill:#4c72b0;fill-opacity:0.3;stroke:#4c72b0;stroke-opacity:0.3;\" x=\"73.395219\" xlink:href=\"#mcf5c682e69\" y=\"185.474892\"/>\n     <use style=\"fill:#4c72b0;fill-opacity:0.3;stroke:#4c72b0;stroke-opacity:0.3;\" x=\"221.455729\" xlink:href=\"#mcf5c682e69\" y=\"108.812905\"/>\n     <use style=\"fill:#4c72b0;fill-opacity:0.3;stroke:#4c72b0;stroke-opacity:0.3;\" x=\"227.586898\" xlink:href=\"#mcf5c682e69\" y=\"82.109836\"/>\n     <use style=\"fill:#4c72b0;fill-opacity:0.3;stroke:#4c72b0;stroke-opacity:0.3;\" x=\"215.191569\" xlink:href=\"#mcf5c682e69\" y=\"114.543337\"/>\n     <use style=\"fill:#4c72b0;fill-opacity:0.3;stroke:#4c72b0;stroke-opacity:0.3;\" x=\"273.926649\" xlink:href=\"#mcf5c682e69\" y=\"71.044245\"/>\n     <use style=\"fill:#4c72b0;fill-opacity:0.3;stroke:#4c72b0;stroke-opacity:0.3;\" x=\"244.851122\" xlink:href=\"#mcf5c682e69\" y=\"86.450198\"/>\n     <use style=\"fill:#4c72b0;fill-opacity:0.3;stroke:#4c72b0;stroke-opacity:0.3;\" x=\"220.240103\" xlink:href=\"#mcf5c682e69\" y=\"95.372435\"/>\n     <use style=\"fill:#4c72b0;fill-opacity:0.3;stroke:#4c72b0;stroke-opacity:0.3;\" x=\"259.418093\" xlink:href=\"#mcf5c682e69\" y=\"60.295375\"/>\n     <use style=\"fill:#4c72b0;fill-opacity:0.3;stroke:#4c72b0;stroke-opacity:0.3;\" x=\"44.459901\" xlink:href=\"#mcf5c682e69\" y=\"190.709708\"/>\n     <use style=\"fill:#4c72b0;fill-opacity:0.3;stroke:#4c72b0;stroke-opacity:0.3;\" x=\"185.932722\" xlink:href=\"#mcf5c682e69\" y=\"108.71996\"/>\n     <use style=\"fill:#4c72b0;fill-opacity:0.3;stroke:#4c72b0;stroke-opacity:0.3;\" x=\"304.251183\" xlink:href=\"#mcf5c682e69\" y=\"74.711312\"/>\n     <use style=\"fill:#4c72b0;fill-opacity:0.3;stroke:#4c72b0;stroke-opacity:0.3;\" x=\"187.673253\" xlink:href=\"#mcf5c682e69\" y=\"129.915121\"/>\n     <use style=\"fill:#4c72b0;fill-opacity:0.3;stroke:#4c72b0;stroke-opacity:0.3;\" x=\"306.699\" xlink:href=\"#mcf5c682e69\" y=\"62.189717\"/>\n     <use style=\"fill:#4c72b0;fill-opacity:0.3;stroke:#4c72b0;stroke-opacity:0.3;\" x=\"273.206703\" xlink:href=\"#mcf5c682e69\" y=\"66.842209\"/>\n     <use style=\"fill:#4c72b0;fill-opacity:0.3;stroke:#4c72b0;stroke-opacity:0.3;\" x=\"166.677701\" xlink:href=\"#mcf5c682e69\" y=\"120.450795\"/>\n     <use style=\"fill:#4c72b0;fill-opacity:0.3;stroke:#4c72b0;stroke-opacity:0.3;\" x=\"153.144088\" xlink:href=\"#mcf5c682e69\" y=\"130.843461\"/>\n     <use style=\"fill:#4c72b0;fill-opacity:0.3;stroke:#4c72b0;stroke-opacity:0.3;\" x=\"241.14076\" xlink:href=\"#mcf5c682e69\" y=\"98.418205\"/>\n     <use style=\"fill:#4c72b0;fill-opacity:0.3;stroke:#4c72b0;stroke-opacity:0.3;\" x=\"272.038376\" xlink:href=\"#mcf5c682e69\" y=\"52.425096\"/>\n     <use style=\"fill:#4c72b0;fill-opacity:0.3;stroke:#4c72b0;stroke-opacity:0.3;\" x=\"234.948028\" xlink:href=\"#mcf5c682e69\" y=\"98.879919\"/>\n     <use style=\"fill:#4c72b0;fill-opacity:0.3;stroke:#4c72b0;stroke-opacity:0.3;\" x=\"174.158097\" xlink:href=\"#mcf5c682e69\" y=\"143.860755\"/>\n     <use style=\"fill:#4c72b0;fill-opacity:0.3;stroke:#4c72b0;stroke-opacity:0.3;\" x=\"166.267576\" xlink:href=\"#mcf5c682e69\" y=\"129.972456\"/>\n     <use style=\"fill:#4c72b0;fill-opacity:0.3;stroke:#4c72b0;stroke-opacity:0.3;\" x=\"272.909894\" xlink:href=\"#mcf5c682e69\" y=\"70.320926\"/>\n     <use style=\"fill:#4c72b0;fill-opacity:0.3;stroke:#4c72b0;stroke-opacity:0.3;\" x=\"148.122181\" xlink:href=\"#mcf5c682e69\" y=\"133.290899\"/>\n     <use style=\"fill:#4c72b0;fill-opacity:0.3;stroke:#4c72b0;stroke-opacity:0.3;\" x=\"130.601385\" xlink:href=\"#mcf5c682e69\" y=\"151.222853\"/>\n     <use style=\"fill:#4c72b0;fill-opacity:0.3;stroke:#4c72b0;stroke-opacity:0.3;\" x=\"59.280174\" xlink:href=\"#mcf5c682e69\" y=\"214.756364\"/>\n     <use style=\"fill:#4c72b0;fill-opacity:0.3;stroke:#4c72b0;stroke-opacity:0.3;\" x=\"238.953601\" xlink:href=\"#mcf5c682e69\" y=\"90.939601\"/>\n     <use style=\"fill:#4c72b0;fill-opacity:0.3;stroke:#4c72b0;stroke-opacity:0.3;\" x=\"268.580118\" xlink:href=\"#mcf5c682e69\" y=\"55.445044\"/>\n     <use style=\"fill:#4c72b0;fill-opacity:0.3;stroke:#4c72b0;stroke-opacity:0.3;\" x=\"168.700072\" xlink:href=\"#mcf5c682e69\" y=\"132.830784\"/>\n     <use style=\"fill:#4c72b0;fill-opacity:0.3;stroke:#4c72b0;stroke-opacity:0.3;\" x=\"277.353669\" xlink:href=\"#mcf5c682e69\" y=\"89.845762\"/>\n     <use style=\"fill:#4c72b0;fill-opacity:0.3;stroke:#4c72b0;stroke-opacity:0.3;\" x=\"241.971245\" xlink:href=\"#mcf5c682e69\" y=\"76.470711\"/>\n     <use style=\"fill:#4c72b0;fill-opacity:0.3;stroke:#4c72b0;stroke-opacity:0.3;\" x=\"237.118785\" xlink:href=\"#mcf5c682e69\" y=\"97.805326\"/>\n     <use style=\"fill:#4c72b0;fill-opacity:0.3;stroke:#4c72b0;stroke-opacity:0.3;\" x=\"165.028517\" xlink:href=\"#mcf5c682e69\" y=\"117.223113\"/>\n     <use style=\"fill:#4c72b0;fill-opacity:0.3;stroke:#4c72b0;stroke-opacity:0.3;\" x=\"196.270582\" xlink:href=\"#mcf5c682e69\" y=\"111.265805\"/>\n     <use style=\"fill:#4c72b0;fill-opacity:0.3;stroke:#4c72b0;stroke-opacity:0.3;\" x=\"140.647314\" xlink:href=\"#mcf5c682e69\" y=\"147.603541\"/>\n     <use style=\"fill:#4c72b0;fill-opacity:0.3;stroke:#4c72b0;stroke-opacity:0.3;\" x=\"218.256222\" xlink:href=\"#mcf5c682e69\" y=\"92.141148\"/>\n     <use style=\"fill:#4c72b0;fill-opacity:0.3;stroke:#4c72b0;stroke-opacity:0.3;\" x=\"238.171722\" xlink:href=\"#mcf5c682e69\" y=\"96.232912\"/>\n     <use style=\"fill:#4c72b0;fill-opacity:0.3;stroke:#4c72b0;stroke-opacity:0.3;\" x=\"155.998937\" xlink:href=\"#mcf5c682e69\" y=\"145.506425\"/>\n     <use style=\"fill:#4c72b0;fill-opacity:0.3;stroke:#4c72b0;stroke-opacity:0.3;\" x=\"348.823537\" xlink:href=\"#mcf5c682e69\" y=\"17.095218\"/>\n     <use style=\"fill:#4c72b0;fill-opacity:0.3;stroke:#4c72b0;stroke-opacity:0.3;\" x=\"243.764231\" xlink:href=\"#mcf5c682e69\" y=\"91.564652\"/>\n     <use style=\"fill:#4c72b0;fill-opacity:0.3;stroke:#4c72b0;stroke-opacity:0.3;\" x=\"196.441092\" xlink:href=\"#mcf5c682e69\" y=\"118.696479\"/>\n     <use style=\"fill:#4c72b0;fill-opacity:0.3;stroke:#4c72b0;stroke-opacity:0.3;\" x=\"249.417683\" xlink:href=\"#mcf5c682e69\" y=\"115.268995\"/>\n     <use style=\"fill:#4c72b0;fill-opacity:0.3;stroke:#4c72b0;stroke-opacity:0.3;\" x=\"235.674087\" xlink:href=\"#mcf5c682e69\" y=\"69.9852\"/>\n     <use style=\"fill:#4c72b0;fill-opacity:0.3;stroke:#4c72b0;stroke-opacity:0.3;\" x=\"254.100772\" xlink:href=\"#mcf5c682e69\" y=\"106.923722\"/>\n     <use style=\"fill:#4c72b0;fill-opacity:0.3;stroke:#4c72b0;stroke-opacity:0.3;\" x=\"294.715721\" xlink:href=\"#mcf5c682e69\" y=\"71.304856\"/>\n     <use style=\"fill:#4c72b0;fill-opacity:0.3;stroke:#4c72b0;stroke-opacity:0.3;\" x=\"220.69617\" xlink:href=\"#mcf5c682e69\" y=\"107.980643\"/>\n     <use style=\"fill:#4c72b0;fill-opacity:0.3;stroke:#4c72b0;stroke-opacity:0.3;\" x=\"251.249717\" xlink:href=\"#mcf5c682e69\" y=\"82.372338\"/>\n     <use style=\"fill:#4c72b0;fill-opacity:0.3;stroke:#4c72b0;stroke-opacity:0.3;\" x=\"197.161421\" xlink:href=\"#mcf5c682e69\" y=\"119.711848\"/>\n     <use style=\"fill:#4c72b0;fill-opacity:0.3;stroke:#4c72b0;stroke-opacity:0.3;\" x=\"256.07699\" xlink:href=\"#mcf5c682e69\" y=\"86.078676\"/>\n     <use style=\"fill:#4c72b0;fill-opacity:0.3;stroke:#4c72b0;stroke-opacity:0.3;\" x=\"198.934366\" xlink:href=\"#mcf5c682e69\" y=\"114.677221\"/>\n     <use style=\"fill:#4c72b0;fill-opacity:0.3;stroke:#4c72b0;stroke-opacity:0.3;\" x=\"201.340258\" xlink:href=\"#mcf5c682e69\" y=\"131.112735\"/>\n     <use style=\"fill:#4c72b0;fill-opacity:0.3;stroke:#4c72b0;stroke-opacity:0.3;\" x=\"240.597358\" xlink:href=\"#mcf5c682e69\" y=\"76.852975\"/>\n     <use style=\"fill:#4c72b0;fill-opacity:0.3;stroke:#4c72b0;stroke-opacity:0.3;\" x=\"228.678034\" xlink:href=\"#mcf5c682e69\" y=\"74.594258\"/>\n     <use style=\"fill:#4c72b0;fill-opacity:0.3;stroke:#4c72b0;stroke-opacity:0.3;\" x=\"112.375111\" xlink:href=\"#mcf5c682e69\" y=\"145.886847\"/>\n     <use style=\"fill:#4c72b0;fill-opacity:0.3;stroke:#4c72b0;stroke-opacity:0.3;\" x=\"261.311622\" xlink:href=\"#mcf5c682e69\" y=\"75.049239\"/>\n     <use style=\"fill:#4c72b0;fill-opacity:0.3;stroke:#4c72b0;stroke-opacity:0.3;\" x=\"222.49564\" xlink:href=\"#mcf5c682e69\" y=\"85.617099\"/>\n     <use style=\"fill:#4c72b0;fill-opacity:0.3;stroke:#4c72b0;stroke-opacity:0.3;\" x=\"107.822277\" xlink:href=\"#mcf5c682e69\" y=\"156.816565\"/>\n     <use style=\"fill:#4c72b0;fill-opacity:0.3;stroke:#4c72b0;stroke-opacity:0.3;\" x=\"224.138314\" xlink:href=\"#mcf5c682e69\" y=\"104.815129\"/>\n     <use style=\"fill:#4c72b0;fill-opacity:0.3;stroke:#4c72b0;stroke-opacity:0.3;\" x=\"209.152515\" xlink:href=\"#mcf5c682e69\" y=\"127.461051\"/>\n     <use style=\"fill:#4c72b0;fill-opacity:0.3;stroke:#4c72b0;stroke-opacity:0.3;\" x=\"208.368417\" xlink:href=\"#mcf5c682e69\" y=\"123.110278\"/>\n     <use style=\"fill:#4c72b0;fill-opacity:0.3;stroke:#4c72b0;stroke-opacity:0.3;\" x=\"187.510625\" xlink:href=\"#mcf5c682e69\" y=\"124.100438\"/>\n     <use style=\"fill:#4c72b0;fill-opacity:0.3;stroke:#4c72b0;stroke-opacity:0.3;\" x=\"256.379847\" xlink:href=\"#mcf5c682e69\" y=\"93.168419\"/>\n     <use style=\"fill:#4c72b0;fill-opacity:0.3;stroke:#4c72b0;stroke-opacity:0.3;\" x=\"223.303052\" xlink:href=\"#mcf5c682e69\" y=\"90.87645\"/>\n     <use style=\"fill:#4c72b0;fill-opacity:0.3;stroke:#4c72b0;stroke-opacity:0.3;\" x=\"150.257664\" xlink:href=\"#mcf5c682e69\" y=\"136.199699\"/>\n     <use style=\"fill:#4c72b0;fill-opacity:0.3;stroke:#4c72b0;stroke-opacity:0.3;\" x=\"89.555352\" xlink:href=\"#mcf5c682e69\" y=\"141.918333\"/>\n     <use style=\"fill:#4c72b0;fill-opacity:0.3;stroke:#4c72b0;stroke-opacity:0.3;\" x=\"238.212507\" xlink:href=\"#mcf5c682e69\" y=\"93.668352\"/>\n     <use style=\"fill:#4c72b0;fill-opacity:0.3;stroke:#4c72b0;stroke-opacity:0.3;\" x=\"266.469741\" xlink:href=\"#mcf5c682e69\" y=\"54.416718\"/>\n     <use style=\"fill:#4c72b0;fill-opacity:0.3;stroke:#4c72b0;stroke-opacity:0.3;\" x=\"167.184228\" xlink:href=\"#mcf5c682e69\" y=\"147.656436\"/>\n     <use style=\"fill:#4c72b0;fill-opacity:0.3;stroke:#4c72b0;stroke-opacity:0.3;\" x=\"157.631815\" xlink:href=\"#mcf5c682e69\" y=\"120.842206\"/>\n     <use style=\"fill:#4c72b0;fill-opacity:0.3;stroke:#4c72b0;stroke-opacity:0.3;\" x=\"186.279044\" xlink:href=\"#mcf5c682e69\" y=\"109.046038\"/>\n     <use style=\"fill:#4c72b0;fill-opacity:0.3;stroke:#4c72b0;stroke-opacity:0.3;\" x=\"233.973942\" xlink:href=\"#mcf5c682e69\" y=\"112.123571\"/>\n     <use style=\"fill:#4c72b0;fill-opacity:0.3;stroke:#4c72b0;stroke-opacity:0.3;\" x=\"132.563345\" xlink:href=\"#mcf5c682e69\" y=\"134.543042\"/>\n     <use style=\"fill:#4c72b0;fill-opacity:0.3;stroke:#4c72b0;stroke-opacity:0.3;\" x=\"198.809599\" xlink:href=\"#mcf5c682e69\" y=\"129.604615\"/>\n     <use style=\"fill:#4c72b0;fill-opacity:0.3;stroke:#4c72b0;stroke-opacity:0.3;\" x=\"280.812017\" xlink:href=\"#mcf5c682e69\" y=\"82.004629\"/>\n     <use style=\"fill:#4c72b0;fill-opacity:0.3;stroke:#4c72b0;stroke-opacity:0.3;\" x=\"148.498293\" xlink:href=\"#mcf5c682e69\" y=\"125.646525\"/>\n     <use style=\"fill:#4c72b0;fill-opacity:0.3;stroke:#4c72b0;stroke-opacity:0.3;\" x=\"173.821238\" xlink:href=\"#mcf5c682e69\" y=\"115.236171\"/>\n     <use style=\"fill:#4c72b0;fill-opacity:0.3;stroke:#4c72b0;stroke-opacity:0.3;\" x=\"259.124611\" xlink:href=\"#mcf5c682e69\" y=\"75.310907\"/>\n     <use style=\"fill:#4c72b0;fill-opacity:0.3;stroke:#4c72b0;stroke-opacity:0.3;\" x=\"305.54791\" xlink:href=\"#mcf5c682e69\" y=\"61.190467\"/>\n     <use style=\"fill:#4c72b0;fill-opacity:0.3;stroke:#4c72b0;stroke-opacity:0.3;\" x=\"175.643728\" xlink:href=\"#mcf5c682e69\" y=\"132.621371\"/>\n     <use style=\"fill:#4c72b0;fill-opacity:0.3;stroke:#4c72b0;stroke-opacity:0.3;\" x=\"141.297965\" xlink:href=\"#mcf5c682e69\" y=\"141.521441\"/>\n     <use style=\"fill:#4c72b0;fill-opacity:0.3;stroke:#4c72b0;stroke-opacity:0.3;\" x=\"70.739432\" xlink:href=\"#mcf5c682e69\" y=\"191.817164\"/>\n     <use style=\"fill:#4c72b0;fill-opacity:0.3;stroke:#4c72b0;stroke-opacity:0.3;\" x=\"291.40277\" xlink:href=\"#mcf5c682e69\" y=\"58.317072\"/>\n     <use style=\"fill:#4c72b0;fill-opacity:0.3;stroke:#4c72b0;stroke-opacity:0.3;\" x=\"246.025261\" xlink:href=\"#mcf5c682e69\" y=\"70.320312\"/>\n     <use style=\"fill:#4c72b0;fill-opacity:0.3;stroke:#4c72b0;stroke-opacity:0.3;\" x=\"217.435908\" xlink:href=\"#mcf5c682e69\" y=\"105.351922\"/>\n     <use style=\"fill:#4c72b0;fill-opacity:0.3;stroke:#4c72b0;stroke-opacity:0.3;\" x=\"207.049469\" xlink:href=\"#mcf5c682e69\" y=\"97.969402\"/>\n     <use style=\"fill:#4c72b0;fill-opacity:0.3;stroke:#4c72b0;stroke-opacity:0.3;\" x=\"223.524339\" xlink:href=\"#mcf5c682e69\" y=\"87.276409\"/>\n     <use style=\"fill:#4c72b0;fill-opacity:0.3;stroke:#4c72b0;stroke-opacity:0.3;\" x=\"169.097377\" xlink:href=\"#mcf5c682e69\" y=\"138.249493\"/>\n     <use style=\"fill:#4c72b0;fill-opacity:0.3;stroke:#4c72b0;stroke-opacity:0.3;\" x=\"276.555811\" xlink:href=\"#mcf5c682e69\" y=\"74.936611\"/>\n     <use style=\"fill:#4c72b0;fill-opacity:0.3;stroke:#4c72b0;stroke-opacity:0.3;\" x=\"177.275566\" xlink:href=\"#mcf5c682e69\" y=\"126.412339\"/>\n     <use style=\"fill:#4c72b0;fill-opacity:0.3;stroke:#4c72b0;stroke-opacity:0.3;\" x=\"145.081193\" xlink:href=\"#mcf5c682e69\" y=\"119.990503\"/>\n     <use style=\"fill:#4c72b0;fill-opacity:0.3;stroke:#4c72b0;stroke-opacity:0.3;\" x=\"222.131174\" xlink:href=\"#mcf5c682e69\" y=\"113.000199\"/>\n     <use style=\"fill:#4c72b0;fill-opacity:0.3;stroke:#4c72b0;stroke-opacity:0.3;\" x=\"159.897929\" xlink:href=\"#mcf5c682e69\" y=\"137.728864\"/>\n     <use style=\"fill:#4c72b0;fill-opacity:0.3;stroke:#4c72b0;stroke-opacity:0.3;\" x=\"147.513375\" xlink:href=\"#mcf5c682e69\" y=\"129.421724\"/>\n    </g>\n   </g>\n   <g id=\"PathCollection_2\"/>\n   <g id=\"patch_3\">\n    <path d=\"M 29.241719 224.64 \nL 29.241719 7.2 \n\" style=\"fill:none;stroke:#ffffff;stroke-linecap:square;stroke-linejoin:miter;stroke-width:1.25;\"/>\n   </g>\n   <g id=\"patch_4\">\n    <path d=\"M 364.041719 224.64 \nL 364.041719 7.2 \n\" style=\"fill:none;stroke:#ffffff;stroke-linecap:square;stroke-linejoin:miter;stroke-width:1.25;\"/>\n   </g>\n   <g id=\"patch_5\">\n    <path d=\"M 29.241719 224.64 \nL 364.041719 224.64 \n\" style=\"fill:none;stroke:#ffffff;stroke-linecap:square;stroke-linejoin:miter;stroke-width:1.25;\"/>\n   </g>\n   <g id=\"patch_6\">\n    <path d=\"M 29.241719 7.2 \nL 364.041719 7.2 \n\" style=\"fill:none;stroke:#ffffff;stroke-linecap:square;stroke-linejoin:miter;stroke-width:1.25;\"/>\n   </g>\n  </g>\n </g>\n <defs>\n  <clipPath id=\"pcafa523bba\">\n   <rect height=\"217.44\" width=\"334.8\" x=\"29.241719\" y=\"7.2\"/>\n  </clipPath>\n </defs>\n</svg>\n",
      "image/png": "[encoded data removed]"
     },
     "metadata": {}
    }
   ],
   "source": [
    "plt.scatter(X[:, 0], X[:, 1], alpha=0.3)\n",
    "plt.scatter(selection[:, 0], selection[:, 1], facecolor='none', s=200)"
   ]
  },
  {
   "source": [
    "## Modifying Values with Fancy Indexing"
   ],
   "cell_type": "markdown",
   "metadata": {}
  },
  {
   "cell_type": "code",
   "execution_count": 19,
   "metadata": {},
   "outputs": [
    {
     "output_type": "stream",
     "name": "stdout",
     "text": [
      "[ 0 99 99  3 99  5  6  7 99  9]\n"
     ]
    }
   ],
   "source": [
    "x = np.arange(10)\n",
    "i = np.array([2, 1, 8, 4])\n",
    "x[i] = 99 \n",
    "print(x)"
   ]
  },
  {
   "cell_type": "code",
   "execution_count": 20,
   "metadata": {},
   "outputs": [
    {
     "output_type": "stream",
     "name": "stdout",
     "text": [
      "[ 0 89 89  3 89  5  6  7 89  9]\n"
     ]
    }
   ],
   "source": [
    "x[i] -= 10 \n",
    "print(x)"
   ]
  },
  {
   "cell_type": "code",
   "execution_count": 21,
   "metadata": {},
   "outputs": [
    {
     "output_type": "stream",
     "name": "stdout",
     "text": [
      "[6. 0. 0. 0. 0. 0. 0. 0. 0. 0.]\n"
     ]
    }
   ],
   "source": [
    "x = np.zeros(10)\n",
    "x[[0, 0]] = [4, 6] # 6 overwrites 4\n",
    "print(x)"
   ]
  },
  {
   "cell_type": "code",
   "execution_count": null,
   "metadata": {},
   "outputs": [],
   "source": []
  }
 ]
}