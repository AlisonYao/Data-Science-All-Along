{
  "nbformat": 4,
  "nbformat_minor": 0,
  "metadata": {
    "colab": {
      "name": "[Exercises-1]Introduction-to-NumPy.ipynb",
      "provenance": [],
      "collapsed_sections": [],
      "toc_visible": true
    },
    "kernelspec": {
      "display_name": "Python 3",
      "language": "python",
      "name": "python3"
    },
    "language_info": {
      "codemirror_mode": {
        "name": "ipython",
        "version": 3
      },
      "file_extension": ".py",
      "mimetype": "text/x-python",
      "name": "python",
      "nbconvert_exporter": "python",
      "pygments_lexer": "ipython3",
      "version": "3.7.3"
    }
  },
  "cells": [
    {
      "cell_type": "markdown",
      "metadata": {
        "id": "wb0PmFpoG9ay"
      },
      "source": [
        "![sslogo](https://github.com/stratascratch/stratascratch.github.io/raw/master/assets/sslogo.jpg)"
      ]
    },
    {
      "cell_type": "markdown",
      "metadata": {
        "id": "OJ_6PaLpYIyP"
      },
      "source": [
        "https://www.youtube.com/watch?v=mkbgEvUkSaM&list=PLv6MQO1ZzdmqKVL03HnslbBCDEoqS78Nm"
      ]
    },
    {
      "cell_type": "markdown",
      "metadata": {
        "id": "ibxZ9zh3p_vl"
      },
      "source": [
        "# Intro to NumPy (Numerical Python)\n",
        "\n",
        "NumPy is the fundamental package for scientific computing in Python. NumPy is used in many other packages in python even though you may not see it explicitly running in your code.\n",
        "\n",
        "It is a python library that provides a multidimensional array object, various derived objects (such as masked arrays and matrices), and an assortment of routines for fast operations on arrays, including mathematical, logical, shape manipulation, sorting, selecting, I/O, discrete Fourier transforms, basic linear algebra, basic statistical operations, random simulation and much more.\n",
        "\n",
        "NumPy arrays form the core of nearly the entire ecosystem of data science tools in Python, so time spent learning to use NumPy effectively will be valuable no matter what aspect of data science interests you.\n",
        "\n",
        "\n"
      ]
    },
    {
      "cell_type": "markdown",
      "metadata": {
        "id": "PdiK1d_Y-a6N"
      },
      "source": [
        "#### Import the numpy package using np as an alias\n",
        "\n",
        "Remember: this line is required to use NumPy"
      ]
    },
    {
      "cell_type": "code",
      "metadata": {
        "id": "iks8Z-Xf-S8k"
      },
      "source": [
        "import numpy as np"
      ],
      "execution_count": 1,
      "outputs": []
    },
    {
      "cell_type": "markdown",
      "metadata": {
        "id": "SdLfj_D9_def"
      },
      "source": [
        "## Lists in Python"
      ]
    },
    {
      "cell_type": "markdown",
      "metadata": {
        "id": "Cf8RWu39UXmb"
      },
      "source": [
        "#### Create a list containing the values 1, 3, and 5"
      ]
    },
    {
      "cell_type": "code",
      "metadata": {
        "id": "zlCgDA_C_g1a",
        "colab": {
          "base_uri": "https://localhost:8080/"
        },
        "outputId": "df15651d-0bbe-4c93-e9ea-6f9e07111de5"
      },
      "source": [
        "[1,3,5]"
      ],
      "execution_count": 3,
      "outputs": [
        {
          "output_type": "execute_result",
          "data": {
            "text/plain": [
              "[1, 3, 5]"
            ]
          },
          "metadata": {
            "tags": []
          },
          "execution_count": 3
        }
      ]
    },
    {
      "cell_type": "markdown",
      "metadata": {
        "id": "E7yEOLNuXRyS"
      },
      "source": [
        "#### Create a list containing the values from 0 to 9 using the range function and assign it to L"
      ]
    },
    {
      "cell_type": "code",
      "metadata": {
        "id": "He_YAzYQXRy0",
        "colab": {
          "base_uri": "https://localhost:8080/"
        },
        "outputId": "73dbfd9b-6b5d-4391-b81c-8bb6f7e977f3"
      },
      "source": [
        "L = list(range(0, 10)) # range(10) default start from 0\n",
        "L"
      ],
      "execution_count": 22,
      "outputs": [
        {
          "output_type": "execute_result",
          "data": {
            "text/plain": [
              "[0, 1, 2, 3, 4, 5, 6, 7, 8, 9]"
            ]
          },
          "metadata": {
            "tags": []
          },
          "execution_count": 22
        }
      ]
    },
    {
      "cell_type": "markdown",
      "metadata": {
        "id": "7wf0YJyNXRzJ"
      },
      "source": [
        "#### Print the first element of list L\n",
        "\n",
        "Remember: use [ ] notation to index a list"
      ]
    },
    {
      "cell_type": "code",
      "metadata": {
        "id": "f9KxYYflUnYw",
        "colab": {
          "base_uri": "https://localhost:8080/"
        },
        "outputId": "65e59f93-90a4-4ce0-d0aa-ce500f0194d8"
      },
      "source": [
        "L[0]"
      ],
      "execution_count": 5,
      "outputs": [
        {
          "output_type": "execute_result",
          "data": {
            "text/plain": [
              "0"
            ]
          },
          "metadata": {
            "tags": []
          },
          "execution_count": 5
        }
      ]
    },
    {
      "cell_type": "markdown",
      "metadata": {
        "id": "tVjdXQul_g7Z"
      },
      "source": [
        "## Arrays in Python"
      ]
    },
    {
      "cell_type": "markdown",
      "metadata": {
        "id": "z55-GuVvXiG2"
      },
      "source": [
        "### Creating Arrays From Python Lists"
      ]
    },
    {
      "cell_type": "markdown",
      "metadata": {
        "id": "37PNUFmBWksV"
      },
      "source": [
        "#### Create an array containing the values [5, 4, 3, 2, 1] and store is in A\n",
        "\n",
        "Remember: the np.array is used to create an array from a list"
      ]
    },
    {
      "cell_type": "code",
      "metadata": {
        "id": "lJORfgKIUmzI",
        "colab": {
          "base_uri": "https://localhost:8080/"
        },
        "outputId": "113c9c55-c063-47a9-b6fd-eab18cb90af8"
      },
      "source": [
        "A = np.array(range(5, 0, -1))\n",
        "A"
      ],
      "execution_count": 13,
      "outputs": [
        {
          "output_type": "execute_result",
          "data": {
            "text/plain": [
              "array([5, 4, 3, 2, 1])"
            ]
          },
          "metadata": {
            "tags": []
          },
          "execution_count": 13
        }
      ]
    },
    {
      "cell_type": "markdown",
      "metadata": {
        "id": "wn-CKlYLW2oq"
      },
      "source": [
        "#### Print the datatype of array A"
      ]
    },
    {
      "cell_type": "code",
      "metadata": {
        "id": "x-7AhYbC_oCk",
        "colab": {
          "base_uri": "https://localhost:8080/"
        },
        "outputId": "201a791e-a342-4903-ed8c-d41db134f0ca"
      },
      "source": [
        "A.dtype"
      ],
      "execution_count": 19,
      "outputs": [
        {
          "output_type": "execute_result",
          "data": {
            "text/plain": [
              "dtype('int64')"
            ]
          },
          "metadata": {
            "tags": []
          },
          "execution_count": 19
        }
      ]
    },
    {
      "cell_type": "markdown",
      "metadata": {
        "id": "KysUGinnXR0E"
      },
      "source": [
        "#### What is the expected datatype of this array? Why?\n",
        "\n",
        "Enter the expected datatype between quotation marks"
      ]
    },
    {
      "cell_type": "code",
      "metadata": {
        "id": "GLLBKq6uXR0G",
        "colab": {
          "base_uri": "https://localhost:8080/"
        },
        "outputId": "d794e7db-7e40-4c79-9f20-ac802856d944"
      },
      "source": [
        "A2 = np.array([3.14, 4, 2, 3])\n",
        "A2.dtype == 'float'"
      ],
      "execution_count": 18,
      "outputs": [
        {
          "output_type": "execute_result",
          "data": {
            "text/plain": [
              "True"
            ]
          },
          "metadata": {
            "tags": []
          },
          "execution_count": 18
        }
      ]
    },
    {
      "cell_type": "markdown",
      "metadata": {
        "id": "baR3Z_3aXQzg"
      },
      "source": [
        "#### Create a multidimesional array from a multidimesional list \n",
        "\n",
        "Remember: multidimentional list = list containing lists"
      ]
    },
    {
      "cell_type": "code",
      "metadata": {
        "id": "hmiR6lk6XXj3",
        "colab": {
          "base_uri": "https://localhost:8080/"
        },
        "outputId": "565c61bb-c087-4045-b161-377b9156e5fa"
      },
      "source": [
        "np.array([[1, 2, 3], \n",
        "          [4, 5, 6], \n",
        "          [7, 8, 9]])"
      ],
      "execution_count": 24,
      "outputs": [
        {
          "output_type": "execute_result",
          "data": {
            "text/plain": [
              "array([[1, 2, 3],\n",
              "       [4, 5, 6],\n",
              "       [7, 8, 9]])"
            ]
          },
          "metadata": {
            "tags": []
          },
          "execution_count": 24
        }
      ]
    },
    {
      "cell_type": "markdown",
      "metadata": {
        "id": "Ea6bZnYZXmS_"
      },
      "source": [
        "### Creating Arrays from Scratch"
      ]
    },
    {
      "cell_type": "markdown",
      "metadata": {
        "id": "FV8fB0y3XySE"
      },
      "source": [
        "#### NumPy has a variety of functions for efficiently creating arrays. In this section, use built-in NumPy functions to solve these problems\n",
        "\n",
        "\n",
        "Remember: many NumPy functions take an arbitrary shape as input\n",
        "\n",
        "Example: np.ones((2, 2)) creates a 2x2 array of ones"
      ]
    },
    {
      "cell_type": "markdown",
      "metadata": {
        "id": "5oDROiTUXR0U"
      },
      "source": [
        "#### Create an integer array with 100 ones"
      ]
    },
    {
      "cell_type": "code",
      "metadata": {
        "id": "9SZ2FDADXpgV",
        "colab": {
          "base_uri": "https://localhost:8080/"
        },
        "outputId": "0e14dc7d-33b0-49fe-e727-12d6431d8471"
      },
      "source": [
        "np.ones(100) # but the default is float\n",
        "np.ones(100, dtype='int') # int32, int64"
      ],
      "execution_count": 33,
      "outputs": [
        {
          "output_type": "execute_result",
          "data": {
            "text/plain": [
              "array([1, 1, 1, 1, 1, 1, 1, 1, 1, 1, 1, 1, 1, 1, 1, 1, 1, 1, 1, 1, 1, 1,\n",
              "       1, 1, 1, 1, 1, 1, 1, 1, 1, 1, 1, 1, 1, 1, 1, 1, 1, 1, 1, 1, 1, 1,\n",
              "       1, 1, 1, 1, 1, 1, 1, 1, 1, 1, 1, 1, 1, 1, 1, 1, 1, 1, 1, 1, 1, 1,\n",
              "       1, 1, 1, 1, 1, 1, 1, 1, 1, 1, 1, 1, 1, 1, 1, 1, 1, 1, 1, 1, 1, 1,\n",
              "       1, 1, 1, 1, 1, 1, 1, 1, 1, 1, 1, 1])"
            ]
          },
          "metadata": {
            "tags": []
          },
          "execution_count": 33
        }
      ]
    },
    {
      "cell_type": "markdown",
      "metadata": {
        "id": "dXAEoe_UXR0a"
      },
      "source": [
        "#### Create a (4, 3) float array filled with zeros"
      ]
    },
    {
      "cell_type": "code",
      "metadata": {
        "id": "Mq7tGj2IXR0d",
        "colab": {
          "base_uri": "https://localhost:8080/"
        },
        "outputId": "16f24046-cf8e-4795-d1d3-bd95f317be69"
      },
      "source": [
        "np.zeros((4, 3)) # still float"
      ],
      "execution_count": 26,
      "outputs": [
        {
          "output_type": "execute_result",
          "data": {
            "text/plain": [
              "array([[0., 0., 0.],\n",
              "       [0., 0., 0.],\n",
              "       [0., 0., 0.],\n",
              "       [0., 0., 0.]])"
            ]
          },
          "metadata": {
            "tags": []
          },
          "execution_count": 26
        }
      ]
    },
    {
      "cell_type": "markdown",
      "metadata": {
        "id": "6AS1UcxFXR0j"
      },
      "source": [
        "#### Create a (5, 2) array filled with 6.28"
      ]
    },
    {
      "cell_type": "code",
      "metadata": {
        "id": "hF9Z27-oXplK",
        "colab": {
          "base_uri": "https://localhost:8080/"
        },
        "outputId": "73eca4b2-01b5-4091-fa41-b3a3ed0340e8"
      },
      "source": [
        "np.full((5, 2), 5.28) # !!!!!!!!!!!!!!!!!!!!!!!!!!!!"
      ],
      "execution_count": 36,
      "outputs": [
        {
          "output_type": "execute_result",
          "data": {
            "text/plain": [
              "array([[5.28, 5.28],\n",
              "       [5.28, 5.28],\n",
              "       [5.28, 5.28],\n",
              "       [5.28, 5.28],\n",
              "       [5.28, 5.28]])"
            ]
          },
          "metadata": {
            "tags": []
          },
          "execution_count": 36
        }
      ]
    },
    {
      "cell_type": "markdown",
      "metadata": {
        "id": "8vsyVk0xXR0q"
      },
      "source": [
        "#### Create an array filled with a linear sequence, started at 0, ending at 30, stepping by 3\n",
        "\n",
        "Remember: for np.arange, the first parameter is inclusive, and the second parameter is exclusive, the expected array will contain 0 and not contain 30"
      ]
    },
    {
      "cell_type": "code",
      "metadata": {
        "id": "xnQwpisIXpnT",
        "colab": {
          "base_uri": "https://localhost:8080/"
        },
        "outputId": "23fa70ae-119a-4d76-d853-7e00f519b2c9"
      },
      "source": [
        "np.arange(0, 31, 3)"
      ],
      "execution_count": 39,
      "outputs": [
        {
          "output_type": "execute_result",
          "data": {
            "text/plain": [
              "array([ 0,  3,  6,  9, 12, 15, 18, 21, 24, 27, 30])"
            ]
          },
          "metadata": {
            "tags": []
          },
          "execution_count": 39
        }
      ]
    },
    {
      "cell_type": "markdown",
      "metadata": {
        "id": "AZ0-gvJKXR0y"
      },
      "source": [
        "#### Create an array of 9 evenly  spaced values between 0 and 64 inclusive"
      ]
    },
    {
      "cell_type": "code",
      "metadata": {
        "id": "eKeSVZChZnug",
        "colab": {
          "base_uri": "https://localhost:8080/"
        },
        "outputId": "54928f0b-3b99-4a48-841b-d0181045195f"
      },
      "source": [
        "np.linspace(0, 64, 9) # linearly spaced"
      ],
      "execution_count": 3,
      "outputs": [
        {
          "output_type": "execute_result",
          "data": {
            "text/plain": [
              "array([ 0.,  8., 16., 24., 32., 40., 48., 56., 64.])"
            ]
          },
          "metadata": {
            "tags": []
          },
          "execution_count": 3
        }
      ]
    },
    {
      "cell_type": "markdown",
      "metadata": {
        "id": "DFubsB-gXR05"
      },
      "source": [
        "#### Create a (5, 2) array of uniformaly distributed random values between 0 and 1"
      ]
    },
    {
      "cell_type": "code",
      "metadata": {
        "id": "YNrI5UTiZxP5",
        "colab": {
          "base_uri": "https://localhost:8080/"
        },
        "outputId": "4723c005-a9c4-4ef3-9021-e726fe940153"
      },
      "source": [
        "np.random.random((5, 2))"
      ],
      "execution_count": 4,
      "outputs": [
        {
          "output_type": "execute_result",
          "data": {
            "text/plain": [
              "array([[0.33991539, 0.27668462],\n",
              "       [0.0075508 , 0.75886765],\n",
              "       [0.38715215, 0.24385351],\n",
              "       [0.05690089, 0.84978539],\n",
              "       [0.49817448, 0.99785013]])"
            ]
          },
          "metadata": {
            "tags": []
          },
          "execution_count": 4
        }
      ]
    },
    {
      "cell_type": "markdown",
      "metadata": {
        "id": "Y16kNpnFXR1C"
      },
      "source": [
        "#### Create an array of 10 random integers in the interval [0, 5]"
      ]
    },
    {
      "cell_type": "code",
      "metadata": {
        "id": "LWEpGXNNZ-Dv",
        "colab": {
          "base_uri": "https://localhost:8080/"
        },
        "outputId": "c524643f-cef3-460f-8aca-cdfedf4b9c37"
      },
      "source": [
        "np.random.randint(0, 6, 10) # high is a 6, not 5"
      ],
      "execution_count": 7,
      "outputs": [
        {
          "output_type": "execute_result",
          "data": {
            "text/plain": [
              "array([5, 3, 0, 0, 2, 5, 4, 5, 5, 0])"
            ]
          },
          "metadata": {
            "tags": []
          },
          "execution_count": 7
        }
      ]
    },
    {
      "cell_type": "markdown",
      "metadata": {
        "id": "t40-aqSqXR1N"
      },
      "source": [
        "#### Create a (4, 4) identity matrix"
      ]
    },
    {
      "cell_type": "code",
      "metadata": {
        "id": "Kxr1cNnmajaR",
        "colab": {
          "base_uri": "https://localhost:8080/"
        },
        "outputId": "308617a4-3fb1-4f6d-b039-401ff697c4ea"
      },
      "source": [
        "np.eye(4)"
      ],
      "execution_count": 8,
      "outputs": [
        {
          "output_type": "execute_result",
          "data": {
            "text/plain": [
              "array([[1., 0., 0., 0.],\n",
              "       [0., 1., 0., 0.],\n",
              "       [0., 0., 1., 0.],\n",
              "       [0., 0., 0., 1.]])"
            ]
          },
          "metadata": {
            "tags": []
          },
          "execution_count": 8
        }
      ]
    },
    {
      "cell_type": "markdown",
      "metadata": {
        "id": "chHIu2xUXR1T"
      },
      "source": [
        "#### Understanding the built-in NumPy functions is crucial to understanding NumPy so practice using these functions on your own"
      ]
    },
    {
      "cell_type": "markdown",
      "metadata": {
        "id": "feQeb3ofc5YN"
      },
      "source": [
        "## NumPy Standard Data Types\n",
        "\n",
        "#### Understanding NumPy datatypes will give you an advantage in the furture so spend time looking at this table"
      ]
    },
    {
      "cell_type": "markdown",
      "metadata": {
        "id": "uNycGTzEc7BI"
      },
      "source": [
        "| Data type\t    | Description |\n",
        "|---------------|-------------|\n",
        "| ``bool_``     | Boolean (True or False) stored as a byte |\n",
        "| ``int_``      | Default integer type (same as C ``long``; normally either ``int64`` or ``int32``)| \n",
        "| ``intc``      | Identical to C ``int`` (normally ``int32`` or ``int64``)| \n",
        "| ``intp``      | Integer used for indexing (same as C ``ssize_t``; normally either ``int32`` or ``int64``)| \n",
        "| ``int8``      | Byte (-128 to 127)| \n",
        "| ``int16``     | Integer (-32768 to 32767)|\n",
        "| ``int32``     | Integer (-2147483648 to 2147483647)|\n",
        "| ``int64``     | Integer (-9223372036854775808 to 9223372036854775807)| \n",
        "| ``uint8``     | Unsigned integer (0 to 255)| \n",
        "| ``uint16``    | Unsigned integer (0 to 65535)| \n",
        "| ``uint32``    | Unsigned integer (0 to 4294967295)| \n",
        "| ``uint64``    | Unsigned integer (0 to 18446744073709551615)| \n",
        "| ``float_``    | Shorthand for ``float64``.| \n",
        "| ``float16``   | Half precision float: sign bit, 5 bits exponent, 10 bits mantissa| \n",
        "| ``float32``   | Single precision float: sign bit, 8 bits exponent, 23 bits mantissa| \n",
        "| ``float64``   | Double precision float: sign bit, 11 bits exponent, 52 bits mantissa| \n",
        "| ``complex_``  | Shorthand for ``complex128``.| \n",
        "| ``complex64`` | Complex number, represented by two 32-bit floats| \n",
        "| ``complex128``| Complex number, represented by two 64-bit floats| "
      ]
    }
  ]
}