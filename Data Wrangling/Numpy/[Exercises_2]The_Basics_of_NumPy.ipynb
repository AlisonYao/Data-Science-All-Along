{
  "nbformat": 4,
  "nbformat_minor": 0,
  "metadata": {
    "colab": {
      "name": "[Exercises-2]The-Basics-of-NumPy.ipynb",
      "provenance": [],
      "collapsed_sections": [
        "D-eXObNjcuJj",
        "unm92bi6cuJn",
        "RTJ2diaKcuJr",
        "1tF0LnWRcuJu",
        "g5H3ro4UcuJy",
        "1vNKASdfkYrl",
        "1PsqjJN6kYro",
        "FAygYumqcuJ6",
        "pDNrwejJcuKB",
        "w0rE7ibxkYru",
        "2K44PjbvkYry",
        "h8P6jrKGcuKN",
        "lii8RuFIcuKV",
        "1wFnOHlukYr7",
        "v6QSGrSMkYr_",
        "Lvpj2gNScuKn"
      ],
      "toc_visible": true
    },
    "kernelspec": {
      "display_name": "Python 3",
      "language": "python",
      "name": "python3"
    },
    "language_info": {
      "codemirror_mode": {
        "name": "ipython",
        "version": 3
      },
      "file_extension": ".py",
      "mimetype": "text/x-python",
      "name": "python",
      "nbconvert_exporter": "python",
      "pygments_lexer": "ipython3",
      "version": "3.7.3"
    }
  },
  "cells": [
    {
      "cell_type": "markdown",
      "metadata": {
        "id": "wb0PmFpoG9ay"
      },
      "source": [
        "![sslogo](https://github.com/stratascratch/stratascratch.github.io/raw/master/assets/sslogo.jpg)"
      ]
    },
    {
      "cell_type": "markdown",
      "metadata": {
        "id": "AqqtfpRig2MV"
      },
      "source": [
        "https://www.youtube.com/watch?v=Yk3H3VRDfm0&list=PLv6MQO1ZzdmqKVL03HnslbBCDEoqS78Nm&index=3\n",
        "\n",
        "https://www.youtube.com/watch?v=STJA-D-K9Cs&list=PLv6MQO1ZzdmqKVL03HnslbBCDEoqS78Nm&index=4\n",
        "\n",
        "https://www.youtube.com/watch?v=0hjTJw9Jpmc&list=PLv6MQO1ZzdmqKVL03HnslbBCDEoqS78Nm&index=5"
      ]
    },
    {
      "cell_type": "markdown",
      "metadata": {
        "id": "IYAgU4Q5cuJi"
      },
      "source": [
        "# The Basics of NumPy Arrays"
      ]
    },
    {
      "cell_type": "markdown",
      "metadata": {
        "id": "yRklNPBbcuJj"
      },
      "source": [
        "Data manipulation in Python is nearly synonymous with NumPy array manipulation: even newer tools like Pandas are built around the NumPy array.\n",
        "We'll present several examples of using NumPy array manipulation to access data and subarrays, and to split, reshape, and join the arrays.\n",
        "While the types of operations shown here may seem a bit dry and pedantic, they comprise the building blocks of many other examples used in python.\n",
        "\n",
        "We'll cover a few categories of basic array manipulations here:\n",
        "\n",
        "- *Attributes of arrays*: Determining the size, shape, memory consumption, and data types of arrays\n",
        "- *Indexing of arrays*: Getting and setting the value of individual array elements\n",
        "- *Slicing of arrays*: Getting and setting smaller subarrays within a larger array\n",
        "- *Reshaping of arrays*: Changing the shape of a given array\n",
        "- *Joining and splitting of arrays*: Combining multiple arrays into one, and splitting one array into many"
      ]
    },
    {
      "cell_type": "markdown",
      "metadata": {
        "id": "PdiK1d_Y-a6N"
      },
      "source": [
        "#### Import the numpy package using np as an alias"
      ]
    },
    {
      "cell_type": "code",
      "metadata": {
        "id": "iks8Z-Xf-S8k"
      },
      "source": [
        "import numpy as np"
      ],
      "execution_count": 24,
      "outputs": []
    },
    {
      "cell_type": "markdown",
      "metadata": {
        "id": "58m5-6h-kYrZ"
      },
      "source": [
        "#### For the following questions x1, x2, and x3 refer to the arrays created below. Run this code to get started."
      ]
    },
    {
      "cell_type": "code",
      "metadata": {
        "id": "pswjqtaqcuJl"
      },
      "source": [
        "np.random.seed(1)  # seed for reproducibility\n",
        "\n",
        "x1 = np.random.randint(10, size=9)  # One-dimensional array\n",
        "x2 = np.random.randint(10, size=(3, 3))  # Two-dimensional array\n",
        "x3 = np.random.randint(10, size=(5, 4, 3))  # Three-dimensional array "
      ],
      "execution_count": 20,
      "outputs": []
    },
    {
      "cell_type": "markdown",
      "metadata": {
        "id": "D-eXObNjcuJj"
      },
      "source": [
        "## NumPy Array Attributes"
      ]
    },
    {
      "cell_type": "markdown",
      "metadata": {
        "id": "unm92bi6cuJn"
      },
      "source": [
        "#### Print the ndim, shape, and size attributes of x2. The print code has already been created for you."
      ]
    },
    {
      "cell_type": "code",
      "metadata": {
        "id": "dppjzRo-cuJo",
        "colab": {
          "base_uri": "https://localhost:8080/"
        },
        "outputId": "ca23197b-3e48-4e8e-eb41-fd5d13e779db"
      },
      "source": [
        "print(\"x2 ndim:\", x2.ndim)\n",
        "print(\"x2 shape:\", x2.shape)\n",
        "print(\"x2 size:\", x2.size)"
      ],
      "execution_count": 4,
      "outputs": [
        {
          "output_type": "stream",
          "text": [
            "x2 ndim:  2\n",
            "x2 shape: (3, 3)\n",
            "x2 size:  9\n"
          ],
          "name": "stdout"
        }
      ]
    },
    {
      "cell_type": "markdown",
      "metadata": {
        "id": "RTJ2diaKcuJr"
      },
      "source": [
        "#### Print the dtype of x2\n",
        "\n",
        "Remember: arrays have a single datatype for all elements"
      ]
    },
    {
      "cell_type": "code",
      "metadata": {
        "id": "zRsvXUsTcuJr",
        "colab": {
          "base_uri": "https://localhost:8080/"
        },
        "outputId": "1659a7dd-2f7b-4c10-a782-ebc4dd2a938f"
      },
      "source": [
        "print(\"dtype:\", x2.dtype)"
      ],
      "execution_count": 5,
      "outputs": [
        {
          "output_type": "stream",
          "text": [
            "dtype: int64\n"
          ],
          "name": "stdout"
        }
      ]
    },
    {
      "cell_type": "markdown",
      "metadata": {
        "id": "1tF0LnWRcuJu"
      },
      "source": [
        "#### Print the itemsize and nbytes of x2"
      ]
    },
    {
      "cell_type": "code",
      "metadata": {
        "id": "pI6x-X_EcuJv",
        "colab": {
          "base_uri": "https://localhost:8080/"
        },
        "outputId": "b7a245d0-433c-4c95-a9e9-5a4cbaf83286"
      },
      "source": [
        "print(\"itemsize:\", x2.itemsize, \"bytes\") # one int64 takes up 8 bytes\n",
        "print(\"nbytes:\",  x2.nbytes, \"bytes\") # 8 * 9 = 72"
      ],
      "execution_count": 7,
      "outputs": [
        {
          "output_type": "stream",
          "text": [
            "itemsize: 8 bytes\n",
            "nbytes: 72 bytes\n"
          ],
          "name": "stdout"
        }
      ]
    },
    {
      "cell_type": "markdown",
      "metadata": {
        "id": "g5H3ro4UcuJy"
      },
      "source": [
        "## Array Indexing: Accessing Single Elements"
      ]
    },
    {
      "cell_type": "markdown",
      "metadata": {
        "id": "1vNKASdfkYrl"
      },
      "source": [
        "#### Print the first element of x1"
      ]
    },
    {
      "cell_type": "code",
      "metadata": {
        "colab": {
          "base_uri": "https://localhost:8080/"
        },
        "id": "dqBGLbqJAVYQ",
        "outputId": "bef95eb2-de39-4d7b-ff17-99db285e78c9"
      },
      "source": [
        "x1"
      ],
      "execution_count": 9,
      "outputs": [
        {
          "output_type": "execute_result",
          "data": {
            "text/plain": [
              "array([5, 8, 9, 5, 0, 0, 1, 7, 6])"
            ]
          },
          "metadata": {
            "tags": []
          },
          "execution_count": 9
        }
      ]
    },
    {
      "cell_type": "code",
      "metadata": {
        "id": "F1fh2yG_cuJz",
        "colab": {
          "base_uri": "https://localhost:8080/"
        },
        "outputId": "be2c0049-c66a-4b5a-e11f-f7e017cad18a"
      },
      "source": [
        "x1[0]"
      ],
      "execution_count": 8,
      "outputs": [
        {
          "output_type": "execute_result",
          "data": {
            "text/plain": [
              "5"
            ]
          },
          "metadata": {
            "tags": []
          },
          "execution_count": 8
        }
      ]
    },
    {
      "cell_type": "markdown",
      "metadata": {
        "id": "1PsqjJN6kYro"
      },
      "source": [
        "#### Print the fifth element of x1"
      ]
    },
    {
      "cell_type": "code",
      "metadata": {
        "id": "js4RYgV2cuJ2",
        "colab": {
          "base_uri": "https://localhost:8080/"
        },
        "outputId": "de4ad4ac-4052-4efa-bdfa-c47699737310"
      },
      "source": [
        "x1[4]"
      ],
      "execution_count": 10,
      "outputs": [
        {
          "output_type": "execute_result",
          "data": {
            "text/plain": [
              "0"
            ]
          },
          "metadata": {
            "tags": []
          },
          "execution_count": 10
        }
      ]
    },
    {
      "cell_type": "markdown",
      "metadata": {
        "id": "FAygYumqcuJ6"
      },
      "source": [
        "#### Print the second to last element of x1 using negative indicies"
      ]
    },
    {
      "cell_type": "code",
      "metadata": {
        "id": "K2Po__2ycuJ7",
        "colab": {
          "base_uri": "https://localhost:8080/"
        },
        "outputId": "05894b4f-d003-4983-a624-3e6c23906d99"
      },
      "source": [
        "x1[-2]"
      ],
      "execution_count": 14,
      "outputs": [
        {
          "output_type": "execute_result",
          "data": {
            "text/plain": [
              "7"
            ]
          },
          "metadata": {
            "tags": []
          },
          "execution_count": 14
        }
      ]
    },
    {
      "cell_type": "markdown",
      "metadata": {
        "id": "pDNrwejJcuKB"
      },
      "source": [
        "### multi-dimensional array indexing "
      ]
    },
    {
      "cell_type": "markdown",
      "metadata": {
        "id": "w0rE7ibxkYru"
      },
      "source": [
        "#### Print the element at position (0,2) of x2"
      ]
    },
    {
      "cell_type": "code",
      "metadata": {
        "colab": {
          "base_uri": "https://localhost:8080/"
        },
        "id": "pCBS9fQxMxEh",
        "outputId": "6b0c5017-2d21-4ee5-c9ed-19d7b92719e1"
      },
      "source": [
        "x2"
      ],
      "execution_count": 15,
      "outputs": [
        {
          "output_type": "execute_result",
          "data": {
            "text/plain": [
              "array([[9, 2, 4],\n",
              "       [5, 2, 4],\n",
              "       [2, 4, 7]])"
            ]
          },
          "metadata": {
            "tags": []
          },
          "execution_count": 15
        }
      ]
    },
    {
      "cell_type": "code",
      "metadata": {
        "id": "aS8nVs3WcuKE",
        "colab": {
          "base_uri": "https://localhost:8080/"
        },
        "outputId": "3f981b58-9b67-49fc-ead8-42961154e70d"
      },
      "source": [
        "x2[0, 2]"
      ],
      "execution_count": 16,
      "outputs": [
        {
          "output_type": "execute_result",
          "data": {
            "text/plain": [
              "4"
            ]
          },
          "metadata": {
            "tags": []
          },
          "execution_count": 16
        }
      ]
    },
    {
      "cell_type": "markdown",
      "metadata": {
        "id": "2K44PjbvkYry"
      },
      "source": [
        "#### Print the second element of the last row of x2 using positive and negative indicies "
      ]
    },
    {
      "cell_type": "code",
      "metadata": {
        "id": "EcxwyJUlcuKG",
        "colab": {
          "base_uri": "https://localhost:8080/"
        },
        "outputId": "b8927ea9-289c-4c23-a28f-d7a9ded7e0b8"
      },
      "source": [
        "x2[-1, 1]"
      ],
      "execution_count": 17,
      "outputs": [
        {
          "output_type": "execute_result",
          "data": {
            "text/plain": [
              "4"
            ]
          },
          "metadata": {
            "tags": []
          },
          "execution_count": 17
        }
      ]
    },
    {
      "cell_type": "markdown",
      "metadata": {
        "id": "h8P6jrKGcuKN"
      },
      "source": [
        "#### Assign a value of 25 to the first element of the last row of x2\n",
        "\n",
        "Remember: arrays have a fixed type, assigning a value of a different type will cause NumPy to implicitly change the type, this can lead to hard to find errors"
      ]
    },
    {
      "cell_type": "code",
      "metadata": {
        "id": "-b58yYgcbcZq",
        "colab": {
          "base_uri": "https://localhost:8080/"
        },
        "outputId": "52174c2b-612e-4f2e-c766-6c936d22be52"
      },
      "source": [
        "x2[-1, 0] = 25\n",
        "x2"
      ],
      "execution_count": 18,
      "outputs": [
        {
          "output_type": "execute_result",
          "data": {
            "text/plain": [
              "array([[ 9,  2,  4],\n",
              "       [ 5,  2,  4],\n",
              "       [25,  4,  7]])"
            ]
          },
          "metadata": {
            "tags": []
          },
          "execution_count": 18
        }
      ]
    },
    {
      "cell_type": "markdown",
      "metadata": {
        "id": "mSF3UgWhcuKU"
      },
      "source": [
        "## Array Slicing: Accessing Subarrays"
      ]
    },
    {
      "cell_type": "markdown",
      "metadata": {
        "id": "xvSLPxdhcuKV"
      },
      "source": [
        "Remember: a slice of an array is not a clone, changing an element in an array slice will change that element in the original array and vice versa"
      ]
    },
    {
      "cell_type": "markdown",
      "metadata": {
        "id": "lii8RuFIcuKV"
      },
      "source": [
        "### One-dimensional subarrays"
      ]
    },
    {
      "cell_type": "code",
      "metadata": {
        "id": "HY6kQJTNcuKW",
        "colab": {
          "base_uri": "https://localhost:8080/"
        },
        "outputId": "ef3686e9-8a44-444a-e590-806926446b34"
      },
      "source": [
        "x1"
      ],
      "execution_count": 21,
      "outputs": [
        {
          "output_type": "execute_result",
          "data": {
            "text/plain": [
              "array([5, 8, 9, 5, 0, 0, 1, 7, 6])"
            ]
          },
          "metadata": {
            "tags": []
          },
          "execution_count": 21
        }
      ]
    },
    {
      "cell_type": "markdown",
      "metadata": {
        "id": "1wFnOHlukYr7"
      },
      "source": [
        "#### Create a slice containing the last 5 elements of x1"
      ]
    },
    {
      "cell_type": "code",
      "metadata": {
        "id": "4QZwDOoBcuKY",
        "colab": {
          "base_uri": "https://localhost:8080/"
        },
        "outputId": "26f2ad0a-4316-470e-fc4f-0545850f27f1"
      },
      "source": [
        "x1[-5:]"
      ],
      "execution_count": 22,
      "outputs": [
        {
          "output_type": "execute_result",
          "data": {
            "text/plain": [
              "array([0, 0, 1, 7, 6])"
            ]
          },
          "metadata": {
            "tags": []
          },
          "execution_count": 22
        }
      ]
    },
    {
      "cell_type": "markdown",
      "metadata": {
        "id": "v6QSGrSMkYr_"
      },
      "source": [
        "#### Create a slice containing every third element starting at the second element  of x1"
      ]
    },
    {
      "cell_type": "code",
      "metadata": {
        "id": "_OOgvRuXcuKa",
        "colab": {
          "base_uri": "https://localhost:8080/"
        },
        "outputId": "7a6dd427-8244-4e17-ce69-9afa00111489"
      },
      "source": [
        "x1[1::3]"
      ],
      "execution_count": 26,
      "outputs": [
        {
          "output_type": "execute_result",
          "data": {
            "text/plain": [
              "array([8, 0, 7])"
            ]
          },
          "metadata": {
            "tags": []
          },
          "execution_count": 26
        }
      ]
    },
    {
      "cell_type": "markdown",
      "metadata": {
        "id": "Lvpj2gNScuKn"
      },
      "source": [
        "#### Create a slice where x1 has been reversed"
      ]
    },
    {
      "cell_type": "code",
      "metadata": {
        "id": "iwzRaEkYcuKp",
        "colab": {
          "base_uri": "https://localhost:8080/"
        },
        "outputId": "90964399-8d9a-41b1-82da-e68981cfa986"
      },
      "source": [
        "x1[::-1]"
      ],
      "execution_count": 25,
      "outputs": [
        {
          "output_type": "execute_result",
          "data": {
            "text/plain": [
              "array([6, 7, 1, 0, 0, 5, 9, 8, 5])"
            ]
          },
          "metadata": {
            "tags": []
          },
          "execution_count": 25
        }
      ]
    },
    {
      "cell_type": "markdown",
      "metadata": {
        "id": "WaGrrSa1cuKt"
      },
      "source": [
        "### Multi-dimensional subarrays\n"
      ]
    },
    {
      "cell_type": "code",
      "metadata": {
        "id": "P422h-y9cuKt",
        "colab": {
          "base_uri": "https://localhost:8080/"
        },
        "outputId": "4b3eb146-c174-4a25-fafa-d0a9d95dcbda"
      },
      "source": [
        "x2"
      ],
      "execution_count": 27,
      "outputs": [
        {
          "output_type": "execute_result",
          "data": {
            "text/plain": [
              "array([[9, 2, 4],\n",
              "       [5, 2, 4],\n",
              "       [2, 4, 7]])"
            ]
          },
          "metadata": {
            "tags": []
          },
          "execution_count": 27
        }
      ]
    },
    {
      "cell_type": "markdown",
      "metadata": {
        "id": "gEjjuoWekYsK"
      },
      "source": [
        "#### Create a slice containing the first two rows and first column of x2"
      ]
    },
    {
      "cell_type": "code",
      "metadata": {
        "id": "T6kEGlYRcuKv",
        "colab": {
          "base_uri": "https://localhost:8080/"
        },
        "outputId": "df5e8049-1367-4a2c-b9d2-50e117f214b1"
      },
      "source": [
        "x2[:2, :1]"
      ],
      "execution_count": 32,
      "outputs": [
        {
          "output_type": "execute_result",
          "data": {
            "text/plain": [
              "array([[9],\n",
              "       [5]])"
            ]
          },
          "metadata": {
            "tags": []
          },
          "execution_count": 32
        }
      ]
    },
    {
      "cell_type": "markdown",
      "metadata": {
        "id": "iwZsEy_McuK0"
      },
      "source": [
        "#### Create a slice where the rows have been reversed for x2"
      ]
    },
    {
      "cell_type": "code",
      "metadata": {
        "id": "2ZApHh_DcuK0",
        "colab": {
          "base_uri": "https://localhost:8080/"
        },
        "outputId": "c36f214d-8570-4ffc-ea18-9795a0ba7de5"
      },
      "source": [
        "x2[::-1, ::]"
      ],
      "execution_count": 33,
      "outputs": [
        {
          "output_type": "execute_result",
          "data": {
            "text/plain": [
              "array([[2, 4, 7],\n",
              "       [5, 2, 4],\n",
              "       [9, 2, 4]])"
            ]
          },
          "metadata": {
            "tags": []
          },
          "execution_count": 33
        }
      ]
    },
    {
      "cell_type": "markdown",
      "metadata": {
        "id": "kRyreM17cuK3"
      },
      "source": [
        "#### Print the first column of x2"
      ]
    },
    {
      "cell_type": "code",
      "metadata": {
        "id": "Pa2XjSAHcuK4",
        "colab": {
          "base_uri": "https://localhost:8080/"
        },
        "outputId": "bff2ce06-0083-40a2-95bb-870e3b6df077"
      },
      "source": [
        "x2[:, 0]"
      ],
      "execution_count": 34,
      "outputs": [
        {
          "output_type": "execute_result",
          "data": {
            "text/plain": [
              "array([9, 5, 2])"
            ]
          },
          "metadata": {
            "tags": []
          },
          "execution_count": 34
        }
      ]
    },
    {
      "cell_type": "markdown",
      "metadata": {
        "id": "TfJKZsnwkYsQ"
      },
      "source": [
        "#### Print the first row of x2"
      ]
    },
    {
      "cell_type": "code",
      "metadata": {
        "id": "G2FwyLl3cuK6",
        "colab": {
          "base_uri": "https://localhost:8080/"
        },
        "outputId": "c6c01fe9-6f69-4e5c-9c06-5381fc10c0ee"
      },
      "source": [
        "x2[0, :]"
      ],
      "execution_count": 35,
      "outputs": [
        {
          "output_type": "execute_result",
          "data": {
            "text/plain": [
              "array([9, 2, 4])"
            ]
          },
          "metadata": {
            "tags": []
          },
          "execution_count": 35
        }
      ]
    },
    {
      "cell_type": "markdown",
      "metadata": {
        "id": "_UIzOAv-kYsR"
      },
      "source": [
        "## Reshaping of Arrays\n"
      ]
    },
    {
      "cell_type": "markdown",
      "metadata": {
        "id": "T7WU16kgcuLU"
      },
      "source": [
        "\n",
        "#### Create a range from 1 to 16 and reshape it into a (2, 8) array\n",
        "\n",
        "Remember: the size of the original array must equal the size of the new array"
      ]
    },
    {
      "cell_type": "code",
      "metadata": {
        "id": "ePh8co48cuLU",
        "colab": {
          "base_uri": "https://localhost:8080/"
        },
        "outputId": "9c211944-9a96-4ee9-ed57-fcd6bb4291d7"
      },
      "source": [
        "x4 = np.arange(1, 17)\n",
        "x4"
      ],
      "execution_count": 45,
      "outputs": [
        {
          "output_type": "execute_result",
          "data": {
            "text/plain": [
              "array([ 1,  2,  3,  4,  5,  6,  7,  8,  9, 10, 11, 12, 13, 14, 15, 16])"
            ]
          },
          "metadata": {
            "tags": []
          },
          "execution_count": 45
        }
      ]
    },
    {
      "cell_type": "code",
      "metadata": {
        "colab": {
          "base_uri": "https://localhost:8080/"
        },
        "id": "m7nv4tjWqrWS",
        "outputId": "1939992f-4836-4839-e46a-c3c0ce32d965"
      },
      "source": [
        "x4.reshape((2, 8))"
      ],
      "execution_count": 42,
      "outputs": [
        {
          "output_type": "execute_result",
          "data": {
            "text/plain": [
              "array([[ 1,  2,  3,  4,  5,  6,  7,  8],\n",
              "       [ 9, 10, 11, 12, 13, 14, 15, 16]])"
            ]
          },
          "metadata": {
            "tags": []
          },
          "execution_count": 42
        }
      ]
    },
    {
      "cell_type": "markdown",
      "metadata": {
        "id": "7wlqXHtJkYsa"
      },
      "source": [
        "#### Reshape x1 into a 1 dimensional column using slice notation and np.newaxis"
      ]
    },
    {
      "cell_type": "code",
      "metadata": {
        "id": "1NTMe1lekYsS",
        "colab": {
          "base_uri": "https://localhost:8080/"
        },
        "outputId": "d0e86364-ba33-4d95-98f7-9325f809449f"
      },
      "source": [
        "x1[:, np.newaxis]"
      ],
      "execution_count": 48,
      "outputs": [
        {
          "output_type": "execute_result",
          "data": {
            "text/plain": [
              "array([[5],\n",
              "       [8],\n",
              "       [9],\n",
              "       [5],\n",
              "       [0],\n",
              "       [0],\n",
              "       [1],\n",
              "       [7],\n",
              "       [6]])"
            ]
          },
          "metadata": {
            "tags": []
          },
          "execution_count": 48
        }
      ]
    },
    {
      "cell_type": "code",
      "metadata": {
        "colab": {
          "base_uri": "https://localhost:8080/"
        },
        "id": "7KDRi9fZtCA5",
        "outputId": "14e0a98d-43d5-4654-86e9-6cea77f4c2fb"
      },
      "source": [
        "x1.shape, x1[:, np.newaxis].shape, x1[np.newaxis, :].shape"
      ],
      "execution_count": 52,
      "outputs": [
        {
          "output_type": "execute_result",
          "data": {
            "text/plain": [
              "((9,), (9, 1), (1, 9))"
            ]
          },
          "metadata": {
            "tags": []
          },
          "execution_count": 52
        }
      ]
    },
    {
      "cell_type": "markdown",
      "metadata": {
        "id": "_rJwPwLEcuLe"
      },
      "source": [
        "## Array Concatenation and Splitting"
      ]
    },
    {
      "cell_type": "markdown",
      "metadata": {
        "id": "iRtBfy3BcuLe"
      },
      "source": [
        "### Concatenation of arrays\n",
        "\n",
        "\n",
        "#### Concatenate arrays x and y"
      ]
    },
    {
      "cell_type": "code",
      "metadata": {
        "id": "Ew99dGPacuLe",
        "colab": {
          "base_uri": "https://localhost:8080/"
        },
        "outputId": "530d2e48-f5bf-4b9d-b3db-f2ab66e0292e"
      },
      "source": [
        "x = np.array([2, 4, 6])\n",
        "y = np.array([8, 10, 12])\n",
        "\n",
        "np.concatenate([x, y])"
      ],
      "execution_count": 56,
      "outputs": [
        {
          "output_type": "execute_result",
          "data": {
            "text/plain": [
              "array([ 2,  4,  6,  8, 10, 12])"
            ]
          },
          "metadata": {
            "tags": []
          },
          "execution_count": 56
        }
      ]
    },
    {
      "cell_type": "markdown",
      "metadata": {
        "id": "Dr86lZTzcuLg"
      },
      "source": [
        "#### Concatenate arrays x, y, and z"
      ]
    },
    {
      "cell_type": "code",
      "metadata": {
        "id": "bbw0fJkucuLg",
        "colab": {
          "base_uri": "https://localhost:8080/"
        },
        "outputId": "284d4976-3ae5-4a06-b2fb-2ca04343aba4"
      },
      "source": [
        "z = [99, 99, 99]\n",
        "\n",
        "np.concatenate([x, y, z])"
      ],
      "execution_count": 57,
      "outputs": [
        {
          "output_type": "execute_result",
          "data": {
            "text/plain": [
              "array([ 2,  4,  6,  8, 10, 12, 99, 99, 99])"
            ]
          },
          "metadata": {
            "tags": []
          },
          "execution_count": 57
        }
      ]
    },
    {
      "cell_type": "markdown",
      "metadata": {
        "id": "3P7SpT__hisQ"
      },
      "source": [
        "#### Concatenate grid with itself along the second axis"
      ]
    },
    {
      "cell_type": "code",
      "metadata": {
        "id": "MNafknlTcuLh",
        "colab": {
          "base_uri": "https://localhost:8080/"
        },
        "outputId": "c6ef30b4-29ed-4d16-ddee-724ad0dd6c01"
      },
      "source": [
        "grid = np.array([[5, 4, 1],\n",
        "                 [4, 5, 6]])\n",
        "\n",
        "# np.concatenate([grid, grid])\n",
        "np.concatenate([grid, grid], axis=1)"
      ],
      "execution_count": 60,
      "outputs": [
        {
          "output_type": "execute_result",
          "data": {
            "text/plain": [
              "array([[5, 4, 1, 5, 4, 1],\n",
              "       [4, 5, 6, 4, 5, 6]])"
            ]
          },
          "metadata": {
            "tags": []
          },
          "execution_count": 60
        }
      ]
    },
    {
      "cell_type": "markdown",
      "metadata": {
        "id": "oaiVMHQtcuLl"
      },
      "source": [
        "#### Concatenate x and grid using the vstack function\n",
        "\n",
        "Why can't x and grid be concatenated using the hstack function?"
      ]
    },
    {
      "cell_type": "code",
      "metadata": {
        "id": "BIZ_j0k8cuLm",
        "colab": {
          "base_uri": "https://localhost:8080/"
        },
        "outputId": "c1b4b254-0ffa-4523-82e4-f1fb0f78cfe9"
      },
      "source": [
        "print(x)\n",
        "print(grid)\n",
        "\n",
        "np.vstack([x, grid]) # vertically stack"
      ],
      "execution_count": 64,
      "outputs": [
        {
          "output_type": "stream",
          "text": [
            "[2 4 6]\n",
            "[[5 4 1]\n",
            " [4 5 6]]\n"
          ],
          "name": "stdout"
        },
        {
          "output_type": "execute_result",
          "data": {
            "text/plain": [
              "array([[2, 4, 6],\n",
              "       [5, 4, 1],\n",
              "       [4, 5, 6]])"
            ]
          },
          "metadata": {
            "tags": []
          },
          "execution_count": 64
        }
      ]
    },
    {
      "cell_type": "markdown",
      "metadata": {
        "id": "bZBXLg0dcuLq"
      },
      "source": [
        "### Splitting of arrays\n",
        "\n",
        "#### Split x on element 4 and element 7"
      ]
    },
    {
      "cell_type": "code",
      "metadata": {
        "id": "Me3z27s1cuLr",
        "colab": {
          "base_uri": "https://localhost:8080/"
        },
        "outputId": "e59b1529-9e74-4a1a-978c-21c9c8e7f9e0"
      },
      "source": [
        "x = [1, 2, 3, 99, 99, 3, 2, 1]\n",
        "\n",
        "x1, x2, x3 = np.split(x, [3, 6])\n",
        "x1, x2, x3"
      ],
      "execution_count": 67,
      "outputs": [
        {
          "output_type": "execute_result",
          "data": {
            "text/plain": [
              "(array([1, 2, 3]), array([99, 99,  3]), array([2, 1]))"
            ]
          },
          "metadata": {
            "tags": []
          },
          "execution_count": 67
        }
      ]
    },
    {
      "cell_type": "markdown",
      "metadata": {
        "id": "aSptQOf1kYs0"
      },
      "source": [
        "#### Split grid on row 2"
      ]
    },
    {
      "cell_type": "code",
      "metadata": {
        "id": "1LcKIxH594o-",
        "colab": {
          "base_uri": "https://localhost:8080/"
        },
        "outputId": "64d738a5-d9e4-43bf-840e-91fe915cc81b"
      },
      "source": [
        "grid = np.arange(25).reshape((5, 5))\n",
        "grid"
      ],
      "execution_count": 68,
      "outputs": [
        {
          "output_type": "execute_result",
          "data": {
            "text/plain": [
              "array([[ 0,  1,  2,  3,  4],\n",
              "       [ 5,  6,  7,  8,  9],\n",
              "       [10, 11, 12, 13, 14],\n",
              "       [15, 16, 17, 18, 19],\n",
              "       [20, 21, 22, 23, 24]])"
            ]
          },
          "metadata": {
            "tags": []
          },
          "execution_count": 68
        }
      ]
    },
    {
      "cell_type": "code",
      "metadata": {
        "id": "qWFWZBaBcuLu",
        "colab": {
          "base_uri": "https://localhost:8080/"
        },
        "outputId": "56c23567-6c9c-4a1c-badb-04d1f18501d6"
      },
      "source": [
        "upper, lower = np.vsplit(grid, [2])\n",
        "print(upper)\n",
        "print(lower)"
      ],
      "execution_count": 72,
      "outputs": [
        {
          "output_type": "stream",
          "text": [
            "[[0 1 2 3 4]\n",
            " [5 6 7 8 9]]\n",
            "[[10 11 12 13 14]\n",
            " [15 16 17 18 19]\n",
            " [20 21 22 23 24]]\n"
          ],
          "name": "stdout"
        }
      ]
    },
    {
      "cell_type": "markdown",
      "metadata": {
        "id": "ZqOS7CM-kYs2"
      },
      "source": [
        "#### Split grid on column 3"
      ]
    },
    {
      "cell_type": "code",
      "metadata": {
        "id": "tPP8B0cscuLw",
        "colab": {
          "base_uri": "https://localhost:8080/"
        },
        "outputId": "06d81700-1e45-4eaf-b446-6d3b4f36cdf6"
      },
      "source": [
        "left, right = np.hsplit(grid, [3])\n",
        "print(left)\n",
        "print(right)"
      ],
      "execution_count": 75,
      "outputs": [
        {
          "output_type": "stream",
          "text": [
            "[[ 0  1  2]\n",
            " [ 5  6  7]\n",
            " [10 11 12]\n",
            " [15 16 17]\n",
            " [20 21 22]]\n",
            "[[ 3  4]\n",
            " [ 8  9]\n",
            " [13 14]\n",
            " [18 19]\n",
            " [23 24]]\n"
          ],
          "name": "stdout"
        }
      ]
    },
    {
      "cell_type": "code",
      "metadata": {
        "id": "l3EIvVzwx97P"
      },
      "source": [
        ""
      ],
      "execution_count": null,
      "outputs": []
    }
  ]
}