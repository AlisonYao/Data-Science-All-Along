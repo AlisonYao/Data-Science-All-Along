{
  "nbformat": 4,
  "nbformat_minor": 0,
  "metadata": {
    "colab": {
      "name": "[Exercises-4]NumPy-Boolean-Array-Masks.ipynb",
      "provenance": [],
      "collapsed_sections": []
    },
    "kernelspec": {
      "display_name": "Python 3",
      "language": "python",
      "name": "python3"
    },
    "language_info": {
      "codemirror_mode": {
        "name": "ipython",
        "version": 3
      },
      "file_extension": ".py",
      "mimetype": "text/x-python",
      "name": "python",
      "nbconvert_exporter": "python",
      "pygments_lexer": "ipython3",
      "version": "3.7.3"
    }
  },
  "cells": [
    {
      "cell_type": "markdown",
      "metadata": {
        "id": "RmZqemIxJyMd"
      },
      "source": [
        "https://www.youtube.com/watch?v=e6C1Z-o1fyQ&list=PLv6MQO1ZzdmqKVL03HnslbBCDEoqS78Nm&index=9"
      ]
    },
    {
      "cell_type": "markdown",
      "metadata": {
        "id": "-MCet4WNllEv"
      },
      "source": [
        "# Comparisons, Masks, and Boolean Logic"
      ]
    },
    {
      "cell_type": "code",
      "metadata": {
        "id": "VnKoixWEhfPg"
      },
      "source": [
        "import numpy as np"
      ],
      "execution_count": 1,
      "outputs": []
    },
    {
      "cell_type": "markdown",
      "metadata": {
        "id": "PmTBo6-mllE8"
      },
      "source": [
        "## Comparison Operators as ufuncs"
      ]
    },
    {
      "cell_type": "code",
      "metadata": {
        "id": "wjdX9MPUllE8",
        "colab": {
          "base_uri": "https://localhost:8080/"
        },
        "outputId": "250ac388-d4fe-4f4f-92d2-963e5aed7393"
      },
      "source": [
        "x = np.arange(-3, 5)\n",
        "x"
      ],
      "execution_count": 2,
      "outputs": [
        {
          "output_type": "execute_result",
          "data": {
            "text/plain": [
              "array([-3, -2, -1,  0,  1,  2,  3,  4])"
            ]
          },
          "metadata": {
            "tags": []
          },
          "execution_count": 2
        }
      ]
    },
    {
      "cell_type": "markdown",
      "metadata": {
        "id": "yD6mTcdohfPm"
      },
      "source": [
        "#### Create a boolean mask of x for values less than or equal to 2"
      ]
    },
    {
      "cell_type": "code",
      "metadata": {
        "id": "iz7LGitdllE-",
        "colab": {
          "base_uri": "https://localhost:8080/"
        },
        "outputId": "003a8a62-16dd-45a2-dd53-ec2c0d740881"
      },
      "source": [
        "x <= 2"
      ],
      "execution_count": 3,
      "outputs": [
        {
          "output_type": "execute_result",
          "data": {
            "text/plain": [
              "array([ True,  True,  True,  True,  True,  True, False, False])"
            ]
          },
          "metadata": {
            "tags": []
          },
          "execution_count": 3
        }
      ]
    },
    {
      "cell_type": "markdown",
      "metadata": {
        "id": "Hv2N-sEnhfPq"
      },
      "source": [
        "#### Create a boolean mask of x for values equal to -1"
      ]
    },
    {
      "cell_type": "code",
      "metadata": {
        "id": "jolf8wiallFC",
        "colab": {
          "base_uri": "https://localhost:8080/"
        },
        "outputId": "7787647f-46b5-46fa-c7e6-0682de058260"
      },
      "source": [
        "x == -1"
      ],
      "execution_count": 4,
      "outputs": [
        {
          "output_type": "execute_result",
          "data": {
            "text/plain": [
              "array([False, False,  True, False, False, False, False, False])"
            ]
          },
          "metadata": {
            "tags": []
          },
          "execution_count": 4
        }
      ]
    },
    {
      "cell_type": "markdown",
      "metadata": {
        "id": "u-NmfSFmhfPt"
      },
      "source": [
        "#### Create a boolean mask of x for all positive values"
      ]
    },
    {
      "cell_type": "code",
      "metadata": {
        "id": "KC6jM7EallFA",
        "colab": {
          "base_uri": "https://localhost:8080/"
        },
        "outputId": "5df92dbd-ed76-4dfa-d84f-af0719a7bdf0"
      },
      "source": [
        "x > 0"
      ],
      "execution_count": 5,
      "outputs": [
        {
          "output_type": "execute_result",
          "data": {
            "text/plain": [
              "array([False, False, False, False,  True,  True,  True,  True])"
            ]
          },
          "metadata": {
            "tags": []
          },
          "execution_count": 5
        }
      ]
    },
    {
      "cell_type": "markdown",
      "metadata": {
        "id": "yJbF_AxKhfPw"
      },
      "source": [
        "#### Create a boolean mask of x for all even values\n",
        "\n",
        "Remember: a value n is even if n % 2 = 0 and odd if n % 2 = 1"
      ]
    },
    {
      "cell_type": "code",
      "metadata": {
        "id": "Kv29eE42llFF",
        "colab": {
          "base_uri": "https://localhost:8080/"
        },
        "outputId": "835fd31f-93d7-4810-d4d3-5bc67778871d"
      },
      "source": [
        "print(x % 2 == 0)\n",
        "\n",
        "# test lambda function\n",
        "even = lambda x: x % 2 == 0\n",
        "print(even(x))"
      ],
      "execution_count": 8,
      "outputs": [
        {
          "output_type": "stream",
          "text": [
            "[False  True False  True False  True False  True]\n",
            "[False  True False  True False  True False  True]\n"
          ],
          "name": "stdout"
        }
      ]
    },
    {
      "cell_type": "markdown",
      "metadata": {
        "id": "zA_oBmQBllFQ"
      },
      "source": [
        "Remember: as with arithmetic operators, comparison operators alias a NumPy ufunc. Those ufuncs are listed below\n",
        "\n",
        "| Operator\t    | Equivalent ufunc    || Operator\t   | Equivalent ufunc    |\n",
        "|---------------|---------------------||---------------|---------------------|\n",
        "|``==``         |``np.equal``         ||``!=``         |``np.not_equal``     |\n",
        "|``<``          |``np.less``          ||``<=``         |``np.less_equal``    |\n",
        "|``>``          |``np.greater``       ||``>=``         |``np.greater_equal`` |"
      ]
    },
    {
      "cell_type": "markdown",
      "metadata": {
        "id": "OlT_kgOUllF2"
      },
      "source": [
        "## Boolean Arrays as Masks"
      ]
    },
    {
      "cell_type": "code",
      "metadata": {
        "id": "h04ASgBMllF3",
        "colab": {
          "base_uri": "https://localhost:8080/"
        },
        "outputId": "82c09777-0749-4f72-b87e-ce767044db4c"
      },
      "source": [
        "rand = np.random.RandomState(0) # this is like setting a random seed\n",
        "x = rand.randint(10, size=(3, 4))\n",
        "x"
      ],
      "execution_count": 9,
      "outputs": [
        {
          "output_type": "execute_result",
          "data": {
            "text/plain": [
              "array([[5, 0, 3, 3],\n",
              "       [7, 9, 3, 5],\n",
              "       [2, 4, 7, 6]])"
            ]
          },
          "metadata": {
            "tags": []
          },
          "execution_count": 9
        }
      ]
    },
    {
      "cell_type": "markdown",
      "metadata": {
        "id": "MrheDFyRllF4"
      },
      "source": [
        "#### Create a boolean mask 'greater' of x for values greater than 4. Create an array of x for values greater than four using a masking operation"
      ]
    },
    {
      "cell_type": "code",
      "metadata": {
        "id": "VyonbFbUllF5",
        "colab": {
          "base_uri": "https://localhost:8080/"
        },
        "outputId": "4168d149-9072-4dc4-ce2d-2dcfd726f1b6"
      },
      "source": [
        "greater = x > 4\n",
        "x[greater]\n",
        "# x[x > 4]"
      ],
      "execution_count": 10,
      "outputs": [
        {
          "output_type": "execute_result",
          "data": {
            "text/plain": [
              "array([5, 7, 9, 5, 7, 6])"
            ]
          },
          "metadata": {
            "tags": []
          },
          "execution_count": 10
        }
      ]
    },
    {
      "cell_type": "markdown",
      "metadata": {
        "id": "1qI55Uy7llF7"
      },
      "source": [
        "#### Create a boolean mask 'odd' of x for all odd values. Create an array of x for those odd values using a masking operation"
      ]
    },
    {
      "cell_type": "code",
      "metadata": {
        "id": "r0TfQwwqllF7",
        "colab": {
          "base_uri": "https://localhost:8080/"
        },
        "outputId": "c7a7c4b4-2ab4-498f-872e-024a2d78131f"
      },
      "source": [
        "x[x % 2 == 1]"
      ],
      "execution_count": 11,
      "outputs": [
        {
          "output_type": "execute_result",
          "data": {
            "text/plain": [
              "array([5, 3, 3, 7, 9, 3, 5, 7])"
            ]
          },
          "metadata": {
            "tags": []
          },
          "execution_count": 11
        }
      ]
    },
    {
      "cell_type": "markdown",
      "metadata": {
        "id": "SLk7OAyFhfQD"
      },
      "source": [
        "#### Create an array of x containing all values that are greater than 4 and are not odd using boolean operators and a masking operation\n",
        "\n",
        "Remember: boolean masks can be combinded using boolean operators. e.g (-2 <= x) & (x <= 3) is an mask for values of x between -2 and 3"
      ]
    },
    {
      "cell_type": "code",
      "metadata": {
        "id": "kkpt7OAMhfQD",
        "colab": {
          "base_uri": "https://localhost:8080/"
        },
        "outputId": "3eddc28b-7ba4-4277-8cc0-aee1ca278fba"
      },
      "source": [
        "x[(x > 4) & (x % 2 == 0)]"
      ],
      "execution_count": 12,
      "outputs": [
        {
          "output_type": "execute_result",
          "data": {
            "text/plain": [
              "array([6])"
            ]
          },
          "metadata": {
            "tags": []
          },
          "execution_count": 12
        }
      ]
    },
    {
      "cell_type": "markdown",
      "metadata": {
        "id": "jS-3oxKlllEx"
      },
      "source": [
        "## Example: Counting Rainy Days"
      ]
    },
    {
      "cell_type": "code",
      "metadata": {
        "id": "7m9Rga19hfQH"
      },
      "source": [
        "import pandas as pd"
      ],
      "execution_count": 13,
      "outputs": []
    },
    {
      "cell_type": "markdown",
      "metadata": {
        "id": "Gx2_WXL8hfQJ"
      },
      "source": [
        "#### Import Data"
      ]
    },
    {
      "cell_type": "code",
      "metadata": {
        "colab": {
          "base_uri": "https://localhost:8080/"
        },
        "id": "lSg0rzwPl46s",
        "outputId": "bc40c49b-1427-4adc-ac32-8905f1af4e97"
      },
      "source": [
        "from google.colab import drive\n",
        "drive.mount('/content/drive')"
      ],
      "execution_count": 14,
      "outputs": [
        {
          "output_type": "stream",
          "text": [
            "Mounted at /content/drive\n"
          ],
          "name": "stdout"
        }
      ]
    },
    {
      "cell_type": "code",
      "metadata": {
        "id": "MtqDiHcphfQJ"
      },
      "source": [
        "%cd /content/drive/MyDrive/DS All Along/NumPy\n",
        "rainfall = pd.read_csv('seattle_2014.csv')"
      ],
      "execution_count": 38,
      "outputs": []
    },
    {
      "cell_type": "code",
      "metadata": {
        "colab": {
          "base_uri": "https://localhost:8080/",
          "height": 204
        },
        "id": "XM1q367Eo0gB",
        "outputId": "bf80b14b-cfb2-44aa-eb53-1c45b4e15723"
      },
      "source": [
        "rainfall.head()"
      ],
      "execution_count": 52,
      "outputs": [
        {
          "output_type": "execute_result",
          "data": {
            "text/html": [
              "<div>\n",
              "<style scoped>\n",
              "    .dataframe tbody tr th:only-of-type {\n",
              "        vertical-align: middle;\n",
              "    }\n",
              "\n",
              "    .dataframe tbody tr th {\n",
              "        vertical-align: top;\n",
              "    }\n",
              "\n",
              "    .dataframe thead th {\n",
              "        text-align: right;\n",
              "    }\n",
              "</style>\n",
              "<table border=\"1\" class=\"dataframe\">\n",
              "  <thead>\n",
              "    <tr style=\"text-align: right;\">\n",
              "      <th></th>\n",
              "      <th>station</th>\n",
              "      <th>station_name</th>\n",
              "      <th>date</th>\n",
              "      <th>prcp</th>\n",
              "      <th>snwd</th>\n",
              "      <th>snow</th>\n",
              "      <th>tmax</th>\n",
              "      <th>tmin</th>\n",
              "      <th>awnd</th>\n",
              "      <th>wdf2</th>\n",
              "      <th>wdf5</th>\n",
              "      <th>wsf2</th>\n",
              "      <th>wsf5</th>\n",
              "      <th>wt01</th>\n",
              "      <th>wt05</th>\n",
              "      <th>wt02</th>\n",
              "      <th>wt03</th>\n",
              "    </tr>\n",
              "  </thead>\n",
              "  <tbody>\n",
              "    <tr>\n",
              "      <th>0</th>\n",
              "      <td>GHCND:USW00024233</td>\n",
              "      <td>SEATTLE TACOMA INTERNATIONAL AIRPORT WA US</td>\n",
              "      <td>20140101</td>\n",
              "      <td>0</td>\n",
              "      <td>0</td>\n",
              "      <td>0</td>\n",
              "      <td>72</td>\n",
              "      <td>33</td>\n",
              "      <td>12</td>\n",
              "      <td>340</td>\n",
              "      <td>310</td>\n",
              "      <td>36</td>\n",
              "      <td>40</td>\n",
              "      <td>-9999</td>\n",
              "      <td>-9999</td>\n",
              "      <td>-9999</td>\n",
              "      <td>-9999</td>\n",
              "    </tr>\n",
              "    <tr>\n",
              "      <th>1</th>\n",
              "      <td>GHCND:USW00024233</td>\n",
              "      <td>SEATTLE TACOMA INTERNATIONAL AIRPORT WA US</td>\n",
              "      <td>20140102</td>\n",
              "      <td>41</td>\n",
              "      <td>0</td>\n",
              "      <td>0</td>\n",
              "      <td>106</td>\n",
              "      <td>61</td>\n",
              "      <td>32</td>\n",
              "      <td>190</td>\n",
              "      <td>200</td>\n",
              "      <td>94</td>\n",
              "      <td>116</td>\n",
              "      <td>-9999</td>\n",
              "      <td>-9999</td>\n",
              "      <td>-9999</td>\n",
              "      <td>-9999</td>\n",
              "    </tr>\n",
              "    <tr>\n",
              "      <th>2</th>\n",
              "      <td>GHCND:USW00024233</td>\n",
              "      <td>SEATTLE TACOMA INTERNATIONAL AIRPORT WA US</td>\n",
              "      <td>20140103</td>\n",
              "      <td>15</td>\n",
              "      <td>0</td>\n",
              "      <td>0</td>\n",
              "      <td>89</td>\n",
              "      <td>28</td>\n",
              "      <td>26</td>\n",
              "      <td>30</td>\n",
              "      <td>50</td>\n",
              "      <td>63</td>\n",
              "      <td>72</td>\n",
              "      <td>1</td>\n",
              "      <td>-9999</td>\n",
              "      <td>-9999</td>\n",
              "      <td>-9999</td>\n",
              "    </tr>\n",
              "    <tr>\n",
              "      <th>3</th>\n",
              "      <td>GHCND:USW00024233</td>\n",
              "      <td>SEATTLE TACOMA INTERNATIONAL AIRPORT WA US</td>\n",
              "      <td>20140104</td>\n",
              "      <td>0</td>\n",
              "      <td>0</td>\n",
              "      <td>0</td>\n",
              "      <td>78</td>\n",
              "      <td>6</td>\n",
              "      <td>27</td>\n",
              "      <td>40</td>\n",
              "      <td>40</td>\n",
              "      <td>45</td>\n",
              "      <td>58</td>\n",
              "      <td>1</td>\n",
              "      <td>-9999</td>\n",
              "      <td>-9999</td>\n",
              "      <td>-9999</td>\n",
              "    </tr>\n",
              "    <tr>\n",
              "      <th>4</th>\n",
              "      <td>GHCND:USW00024233</td>\n",
              "      <td>SEATTLE TACOMA INTERNATIONAL AIRPORT WA US</td>\n",
              "      <td>20140105</td>\n",
              "      <td>0</td>\n",
              "      <td>0</td>\n",
              "      <td>0</td>\n",
              "      <td>83</td>\n",
              "      <td>-5</td>\n",
              "      <td>37</td>\n",
              "      <td>10</td>\n",
              "      <td>10</td>\n",
              "      <td>67</td>\n",
              "      <td>76</td>\n",
              "      <td>-9999</td>\n",
              "      <td>-9999</td>\n",
              "      <td>-9999</td>\n",
              "      <td>-9999</td>\n",
              "    </tr>\n",
              "  </tbody>\n",
              "</table>\n",
              "</div>"
            ],
            "text/plain": [
              "             station                                station_name  ...  wt02  wt03\n",
              "0  GHCND:USW00024233  SEATTLE TACOMA INTERNATIONAL AIRPORT WA US  ... -9999 -9999\n",
              "1  GHCND:USW00024233  SEATTLE TACOMA INTERNATIONAL AIRPORT WA US  ... -9999 -9999\n",
              "2  GHCND:USW00024233  SEATTLE TACOMA INTERNATIONAL AIRPORT WA US  ... -9999 -9999\n",
              "3  GHCND:USW00024233  SEATTLE TACOMA INTERNATIONAL AIRPORT WA US  ... -9999 -9999\n",
              "4  GHCND:USW00024233  SEATTLE TACOMA INTERNATIONAL AIRPORT WA US  ... -9999 -9999\n",
              "\n",
              "[5 rows x 17 columns]"
            ]
          },
          "metadata": {
            "tags": []
          },
          "execution_count": 52
        }
      ]
    },
    {
      "cell_type": "code",
      "metadata": {
        "id": "mAriGGG0llEx",
        "colab": {
          "base_uri": "https://localhost:8080/"
        },
        "outputId": "df155037-7296-44b2-bc9a-d3fd4d26c917"
      },
      "source": [
        "inches = rainfall['prcp'] / 254.0  # 1/10mm -> inches\n",
        "inches.shape"
      ],
      "execution_count": 50,
      "outputs": [
        {
          "output_type": "execute_result",
          "data": {
            "text/plain": [
              "(365,)"
            ]
          },
          "metadata": {
            "tags": []
          },
          "execution_count": 50
        }
      ]
    },
    {
      "cell_type": "code",
      "metadata": {
        "id": "aZ1P4o1YllE2"
      },
      "source": [
        "%matplotlib inline\n",
        "import matplotlib.pyplot as plt\n",
        "import seaborn; seaborn.set()  # set plot styles"
      ],
      "execution_count": 51,
      "outputs": []
    },
    {
      "cell_type": "markdown",
      "metadata": {
        "id": "VkOJjmHhhfQS"
      },
      "source": [
        "#### In the following section, we will calculate statistics about rainfall in Seattle"
      ]
    },
    {
      "cell_type": "markdown",
      "metadata": {
        "id": "tjHKSfyHhfQT"
      },
      "source": [
        "#### Plot the inches data using a histogram with 40 buckets"
      ]
    },
    {
      "cell_type": "code",
      "metadata": {
        "id": "jGQyizfYllE4",
        "colab": {
          "base_uri": "https://localhost:8080/",
          "height": 506
        },
        "outputId": "c2568248-4a61-41f9-a00d-345eb62a85a3"
      },
      "source": [
        "plt.hist(inches, 40)"
      ],
      "execution_count": 53,
      "outputs": [
        {
          "output_type": "execute_result",
          "data": {
            "text/plain": [
              "(array([245.,  14.,  13.,  17.,   8.,   6.,   5.,   6.,   4.,   3.,   7.,\n",
              "          6.,   3.,   3.,   3.,   4.,   4.,   2.,   4.,   0.,   0.,   1.,\n",
              "          1.,   1.,   0.,   0.,   0.,   2.,   1.,   1.,   0.,   0.,   0.,\n",
              "          0.,   0.,   0.,   0.,   0.,   0.,   1.]),\n",
              " array([0.        , 0.04596457, 0.09192913, 0.1378937 , 0.18385827,\n",
              "        0.22982283, 0.2757874 , 0.32175197, 0.36771654, 0.4136811 ,\n",
              "        0.45964567, 0.50561024, 0.5515748 , 0.59753937, 0.64350394,\n",
              "        0.6894685 , 0.73543307, 0.78139764, 0.8273622 , 0.87332677,\n",
              "        0.91929134, 0.96525591, 1.01122047, 1.05718504, 1.10314961,\n",
              "        1.14911417, 1.19507874, 1.24104331, 1.28700787, 1.33297244,\n",
              "        1.37893701, 1.42490157, 1.47086614, 1.51683071, 1.56279528,\n",
              "        1.60875984, 1.65472441, 1.70068898, 1.74665354, 1.79261811,\n",
              "        1.83858268]),\n",
              " <a list of 40 Patch objects>)"
            ]
          },
          "metadata": {
            "tags": []
          },
          "execution_count": 53
        },
        {
          "output_type": "display_data",
          "data": {
            "image/png": "[encoded data removed]",
            "text/plain": [
              "<Figure size 432x288 with 1 Axes>"
            ]
          },
          "metadata": {
            "tags": []
          }
        }
      ]
    },
    {
      "cell_type": "markdown",
      "metadata": {
        "id": "jehWm5r1hfQc"
      },
      "source": [
        "#### As we can see above, the majority of days have no rainfall. To calculate statistics about rainy days we'll need to use a boolean mask"
      ]
    },
    {
      "cell_type": "markdown",
      "metadata": {
        "id": "18xKqQVRhfQi"
      },
      "source": [
        "#### Create a boolean mask rainy for days with rainfall"
      ]
    },
    {
      "cell_type": "code",
      "metadata": {
        "id": "XJvf5OR-hfQl"
      },
      "source": [
        "rainyMask = inches > 0"
      ],
      "execution_count": 56,
      "outputs": []
    },
    {
      "cell_type": "markdown",
      "metadata": {
        "id": "iyajUN8whfQq"
      },
      "source": [
        "#### For all days, print the median, mean, and standard deviation of rainfall"
      ]
    },
    {
      "cell_type": "code",
      "metadata": {
        "id": "vtpz_x8-hfQv",
        "colab": {
          "base_uri": "https://localhost:8080/"
        },
        "outputId": "65cb3272-deaf-4e39-f6f7-38316f3efd48"
      },
      "source": [
        "print(np.median(inches))\n",
        "print(np.mean(inches))\n",
        "print(np.std(inches))"
      ],
      "execution_count": 58,
      "outputs": [
        {
          "output_type": "stream",
          "text": [
            "0.0\n",
            "0.1329737892352497\n",
            "0.2666251761084922\n"
          ],
          "name": "stdout"
        }
      ]
    },
    {
      "cell_type": "markdown",
      "metadata": {
        "id": "Zlhp1SI6hfQz"
      },
      "source": [
        "#### For rainy days, print the median, mean, and standard deviation of rainfall"
      ]
    },
    {
      "cell_type": "code",
      "metadata": {
        "id": "NEsuz2lZllF-",
        "colab": {
          "base_uri": "https://localhost:8080/"
        },
        "outputId": "e0b7f302-ff73-4db4-e278-25e22df39b02"
      },
      "source": [
        "rainyDays = inches[rainyMask]\n",
        "print(np.median(rainyDays))\n",
        "print(np.mean(rainyDays))\n",
        "print(np.std(rainyDays))"
      ],
      "execution_count": 59,
      "outputs": [
        {
          "output_type": "stream",
          "text": [
            "0.19488188976377951\n",
            "0.3235695538057743\n",
            "0.3336348441068411\n"
          ],
          "name": "stdout"
        }
      ]
    },
    {
      "cell_type": "code",
      "metadata": {
        "id": "BWMGeIy_qLTt"
      },
      "source": [
        ""
      ],
      "execution_count": null,
      "outputs": []
    }
  ]
}