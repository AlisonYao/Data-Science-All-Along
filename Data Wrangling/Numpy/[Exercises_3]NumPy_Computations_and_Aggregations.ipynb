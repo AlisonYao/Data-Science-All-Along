{
  "nbformat": 4,
  "nbformat_minor": 0,
  "metadata": {
    "colab": {
      "name": "[Exercises-3]NumPy-Computations-and-Aggregations.ipynb",
      "provenance": [],
      "collapsed_sections": [],
      "toc_visible": true
    },
    "kernelspec": {
      "display_name": "Python 3",
      "language": "python",
      "name": "python3"
    },
    "language_info": {
      "codemirror_mode": {
        "name": "ipython",
        "version": 3
      },
      "file_extension": ".py",
      "mimetype": "text/x-python",
      "name": "python",
      "nbconvert_exporter": "python",
      "pygments_lexer": "ipython3",
      "version": "3.7.3"
    }
  },
  "cells": [
    {
      "cell_type": "markdown",
      "metadata": {
        "id": "wb0PmFpoG9ay"
      },
      "source": [
        "![sslogo](https://github.com/stratascratch/stratascratch.github.io/raw/master/assets/sslogo.jpg)"
      ]
    },
    {
      "cell_type": "markdown",
      "metadata": {
        "id": "SfAeHuJpzILd"
      },
      "source": [
        "https://www.youtube.com/watch?v=ccDPI7v-0QE&list=PLv6MQO1ZzdmqKVL03HnslbBCDEoqS78Nm&index=7\n",
        "\n",
        "https://www.youtube.com/watch?v=ccDPI7v-0QE&list=PLv6MQO1ZzdmqKVL03HnslbBCDEoqS78Nm&index=8"
      ]
    },
    {
      "cell_type": "markdown",
      "metadata": {
        "id": "3FdsyRZ8i5yv"
      },
      "source": [
        "# Computation on NumPy Arrays: Universal Functions"
      ]
    },
    {
      "cell_type": "code",
      "metadata": {
        "id": "m2iekueii5zA"
      },
      "source": [
        "import numpy as np"
      ],
      "execution_count": 2,
      "outputs": []
    },
    {
      "cell_type": "markdown",
      "metadata": {
        "id": "x_PucBsfi5zG"
      },
      "source": [
        "## Exploring NumPy's UFuncs"
      ]
    },
    {
      "cell_type": "markdown",
      "metadata": {
        "id": "oftzUfCSi5zC"
      },
      "source": [
        "#### For the following section x and y refer to the arrays defined below"
      ]
    },
    {
      "cell_type": "code",
      "metadata": {
        "id": "wIOTf3hdi5zD"
      },
      "source": [
        "x = np.arange(9)\n",
        "y = x.reshape((3, 3))"
      ],
      "execution_count": 7,
      "outputs": []
    },
    {
      "cell_type": "code",
      "metadata": {
        "colab": {
          "base_uri": "https://localhost:8080/"
        },
        "id": "Q62kjh6u-m09",
        "outputId": "3ef6d721-1363-4c27-d55c-b963a9cf9119"
      },
      "source": [
        "x"
      ],
      "execution_count": 8,
      "outputs": [
        {
          "output_type": "execute_result",
          "data": {
            "text/plain": [
              "array([0, 1, 2, 3, 4, 5, 6, 7, 8])"
            ]
          },
          "metadata": {
            "tags": []
          },
          "execution_count": 8
        }
      ]
    },
    {
      "cell_type": "code",
      "metadata": {
        "colab": {
          "base_uri": "https://localhost:8080/"
        },
        "id": "qfQYsqQY-oLQ",
        "outputId": "63b3877b-b433-49e0-88ef-18e2c2c0f252"
      },
      "source": [
        "y"
      ],
      "execution_count": 9,
      "outputs": [
        {
          "output_type": "execute_result",
          "data": {
            "text/plain": [
              "array([[0, 1, 2],\n",
              "       [3, 4, 5],\n",
              "       [6, 7, 8]])"
            ]
          },
          "metadata": {
            "tags": []
          },
          "execution_count": 9
        }
      ]
    },
    {
      "cell_type": "markdown",
      "metadata": {
        "id": "4Wb4YhB3i5zH"
      },
      "source": [
        "#### Print the results of addition, subtraction, and multiplication on x"
      ]
    },
    {
      "cell_type": "code",
      "metadata": {
        "id": "cCjjxs45i5zI",
        "colab": {
          "base_uri": "https://localhost:8080/"
        },
        "outputId": "240d9bee-f1c0-424f-e6f8-a02e5ed17b8f"
      },
      "source": [
        "print(x + 3)\n",
        "print(x - 2)\n",
        "print(x * 2)"
      ],
      "execution_count": 10,
      "outputs": [
        {
          "output_type": "stream",
          "text": [
            "[ 3  4  5  6  7  8  9 10 11]\n",
            "[-2 -1  0  1  2  3  4  5  6]\n",
            "[ 0  2  4  6  8 10 12 14 16]\n"
          ],
          "name": "stdout"
        }
      ]
    },
    {
      "cell_type": "markdown",
      "metadata": {
        "id": "rrROA3ghi5zK"
      },
      "source": [
        "#### Print the results of negation, exponentiation, and modulus on x"
      ]
    },
    {
      "cell_type": "code",
      "metadata": {
        "id": "-W60o3SVi5zL",
        "scrolled": true,
        "colab": {
          "base_uri": "https://localhost:8080/"
        },
        "outputId": "43247a29-b92d-4a55-ebb5-cf3c41fce873"
      },
      "source": [
        "print(-x)\n",
        "print(x ** 2)\n",
        "print(x % 3)"
      ],
      "execution_count": 11,
      "outputs": [
        {
          "output_type": "stream",
          "text": [
            "[ 0 -1 -2 -3 -4 -5 -6 -7 -8]\n",
            "[ 0  1  4  9 16 25 36 49 64]\n",
            "[0 1 2 0 1 2 0 1 2]\n"
          ],
          "name": "stdout"
        }
      ]
    },
    {
      "cell_type": "markdown",
      "metadata": {
        "id": "2kkdx9_Gi5zR"
      },
      "source": [
        "#### Divide the element of x by 4 using the NumPy function"
      ]
    },
    {
      "cell_type": "code",
      "metadata": {
        "id": "qMpDwLzVi5zS",
        "colab": {
          "base_uri": "https://localhost:8080/"
        },
        "outputId": "5412ce7b-5f34-4720-9d0e-5eea9da3979d"
      },
      "source": [
        "np.divide(x, 4)"
      ],
      "execution_count": 12,
      "outputs": [
        {
          "output_type": "execute_result",
          "data": {
            "text/plain": [
              "array([0.  , 0.25, 0.5 , 0.75, 1.  , 1.25, 1.5 , 1.75, 2.  ])"
            ]
          },
          "metadata": {
            "tags": []
          },
          "execution_count": 12
        }
      ]
    },
    {
      "cell_type": "markdown",
      "metadata": {
        "id": "ezzaMRtsi5zV"
      },
      "source": [
        "Remember: operators can be strung together and follow the standard order of operations\n",
        "\n",
        "The following table lists the arithmetic operators implemented in NumPy:\n",
        "\n",
        "| Operator\t    | Equivalent ufunc    | Description                           |\n",
        "|---------------|---------------------|---------------------------------------|\n",
        "|``+``          |``np.add``           |Addition (e.g., ``1 + 1 = 2``)         |\n",
        "|``-``          |``np.subtract``      |Subtraction (e.g., ``3 - 2 = 1``)      |\n",
        "|``-``          |``np.negative``      |Unary negation (e.g., ``-2``)          |\n",
        "|``*``          |``np.multiply``      |Multiplication (e.g., ``2 * 3 = 6``)   |\n",
        "|``/``          |``np.divide``        |Division (e.g., ``3 / 2 = 1.5``)       |\n",
        "|``//``         |``np.floor_divide``  |Floor division (e.g., ``3 // 2 = 1``)  |\n",
        "|``**``         |``np.power``         |Exponentiation (e.g., ``2 ** 3 = 8``)  |\n",
        "|``%``          |``np.mod``           |Modulus/remainder (e.g., ``9 % 4 = 1``)|"
      ]
    },
    {
      "cell_type": "markdown",
      "metadata": {
        "id": "AV5UnmDGi5zW"
      },
      "source": [
        "### Absolute value\n",
        "\n",
        "#### Print the absolute values of x\n",
        "\n",
        "Remember: the builtin abs function points to np.absolute"
      ]
    },
    {
      "cell_type": "code",
      "metadata": {
        "id": "THUnhSNOi5zX",
        "colab": {
          "base_uri": "https://localhost:8080/"
        },
        "outputId": "e64f4f65-e7ef-432c-e9f6-8038b5fa5353"
      },
      "source": [
        "x = np.arange(-4, 5)\n",
        "\n",
        "np.abs(x), np.absolute(x) # these 2 are the same"
      ],
      "execution_count": 14,
      "outputs": [
        {
          "output_type": "execute_result",
          "data": {
            "text/plain": [
              "(array([4, 3, 2, 1, 0, 1, 2, 3, 4]), array([4, 3, 2, 1, 0, 1, 2, 3, 4]))"
            ]
          },
          "metadata": {
            "tags": []
          },
          "execution_count": 14
        }
      ]
    },
    {
      "cell_type": "markdown",
      "metadata": {
        "id": "SnrPrT5zi5zk"
      },
      "source": [
        "#### Print the absolute value of element of x \n",
        "\n",
        "Remember: in NumPy, the absolute value of complex numbers corresponds to their magnitude on the complex plane"
      ]
    },
    {
      "cell_type": "code",
      "metadata": {
        "id": "YwdJQT0Bi5zk",
        "colab": {
          "base_uri": "https://localhost:8080/"
        },
        "outputId": "a3ffd1bb-4bae-4e9a-803e-c16a945829de"
      },
      "source": [
        "x = np.array([5 - 6j, 1 - 1j, 2 + 1j, 11 + 1j])\n",
        "\n",
        "np.abs(x)"
      ],
      "execution_count": 15,
      "outputs": [
        {
          "output_type": "execute_result",
          "data": {
            "text/plain": [
              "array([ 7.81024968,  1.41421356,  2.23606798, 11.04536102])"
            ]
          },
          "metadata": {
            "tags": []
          },
          "execution_count": 15
        }
      ]
    },
    {
      "cell_type": "markdown",
      "metadata": {
        "id": "4vbeuWYHi5zm"
      },
      "source": [
        "### Trigonometric functions"
      ]
    },
    {
      "cell_type": "code",
      "metadata": {
        "id": "UQJqPo7xi5zm",
        "colab": {
          "base_uri": "https://localhost:8080/"
        },
        "outputId": "2c188503-2f99-4433-9ef4-0ba721a76cca"
      },
      "source": [
        "theta = np.linspace(0, np.pi, 3)\n",
        "theta"
      ],
      "execution_count": 17,
      "outputs": [
        {
          "output_type": "execute_result",
          "data": {
            "text/plain": [
              "array([0.        , 1.57079633, 3.14159265])"
            ]
          },
          "metadata": {
            "tags": []
          },
          "execution_count": 17
        }
      ]
    },
    {
      "cell_type": "markdown",
      "metadata": {
        "id": "_ulz8HNUi5zo"
      },
      "source": [
        "#### Print the results sine, cosine, and tangent on the elements of theta"
      ]
    },
    {
      "cell_type": "code",
      "metadata": {
        "id": "WSzGW3Wyi5zp",
        "colab": {
          "base_uri": "https://localhost:8080/"
        },
        "outputId": "046989ef-b11c-40bc-a219-237894216f76"
      },
      "source": [
        "# for all following problems print the results in the format shown below\n",
        "print(\"sin(theta) = \", np.sin(theta))\n",
        "print(\"cos(theta) = \", np.cos(theta))\n",
        "print(\"tan(theta) = \", np.tan(theta))"
      ],
      "execution_count": 18,
      "outputs": [
        {
          "output_type": "stream",
          "text": [
            "sin(theta) =  [0.0000000e+00 1.0000000e+00 1.2246468e-16]\n",
            "cos(theta) =  [ 1.000000e+00  6.123234e-17 -1.000000e+00]\n",
            "tan(theta) =  [ 0.00000000e+00  1.63312394e+16 -1.22464680e-16]\n"
          ],
          "name": "stdout"
        }
      ]
    },
    {
      "cell_type": "markdown",
      "metadata": {
        "id": "qA1jk5U1i5zr"
      },
      "source": [
        "#### Print the results arcsine, arccosine, and arctangent on the elements of x"
      ]
    },
    {
      "cell_type": "code",
      "metadata": {
        "id": "6JSZbtyXi5zr",
        "colab": {
          "base_uri": "https://localhost:8080/"
        },
        "outputId": "d4ad396c-19c1-4415-d9f0-6d3c8178a585"
      },
      "source": [
        "x = [-1, 0, 1]\n",
        "\n",
        "print(np.arcsin(x))\n",
        "print(np.arccos(x))\n",
        "print(np.arctan(x))"
      ],
      "execution_count": 19,
      "outputs": [
        {
          "output_type": "stream",
          "text": [
            "[-1.57079633  0.          1.57079633]\n",
            "[3.14159265 1.57079633 0.        ]\n",
            "[-0.78539816  0.          0.78539816]\n"
          ],
          "name": "stdout"
        }
      ]
    },
    {
      "cell_type": "markdown",
      "metadata": {
        "id": "wTJIu1EYi5zt"
      },
      "source": [
        "### Exponents and logarithms"
      ]
    },
    {
      "cell_type": "markdown",
      "metadata": {
        "id": "UeZTr64XD9fs"
      },
      "source": [
        "#### Print the results of e^x, 2^x, and 5^x"
      ]
    },
    {
      "cell_type": "code",
      "metadata": {
        "id": "x7r-N9V0i5zt",
        "colab": {
          "base_uri": "https://localhost:8080/"
        },
        "outputId": "53682e51-3dfa-43e9-a31d-3af8b8823929"
      },
      "source": [
        "x = [1, 2, 3]\n",
        "\n",
        "print(np.exp(x))\n",
        "print(np.exp2(x))\n",
        "print(np.power(5, x))"
      ],
      "execution_count": 21,
      "outputs": [
        {
          "output_type": "stream",
          "text": [
            "[ 2.71828183  7.3890561  20.08553692]\n",
            "[2. 4. 8.]\n",
            "[  5  25 125]\n"
          ],
          "name": "stdout"
        }
      ]
    },
    {
      "cell_type": "markdown",
      "metadata": {
        "id": "D62HU9Ebi5zv"
      },
      "source": [
        "#### Print the results of ln, log 2, and log 10 on x"
      ]
    },
    {
      "cell_type": "code",
      "metadata": {
        "id": "Hb4Mibdri5zw",
        "colab": {
          "base_uri": "https://localhost:8080/"
        },
        "outputId": "9812ba01-3d35-4884-da99-4cffa8c223e4"
      },
      "source": [
        "x = [1, 2, 4, 10]\n",
        "\n",
        "print(np.log(x))\n",
        "print(np.log2(x))\n",
        "print(np.log10(x))"
      ],
      "execution_count": 23,
      "outputs": [
        {
          "output_type": "stream",
          "text": [
            "[0.         0.69314718 1.38629436 2.30258509]\n",
            "[0.         1.         2.         3.32192809]\n",
            "[0.         0.30103    0.60205999 1.        ]\n"
          ],
          "name": "stdout"
        }
      ]
    },
    {
      "cell_type": "markdown",
      "metadata": {
        "id": "80WAcKJMi5zx"
      },
      "source": [
        "#### Print the results of exp(x) - 1 and expm1(x)\n",
        "\n",
        "Note that the results of each function differ. This is a result of the increased precision of expm1."
      ]
    },
    {
      "cell_type": "code",
      "metadata": {
        "id": "mdjipskqi5zz",
        "colab": {
          "base_uri": "https://localhost:8080/"
        },
        "outputId": "33018154-91a6-431e-f876-d90f860d6912"
      },
      "source": [
        "z = [0, 0.0000000001, 0.000000001, 0.00000001]\n",
        "\n",
        "print(np.expm1(z))"
      ],
      "execution_count": 24,
      "outputs": [
        {
          "output_type": "stream",
          "text": [
            "[0.00000000e+00 1.00000000e-10 1.00000000e-09 1.00000001e-08]\n"
          ],
          "name": "stdout"
        }
      ]
    },
    {
      "cell_type": "markdown",
      "metadata": {
        "id": "n8GMBzxVi6Zb"
      },
      "source": [
        "# Aggregations: Min, Max, and Everything In Between"
      ]
    },
    {
      "cell_type": "markdown",
      "metadata": {
        "id": "iiuuE8z6i6Zp"
      },
      "source": [
        "## Minimum and Maximum"
      ]
    },
    {
      "cell_type": "code",
      "metadata": {
        "id": "t7Xx6CRQpdP0"
      },
      "source": [
        "big_data = np.random.rand(1000000)"
      ],
      "execution_count": 25,
      "outputs": []
    },
    {
      "cell_type": "markdown",
      "metadata": {
        "id": "7sRLY_DUi6Zs"
      },
      "source": [
        "#### Print the min and max values of big_data"
      ]
    },
    {
      "cell_type": "code",
      "metadata": {
        "id": "BP0V9fHCi6Zs",
        "colab": {
          "base_uri": "https://localhost:8080/"
        },
        "outputId": "fee448d6-d201-4192-e6e0-75872566e78a"
      },
      "source": [
        "print(big_data.min())\n",
        "print(big_data.max())"
      ],
      "execution_count": 26,
      "outputs": [
        {
          "output_type": "stream",
          "text": [
            "5.676621002148607e-07\n",
            "0.999999737284848\n"
          ],
          "name": "stdout"
        }
      ]
    },
    {
      "cell_type": "markdown",
      "metadata": {
        "id": "dk5t-1bQi6Zy"
      },
      "source": [
        "#### Print the sum of the elements of big_data"
      ]
    },
    {
      "cell_type": "code",
      "metadata": {
        "id": "2qx5z7H3i6Zy",
        "colab": {
          "base_uri": "https://localhost:8080/"
        },
        "outputId": "e02bd859-e6a7-4a68-8489-01b4719eb942"
      },
      "source": [
        "print(big_data.sum())\n",
        "print(np.sum(big_data))"
      ],
      "execution_count": 28,
      "outputs": [
        {
          "output_type": "stream",
          "text": [
            "499905.9837587412\n",
            "499905.9837587412\n"
          ],
          "name": "stdout"
        }
      ]
    },
    {
      "cell_type": "markdown",
      "metadata": {
        "id": "EigHxKpui6Z1"
      },
      "source": [
        "### Multi dimensional aggregates"
      ]
    },
    {
      "cell_type": "code",
      "metadata": {
        "id": "91jChFHwi6Z1",
        "colab": {
          "base_uri": "https://localhost:8080/"
        },
        "outputId": "b4c843d9-e736-4be5-bc65-aaa54a331d2a"
      },
      "source": [
        "x = np.random.random((3, 4))\n",
        "print(x)"
      ],
      "execution_count": 29,
      "outputs": [
        {
          "output_type": "stream",
          "text": [
            "[[0.94151148 0.87010948 0.72633759 0.6476797 ]\n",
            " [0.37626399 0.90246528 0.46946616 0.87413102]\n",
            " [0.58783548 0.10397502 0.22476157 0.35570318]]\n"
          ],
          "name": "stdout"
        }
      ]
    },
    {
      "cell_type": "markdown",
      "metadata": {
        "id": "WNMd6vqBi6Z3"
      },
      "source": [
        "#### Print the sum of the elements of x\n",
        "\n",
        "Remember: by default, aggregation functions will return the aggregate over all the elements of an array"
      ]
    },
    {
      "cell_type": "code",
      "metadata": {
        "id": "nd1UbwmTi6Z4",
        "colab": {
          "base_uri": "https://localhost:8080/"
        },
        "outputId": "f3dcd74d-1eea-48a6-912f-bdfdc6ffd350"
      },
      "source": [
        "np.sum(x)"
      ],
      "execution_count": 30,
      "outputs": [
        {
          "output_type": "execute_result",
          "data": {
            "text/plain": [
              "7.080239953992446"
            ]
          },
          "metadata": {
            "tags": []
          },
          "execution_count": 30
        }
      ]
    },
    {
      "cell_type": "markdown",
      "metadata": {
        "id": "kYvdcG5pi6Z6"
      },
      "source": [
        "#### Print the minimum value of each column of x\n",
        "\n",
        "Remember: aggregation functions have a keyword argument called axis, axis describes the axis of the table that gets collapsed by the aggregation. To calculate a statistic along axis-1, you must collapse axis-0"
      ]
    },
    {
      "cell_type": "code",
      "metadata": {
        "id": "HuoW0YVqi6Z7",
        "colab": {
          "base_uri": "https://localhost:8080/"
        },
        "outputId": "e4016404-1904-4cb4-8c51-e0dc2191d174"
      },
      "source": [
        "np.min(x, axis=0)"
      ],
      "execution_count": 32,
      "outputs": [
        {
          "output_type": "execute_result",
          "data": {
            "text/plain": [
              "array([0.37626399, 0.10397502, 0.22476157, 0.35570318])"
            ]
          },
          "metadata": {
            "tags": []
          },
          "execution_count": 32
        }
      ]
    },
    {
      "cell_type": "markdown",
      "metadata": {
        "id": "ML71HDNWi6Z-"
      },
      "source": [
        "#### Print the maximum value of each row of x"
      ]
    },
    {
      "cell_type": "code",
      "metadata": {
        "id": "0bO18mufi6Z_",
        "colab": {
          "base_uri": "https://localhost:8080/"
        },
        "outputId": "609935c6-b089-4022-885a-68906328570a"
      },
      "source": [
        "x.max(axis=1)"
      ],
      "execution_count": 33,
      "outputs": [
        {
          "output_type": "execute_result",
          "data": {
            "text/plain": [
              "array([0.94151148, 0.90246528, 0.58783548])"
            ]
          },
          "metadata": {
            "tags": []
          },
          "execution_count": 33
        }
      ]
    },
    {
      "cell_type": "markdown",
      "metadata": {
        "id": "6rlEI5zBi6aD"
      },
      "source": [
        "### Other aggregation functions\n",
        "\n",
        "#### NumPy provides builtin functions for calculating common statistic. You should familiarize yourself with the functions in this table because they will come up in the future\n",
        "\n",
        "|Function Name      |   NaN-safe Version  | Description                                   |\n",
        "|-------------------|---------------------|-----------------------------------------------|\n",
        "| ``np.sum``        | ``np.nansum``       | Compute sum of elements                       |\n",
        "| ``np.prod``       | ``np.nanprod``      | Compute product of elements                   |\n",
        "| ``np.mean``       | ``np.nanmean``      | Compute mean of elements                      |\n",
        "| ``np.std``        | ``np.nanstd``       | Compute standard deviation                    |\n",
        "| ``np.var``        | ``np.nanvar``       | Compute variance                              |\n",
        "| ``np.min``        | ``np.nanmin``       | Find minimum value                            |\n",
        "| ``np.max``        | ``np.nanmax``       | Find maximum value                            |\n",
        "| ``np.argmin``     | ``np.nanargmin``    | Find index of minimum value                   |\n",
        "| ``np.argmax``     | ``np.nanargmax``    | Find index of maximum value                   |\n",
        "| ``np.median``     | ``np.nanmedian``    | Compute median of elements                    |\n",
        "| ``np.percentile`` | ``np.nanpercentile``| Compute rank-based statistics of elements     |\n",
        "| ``np.any``        | N/A                 | Evaluate whether any elements are true        |\n",
        "| ``np.all``        | N/A                 | Evaluate whether all elements are true        |\n"
      ]
    },
    {
      "cell_type": "markdown",
      "metadata": {
        "id": "LeDBdmTgi6aD"
      },
      "source": [
        "## Example: What is the Average Height of US Presidents?"
      ]
    },
    {
      "cell_type": "markdown",
      "metadata": {
        "id": "KNTlmrweD9gN"
      },
      "source": [
        "#### Import Data"
      ]
    },
    {
      "cell_type": "code",
      "metadata": {
        "id": "2IrZzw8Pi6aI",
        "colab": {
          "base_uri": "https://localhost:8080/"
        },
        "outputId": "18729ad3-ac98-4ea2-c2f1-0789284b2875"
      },
      "source": [
        "data = np.array([\n",
        "    [1, \"George Washington\", 189],\n",
        "    [2, \"John Adams\", 170],\n",
        "    [3, \"Thomas Jefferson\", 189]\n",
        "])\n",
        "heights = data[:, 2].astype('int32') # has to change the type to int/float\n",
        "print(heights)"
      ],
      "execution_count": 41,
      "outputs": [
        {
          "output_type": "stream",
          "text": [
            "[189 170 189]\n"
          ],
          "name": "stdout"
        }
      ]
    },
    {
      "cell_type": "markdown",
      "metadata": {
        "id": "_sMLSXjED9gW"
      },
      "source": [
        "#### In the following section we will calculate statistics about US president heights and then graph these statistics"
      ]
    },
    {
      "cell_type": "markdown",
      "metadata": {
        "id": "LtaMdwzDi6aK"
      },
      "source": [
        "#### Calculate the mean and standard deviation of the heights"
      ]
    },
    {
      "cell_type": "code",
      "metadata": {
        "colab": {
          "base_uri": "https://localhost:8080/"
        },
        "id": "LQ9UcLKBHZiX",
        "outputId": "fb0a9964-0f01-4a8d-c270-d1e585d27d93"
      },
      "source": [
        "heights.dtype"
      ],
      "execution_count": 42,
      "outputs": [
        {
          "output_type": "execute_result",
          "data": {
            "text/plain": [
              "dtype('int32')"
            ]
          },
          "metadata": {
            "tags": []
          },
          "execution_count": 42
        }
      ]
    },
    {
      "cell_type": "code",
      "metadata": {
        "id": "Ui3lizUWi6aL",
        "colab": {
          "base_uri": "https://localhost:8080/"
        },
        "outputId": "dcc428db-949d-49d5-b09a-69f24ca43c8a"
      },
      "source": [
        "heights.mean(), heights.std()"
      ],
      "execution_count": 44,
      "outputs": [
        {
          "output_type": "execute_result",
          "data": {
            "text/plain": [
              "(182.66666666666666, 8.9566858950296)"
            ]
          },
          "metadata": {
            "tags": []
          },
          "execution_count": 44
        }
      ]
    },
    {
      "cell_type": "markdown",
      "metadata": {
        "id": "xj_hbgVji6aN"
      },
      "source": [
        "#### Calculate the five-number summary for the heights data. The five-number summary involves the minimum value, 25th percentile, median value, 75th percentile, and maximum value. Calculate each of those below"
      ]
    },
    {
      "cell_type": "code",
      "metadata": {
        "id": "4_O_vcS9i6aO",
        "colab": {
          "base_uri": "https://localhost:8080/"
        },
        "outputId": "eac7b272-fcdd-4d26-a1a3-1fe73eabb473"
      },
      "source": [
        "print(heights.min())\n",
        "print(np.percentile(heights, 25))\n",
        "print(np.median(heights))\n",
        "print(np.percentile(heights, 75))\n",
        "print(heights.max())"
      ],
      "execution_count": 46,
      "outputs": [
        {
          "output_type": "stream",
          "text": [
            "170\n",
            "179.5\n",
            "189.0\n",
            "189.0\n",
            "189\n"
          ],
          "name": "stdout"
        }
      ]
    },
    {
      "cell_type": "markdown",
      "metadata": {
        "id": "Pn_uPXi1i6aQ"
      },
      "source": [
        "#### The five-number summary gives us a valuable summary of the data, but more insights can be gained if we graph our data"
      ]
    },
    {
      "cell_type": "code",
      "metadata": {
        "id": "opsl7KQDi6aR"
      },
      "source": [
        "%matplotlib inline\n",
        "import matplotlib.pyplot as plt\n",
        "import seaborn; seaborn.set()"
      ],
      "execution_count": 47,
      "outputs": []
    },
    {
      "cell_type": "markdown",
      "metadata": {
        "id": "3AIeW3_PD9gc"
      },
      "source": [
        "#### Graph the heights data using a box plot. The box plot is a graphical representation of the five-point summary. Create the graph by passing the hieghts data into the plt.boxplot function. Give the graph a fitting name and label for the y-axis"
      ]
    },
    {
      "cell_type": "code",
      "metadata": {
        "id": "YswKh6W0i6aS",
        "colab": {
          "base_uri": "https://localhost:8080/",
          "height": 301
        },
        "outputId": "95076e73-26db-48ba-a2ae-2ab29f545508"
      },
      "source": [
        "plt.boxplot(heights)\n",
        "plt.title(\"Height Stats\")\n",
        "plt.ylabel('cm')"
      ],
      "execution_count": 48,
      "outputs": [
        {
          "output_type": "execute_result",
          "data": {
            "text/plain": [
              "Text(0, 0.5, 'cm')"
            ]
          },
          "metadata": {
            "tags": []
          },
          "execution_count": 48
        },
        {
          "output_type": "display_data",
          "data": {
            "image/png": "[encoded data removed]",
            "text/plain": [
              "<Figure size 432x288 with 1 Axes>"
            ]
          },
          "metadata": {
            "tags": []
          }
        }
      ]
    },
    {
      "cell_type": "code",
      "metadata": {
        "id": "5eDLJQQsI2Xp"
      },
      "source": [
        ""
      ],
      "execution_count": null,
      "outputs": []
    }
  ]
}