{
 "metadata": {
  "language_info": {
   "codemirror_mode": {
    "name": "ipython",
    "version": 3
   },
   "file_extension": ".py",
   "mimetype": "text/x-python",
   "name": "python",
   "nbconvert_exporter": "python",
   "pygments_lexer": "ipython3",
   "version": "3.7.0"
  },
  "orig_nbformat": 2,
  "kernelspec": {
   "name": "python370jvsc74a57bd0597c3c0e459f41ae29c6ba30388c7e35239002b09253c9d0c9b5ec401afa0069",
   "display_name": "Python 3.7.0 64-bit ('ds': conda)"
  },
  "metadata": {
   "interpreter": {
    "hash": "597c3c0e459f41ae29c6ba30388c7e35239002b09253c9d0c9b5ec401afa0069"
   }
  }
 },
 "nbformat": 4,
 "nbformat_minor": 2,
 "cells": [
  {
   "cell_type": "code",
   "execution_count": 13,
   "metadata": {},
   "outputs": [],
   "source": [
    "import numpy as np\n",
    "from sklearn.preprocessing import PolynomialFeatures \n",
    "from sklearn.linear_model import LinearRegression \n",
    "from sklearn.pipeline import make_pipeline\n",
    "import matplotlib.pyplot as plt"
   ]
  },
  {
   "cell_type": "code",
   "execution_count": 8,
   "metadata": {},
   "outputs": [],
   "source": [
    "def PolynomialRegression(degree=2, **kwargs): \n",
    "    return make_pipeline(PolynomialFeatures(degree), LinearRegression(**kwargs))"
   ]
  },
  {
   "cell_type": "code",
   "execution_count": 2,
   "metadata": {},
   "outputs": [],
   "source": [
    "def make_data(N, err=1.0, rseed=1):\n",
    "    # randomly sample the data\n",
    "    rng = np.random.RandomState(rseed) \n",
    "    X = rng.rand(N, 1) ** 2 \n",
    "    y=10-1./(X.ravel()+0.1) \n",
    "    if err > 0:\n",
    "        y += err * rng.randn(N) \n",
    "    return X, y"
   ]
  },
  {
   "cell_type": "code",
   "execution_count": 3,
   "metadata": {},
   "outputs": [
    {
     "output_type": "execute_result",
     "data": {
      "text/plain": [
       "(array([[1.73907352e-01],\n",
       "        [5.18867376e-01],\n",
       "        [1.30815988e-08],\n",
       "        [9.14049845e-02],\n",
       "        [2.15372915e-02],\n",
       "        [8.52641608e-03],\n",
       "        [3.46928663e-02],\n",
       "        [1.19412216e-01],\n",
       "        [1.57424429e-01],\n",
       "        [2.90323473e-01],\n",
       "        [1.75724041e-01],\n",
       "        [4.69525764e-01],\n",
       "        [4.18007224e-02],\n",
       "        [7.71090232e-01],\n",
       "        [7.50080261e-04],\n",
       "        [4.49526682e-01],\n",
       "        [1.74143298e-01],\n",
       "        [3.12134324e-01],\n",
       "        [1.97084925e-02],\n",
       "        [3.92442000e-02],\n",
       "        [6.41191864e-01],\n",
       "        [9.37530479e-01],\n",
       "        [9.82347155e-02],\n",
       "        [4.79310604e-01],\n",
       "        [7.68057946e-01],\n",
       "        [8.00321082e-01],\n",
       "        [7.23251789e-03],\n",
       "        [1.52527609e-03],\n",
       "        [2.88423714e-02],\n",
       "        [7.71134256e-01],\n",
       "        [9.67209972e-03],\n",
       "        [1.77331632e-01],\n",
       "        [9.17552352e-01],\n",
       "        [2.84265221e-01],\n",
       "        [4.78693941e-01],\n",
       "        [9.95501134e-02],\n",
       "        [4.71283524e-01],\n",
       "        [6.96600012e-01],\n",
       "        [3.34461088e-04],\n",
       "        [5.62716493e-01]]),\n",
       " array([ 7.24998644,  7.70041705, -0.12288892,  3.83970623,  1.50418461,\n",
       "         1.31600899,  1.88404109,  5.0456151 ,  5.42819209,  6.59281674,\n",
       "         5.70193919,  8.23148858,  1.8305394 ,  9.086429  ,  1.73425177,\n",
       "         8.92229631,  6.16043712,  6.68597765,  0.8992155 ,  4.51082693,\n",
       "         8.70162943,  8.39917725,  5.14639037, 10.37406543,  8.96816213,\n",
       "         9.50648826,  0.9746409 , -0.20201375,  1.09605993,  8.50272859,\n",
       "         0.67301646,  6.98083184,  9.856233  ,  8.32873282,  8.55755817,\n",
       "         5.87386864,  7.49515774,  9.997533  ,  0.54626444,  8.1929663 ]))"
      ]
     },
     "metadata": {},
     "execution_count": 3
    }
   ],
   "source": [
    "X, y = make_data(40)\n",
    "X, y"
   ]
  },
  {
   "cell_type": "code",
   "execution_count": 9,
   "metadata": {},
   "outputs": [],
   "source": [
    "from sklearn.model_selection import GridSearchCV\n",
    "param_grid = {'polynomialfeatures__degree': np.arange(21),\n",
    "                'linearregression__fit_intercept': [True, False],\n",
    "                'linearregression__normalize': [True, False]}\n",
    "grid = GridSearchCV(PolynomialRegression(), param_grid, cv=7)"
   ]
  },
  {
   "cell_type": "code",
   "execution_count": 10,
   "metadata": {},
   "outputs": [
    {
     "output_type": "execute_result",
     "data": {
      "text/plain": [
       "GridSearchCV(cv=7,\n",
       "             estimator=Pipeline(steps=[('polynomialfeatures',\n",
       "                                        PolynomialFeatures()),\n",
       "                                       ('linearregression',\n",
       "                                        LinearRegression())]),\n",
       "             param_grid={'linearregression__fit_intercept': [True, False],\n",
       "                         'linearregression__normalize': [True, False],\n",
       "                         'polynomialfeatures__degree': array([ 0,  1,  2,  3,  4,  5,  6,  7,  8,  9, 10, 11, 12, 13, 14, 15, 16,\n",
       "       17, 18, 19, 20])})"
      ]
     },
     "metadata": {},
     "execution_count": 10
    }
   ],
   "source": [
    "grid.fit(X, y)"
   ]
  },
  {
   "cell_type": "code",
   "execution_count": 11,
   "metadata": {},
   "outputs": [
    {
     "output_type": "execute_result",
     "data": {
      "text/plain": [
       "{'linearregression__fit_intercept': False,\n",
       " 'linearregression__normalize': True,\n",
       " 'polynomialfeatures__degree': 4}"
      ]
     },
     "metadata": {},
     "execution_count": 11
    }
   ],
   "source": [
    "grid.best_params_"
   ]
  },
  {
   "cell_type": "code",
   "execution_count": 12,
   "metadata": {},
   "outputs": [],
   "source": [
    "model = grid.best_estimator_"
   ]
  },
  {
   "cell_type": "code",
   "execution_count": 16,
   "metadata": {},
   "outputs": [
    {
     "output_type": "execute_result",
     "data": {
      "text/plain": [
       "(-0.04687651021505175,\n",
       " 0.9844070023112612,\n",
       " -0.7308177116555796,\n",
       " 10.902869392322714)"
      ]
     },
     "metadata": {},
     "execution_count": 16
    },
    {
     "output_type": "display_data",
     "data": {
      "text/plain": "<Figure size 432x288 with 1 Axes>",
      "image/svg+xml": "<?xml version=\"1.0\" encoding=\"utf-8\" standalone=\"no\"?>\n<!DOCTYPE svg PUBLIC \"-//W3C//DTD SVG 1.1//EN\"\n  \"http://www.w3.org/Graphics/SVG/1.1/DTD/svg11.dtd\">\n<!-- Created with matplotlib (https://matplotlib.org/) -->\n<svg height=\"248.518125pt\" version=\"1.1\" viewBox=\"0 0 368.925 248.518125\" width=\"368.925pt\" xmlns=\"http://www.w3.org/2000/svg\" xmlns:xlink=\"http://www.w3.org/1999/xlink\">\n <metadata>\n  <rdf:RDF xmlns:cc=\"http://creativecommons.org/ns#\" xmlns:dc=\"http://purl.org/dc/elements/1.1/\" xmlns:rdf=\"http://www.w3.org/1999/02/22-rdf-syntax-ns#\">\n   <cc:Work>\n    <dc:type rdf:resource=\"http://purl.org/dc/dcmitype/StillImage\"/>\n    <dc:date>2021-06-04T23:39:59.714200</dc:date>\n    <dc:format>image/svg+xml</dc:format>\n    <dc:creator>\n     <cc:Agent>\n      <dc:title>Matplotlib v3.3.1, https://matplotlib.org/</dc:title>\n     </cc:Agent>\n    </dc:creator>\n   </cc:Work>\n  </rdf:RDF>\n </metadata>\n <defs>\n  <style type=\"text/css\">*{stroke-linecap:butt;stroke-linejoin:round;}</style>\n </defs>\n <g id=\"figure_1\">\n  <g id=\"patch_1\">\n   <path d=\"M -0 248.518125 \nL 368.925 248.518125 \nL 368.925 0 \nL -0 0 \nz\n\" style=\"fill:none;\"/>\n  </g>\n  <g id=\"axes_1\">\n   <g id=\"patch_2\">\n    <path d=\"M 26.925 224.64 \nL 361.725 224.64 \nL 361.725 7.2 \nL 26.925 7.2 \nz\n\" style=\"fill:#ffffff;\"/>\n   </g>\n   <g id=\"PathCollection_1\">\n    <defs>\n     <path d=\"M 0 3 \nC 0.795609 3 1.55874 2.683901 2.12132 2.12132 \nC 2.683901 1.55874 3 0.795609 3 0 \nC 3 -0.795609 2.683901 -1.55874 2.12132 -2.12132 \nC 1.55874 -2.683901 0.795609 -3 0 -3 \nC -0.795609 -3 -1.55874 -2.683901 -2.12132 -2.12132 \nC -2.683901 -1.55874 -3 -0.795609 -3 0 \nC -3 0.795609 -2.683901 1.55874 -2.12132 2.12132 \nC -1.55874 2.683901 -0.795609 3 0 3 \nz\n\" id=\"m369048472a\" style=\"stroke:#1f77b4;\"/>\n    </defs>\n    <g clip-path=\"url(#p1df3a2feb3)\">\n     <use style=\"fill:#1f77b4;stroke:#1f77b4;\" x=\"98.601155\" xlink:href=\"#m369048472a\" y=\"75.474388\"/>\n     <use style=\"fill:#1f77b4;stroke:#1f77b4;\" x=\"210.590356\" xlink:href=\"#m369048472a\" y=\"67.055593\"/>\n     <use style=\"fill:#1f77b4;stroke:#1f77b4;\" x=\"42.143182\" xlink:href=\"#m369048472a\" y=\"213.277477\"/>\n     <use style=\"fill:#1f77b4;stroke:#1f77b4;\" x=\"71.817257\" xlink:href=\"#m369048472a\" y=\"139.214398\"/>\n     <use style=\"fill:#1f77b4;stroke:#1f77b4;\" x=\"49.13513\" xlink:href=\"#m369048472a\" y=\"182.866579\"/>\n     <use style=\"fill:#1f77b4;stroke:#1f77b4;\" x=\"44.911227\" xlink:href=\"#m369048472a\" y=\"186.383685\"/>\n     <use style=\"fill:#1f77b4;stroke:#1f77b4;\" x=\"53.406008\" xlink:href=\"#m369048472a\" y=\"175.766853\"/>\n     <use style=\"fill:#1f77b4;stroke:#1f77b4;\" x=\"80.909637\" xlink:href=\"#m369048472a\" y=\"116.675299\"/>\n     <use style=\"fill:#1f77b4;stroke:#1f77b4;\" x=\"93.250073\" xlink:href=\"#m369048472a\" y=\"109.524725\"/>\n     <use style=\"fill:#1f77b4;stroke:#1f77b4;\" x=\"136.39495\" xlink:href=\"#m369048472a\" y=\"87.757251\"/>\n     <use style=\"fill:#1f77b4;stroke:#1f77b4;\" x=\"99.190932\" xlink:href=\"#m369048472a\" y=\"104.408241\"/>\n     <use style=\"fill:#1f77b4;stroke:#1f77b4;\" x=\"194.571897\" xlink:href=\"#m369048472a\" y=\"57.129574\"/>\n     <use style=\"fill:#1f77b4;stroke:#1f77b4;\" x=\"55.713531\" xlink:href=\"#m369048472a\" y=\"176.766829\"/>\n     <use style=\"fill:#1f77b4;stroke:#1f77b4;\" x=\"292.472991\" xlink:href=\"#m369048472a\" y=\"41.150268\"/>\n     <use style=\"fill:#1f77b4;stroke:#1f77b4;\" x=\"42.386687\" xlink:href=\"#m369048472a\" y=\"178.566498\"/>\n     <use style=\"fill:#1f77b4;stroke:#1f77b4;\" x=\"188.079316\" xlink:href=\"#m369048472a\" y=\"44.217998\"/>\n     <use style=\"fill:#1f77b4;stroke:#1f77b4;\" x=\"98.677754\" xlink:href=\"#m369048472a\" y=\"95.838663\"/>\n     <use style=\"fill:#1f77b4;stroke:#1f77b4;\" x=\"143.475712\" xlink:href=\"#m369048472a\" y=\"86.016022\"/>\n     <use style=\"fill:#1f77b4;stroke:#1f77b4;\" x=\"48.541421\" xlink:href=\"#m369048472a\" y=\"194.173784\"/>\n     <use style=\"fill:#1f77b4;stroke:#1f77b4;\" x=\"54.883571\" xlink:href=\"#m369048472a\" y=\"126.670784\"/>\n     <use style=\"fill:#1f77b4;stroke:#1f77b4;\" x=\"250.302266\" xlink:href=\"#m369048472a\" y=\"48.342384\"/>\n     <use style=\"fill:#1f77b4;stroke:#1f77b4;\" x=\"346.506818\" xlink:href=\"#m369048472a\" y=\"53.995381\"/>\n     <use style=\"fill:#1f77b4;stroke:#1f77b4;\" x=\"74.034488\" xlink:href=\"#m369048472a\" y=\"114.791754\"/>\n     <use style=\"fill:#1f77b4;stroke:#1f77b4;\" x=\"197.748487\" xlink:href=\"#m369048472a\" y=\"17.083636\"/>\n     <use style=\"fill:#1f77b4;stroke:#1f77b4;\" x=\"291.488578\" xlink:href=\"#m369048472a\" y=\"43.360741\"/>\n     <use style=\"fill:#1f77b4;stroke:#1f77b4;\" x=\"301.962611\" xlink:href=\"#m369048472a\" y=\"33.29913\"/>\n     <use style=\"fill:#1f77b4;stroke:#1f77b4;\" x=\"44.491171\" xlink:href=\"#m369048472a\" y=\"192.764042\"/>\n     <use style=\"fill:#1f77b4;stroke:#1f77b4;\" x=\"42.638349\" xlink:href=\"#m369048472a\" y=\"214.756364\"/>\n     <use style=\"fill:#1f77b4;stroke:#1f77b4;\" x=\"51.50668\" xlink:href=\"#m369048472a\" y=\"190.494654\"/>\n     <use style=\"fill:#1f77b4;stroke:#1f77b4;\" x=\"292.487284\" xlink:href=\"#m369048472a\" y=\"52.059949\"/>\n     <use style=\"fill:#1f77b4;stroke:#1f77b4;\" x=\"45.283167\" xlink:href=\"#m369048472a\" y=\"198.401569\"/>\n     <use style=\"fill:#1f77b4;stroke:#1f77b4;\" x=\"99.712827\" xlink:href=\"#m369048472a\" y=\"80.505035\"/>\n     <use style=\"fill:#1f77b4;stroke:#1f77b4;\" x=\"340.021039\" xlink:href=\"#m369048472a\" y=\"26.762209\"/>\n     <use style=\"fill:#1f77b4;stroke:#1f77b4;\" x=\"134.428175\" xlink:href=\"#m369048472a\" y=\"55.312026\"/>\n     <use style=\"fill:#1f77b4;stroke:#1f77b4;\" x=\"197.548291\" xlink:href=\"#m369048472a\" y=\"51.035154\"/>\n     <use style=\"fill:#1f77b4;stroke:#1f77b4;\" x=\"74.461524\" xlink:href=\"#m369048472a\" y=\"101.194785\"/>\n     <use style=\"fill:#1f77b4;stroke:#1f77b4;\" x=\"195.142544\" xlink:href=\"#m369048472a\" y=\"70.892002\"/>\n     <use style=\"fill:#1f77b4;stroke:#1f77b4;\" x=\"268.290189\" xlink:href=\"#m369048472a\" y=\"24.121234\"/>\n     <use style=\"fill:#1f77b4;stroke:#1f77b4;\" x=\"42.251758\" xlink:href=\"#m369048472a\" y=\"200.770633\"/>\n     <use style=\"fill:#1f77b4;stroke:#1f77b4;\" x=\"224.825708\" xlink:href=\"#m369048472a\" y=\"57.849577\"/>\n    </g>\n   </g>\n   <g id=\"matplotlib.axis_1\">\n    <g id=\"xtick_1\">\n     <g id=\"line2d_1\">\n      <defs>\n       <path d=\"M 0 0 \nL 0 3.5 \n\" id=\"m410fc19763\" style=\"stroke:#000000;stroke-width:0.8;\"/>\n      </defs>\n      <g>\n       <use style=\"stroke:#000000;stroke-width:0.8;\" x=\"42.143178\" xlink:href=\"#m410fc19763\" y=\"224.64\"/>\n      </g>\n     </g>\n     <g id=\"text_1\">\n      <!-- 0.0 -->\n      <g transform=\"translate(34.191615 239.238437)scale(0.1 -0.1)\">\n       <defs>\n        <path d=\"M 31.78125 66.40625 \nQ 24.171875 66.40625 20.328125 58.90625 \nQ 16.5 51.421875 16.5 36.375 \nQ 16.5 21.390625 20.328125 13.890625 \nQ 24.171875 6.390625 31.78125 6.390625 \nQ 39.453125 6.390625 43.28125 13.890625 \nQ 47.125 21.390625 47.125 36.375 \nQ 47.125 51.421875 43.28125 58.90625 \nQ 39.453125 66.40625 31.78125 66.40625 \nz\nM 31.78125 74.21875 \nQ 44.046875 74.21875 50.515625 64.515625 \nQ 56.984375 54.828125 56.984375 36.375 \nQ 56.984375 17.96875 50.515625 8.265625 \nQ 44.046875 -1.421875 31.78125 -1.421875 \nQ 19.53125 -1.421875 13.0625 8.265625 \nQ 6.59375 17.96875 6.59375 36.375 \nQ 6.59375 54.828125 13.0625 64.515625 \nQ 19.53125 74.21875 31.78125 74.21875 \nz\n\" id=\"DejaVuSans-48\"/>\n        <path d=\"M 10.6875 12.40625 \nL 21 12.40625 \nL 21 0 \nL 10.6875 0 \nz\n\" id=\"DejaVuSans-46\"/>\n       </defs>\n       <use xlink:href=\"#DejaVuSans-48\"/>\n       <use x=\"63.623047\" xlink:href=\"#DejaVuSans-46\"/>\n       <use x=\"95.410156\" xlink:href=\"#DejaVuSans-48\"/>\n      </g>\n     </g>\n    </g>\n    <g id=\"xtick_2\">\n     <g id=\"line2d_2\">\n      <g>\n       <use style=\"stroke:#000000;stroke-width:0.8;\" x=\"107.071977\" xlink:href=\"#m410fc19763\" y=\"224.64\"/>\n      </g>\n     </g>\n     <g id=\"text_2\">\n      <!-- 0.2 -->\n      <g transform=\"translate(99.120414 239.238437)scale(0.1 -0.1)\">\n       <defs>\n        <path d=\"M 19.1875 8.296875 \nL 53.609375 8.296875 \nL 53.609375 0 \nL 7.328125 0 \nL 7.328125 8.296875 \nQ 12.9375 14.109375 22.625 23.890625 \nQ 32.328125 33.6875 34.8125 36.53125 \nQ 39.546875 41.84375 41.421875 45.53125 \nQ 43.3125 49.21875 43.3125 52.78125 \nQ 43.3125 58.59375 39.234375 62.25 \nQ 35.15625 65.921875 28.609375 65.921875 \nQ 23.96875 65.921875 18.8125 64.3125 \nQ 13.671875 62.703125 7.8125 59.421875 \nL 7.8125 69.390625 \nQ 13.765625 71.78125 18.9375 73 \nQ 24.125 74.21875 28.421875 74.21875 \nQ 39.75 74.21875 46.484375 68.546875 \nQ 53.21875 62.890625 53.21875 53.421875 \nQ 53.21875 48.921875 51.53125 44.890625 \nQ 49.859375 40.875 45.40625 35.40625 \nQ 44.1875 33.984375 37.640625 27.21875 \nQ 31.109375 20.453125 19.1875 8.296875 \nz\n\" id=\"DejaVuSans-50\"/>\n       </defs>\n       <use xlink:href=\"#DejaVuSans-48\"/>\n       <use x=\"63.623047\" xlink:href=\"#DejaVuSans-46\"/>\n       <use x=\"95.410156\" xlink:href=\"#DejaVuSans-50\"/>\n      </g>\n     </g>\n    </g>\n    <g id=\"xtick_3\">\n     <g id=\"line2d_3\">\n      <g>\n       <use style=\"stroke:#000000;stroke-width:0.8;\" x=\"172.000776\" xlink:href=\"#m410fc19763\" y=\"224.64\"/>\n      </g>\n     </g>\n     <g id=\"text_3\">\n      <!-- 0.4 -->\n      <g transform=\"translate(164.049213 239.238437)scale(0.1 -0.1)\">\n       <defs>\n        <path d=\"M 37.796875 64.3125 \nL 12.890625 25.390625 \nL 37.796875 25.390625 \nz\nM 35.203125 72.90625 \nL 47.609375 72.90625 \nL 47.609375 25.390625 \nL 58.015625 25.390625 \nL 58.015625 17.1875 \nL 47.609375 17.1875 \nL 47.609375 0 \nL 37.796875 0 \nL 37.796875 17.1875 \nL 4.890625 17.1875 \nL 4.890625 26.703125 \nz\n\" id=\"DejaVuSans-52\"/>\n       </defs>\n       <use xlink:href=\"#DejaVuSans-48\"/>\n       <use x=\"63.623047\" xlink:href=\"#DejaVuSans-46\"/>\n       <use x=\"95.410156\" xlink:href=\"#DejaVuSans-52\"/>\n      </g>\n     </g>\n    </g>\n    <g id=\"xtick_4\">\n     <g id=\"line2d_4\">\n      <g>\n       <use style=\"stroke:#000000;stroke-width:0.8;\" x=\"236.929575\" xlink:href=\"#m410fc19763\" y=\"224.64\"/>\n      </g>\n     </g>\n     <g id=\"text_4\">\n      <!-- 0.6 -->\n      <g transform=\"translate(228.978012 239.238437)scale(0.1 -0.1)\">\n       <defs>\n        <path d=\"M 33.015625 40.375 \nQ 26.375 40.375 22.484375 35.828125 \nQ 18.609375 31.296875 18.609375 23.390625 \nQ 18.609375 15.53125 22.484375 10.953125 \nQ 26.375 6.390625 33.015625 6.390625 \nQ 39.65625 6.390625 43.53125 10.953125 \nQ 47.40625 15.53125 47.40625 23.390625 \nQ 47.40625 31.296875 43.53125 35.828125 \nQ 39.65625 40.375 33.015625 40.375 \nz\nM 52.59375 71.296875 \nL 52.59375 62.3125 \nQ 48.875 64.0625 45.09375 64.984375 \nQ 41.3125 65.921875 37.59375 65.921875 \nQ 27.828125 65.921875 22.671875 59.328125 \nQ 17.53125 52.734375 16.796875 39.40625 \nQ 19.671875 43.65625 24.015625 45.921875 \nQ 28.375 48.1875 33.59375 48.1875 \nQ 44.578125 48.1875 50.953125 41.515625 \nQ 57.328125 34.859375 57.328125 23.390625 \nQ 57.328125 12.15625 50.6875 5.359375 \nQ 44.046875 -1.421875 33.015625 -1.421875 \nQ 20.359375 -1.421875 13.671875 8.265625 \nQ 6.984375 17.96875 6.984375 36.375 \nQ 6.984375 53.65625 15.1875 63.9375 \nQ 23.390625 74.21875 37.203125 74.21875 \nQ 40.921875 74.21875 44.703125 73.484375 \nQ 48.484375 72.75 52.59375 71.296875 \nz\n\" id=\"DejaVuSans-54\"/>\n       </defs>\n       <use xlink:href=\"#DejaVuSans-48\"/>\n       <use x=\"63.623047\" xlink:href=\"#DejaVuSans-46\"/>\n       <use x=\"95.410156\" xlink:href=\"#DejaVuSans-54\"/>\n      </g>\n     </g>\n    </g>\n    <g id=\"xtick_5\">\n     <g id=\"line2d_5\">\n      <g>\n       <use style=\"stroke:#000000;stroke-width:0.8;\" x=\"301.858374\" xlink:href=\"#m410fc19763\" y=\"224.64\"/>\n      </g>\n     </g>\n     <g id=\"text_5\">\n      <!-- 0.8 -->\n      <g transform=\"translate(293.906811 239.238437)scale(0.1 -0.1)\">\n       <defs>\n        <path d=\"M 31.78125 34.625 \nQ 24.75 34.625 20.71875 30.859375 \nQ 16.703125 27.09375 16.703125 20.515625 \nQ 16.703125 13.921875 20.71875 10.15625 \nQ 24.75 6.390625 31.78125 6.390625 \nQ 38.8125 6.390625 42.859375 10.171875 \nQ 46.921875 13.96875 46.921875 20.515625 \nQ 46.921875 27.09375 42.890625 30.859375 \nQ 38.875 34.625 31.78125 34.625 \nz\nM 21.921875 38.8125 \nQ 15.578125 40.375 12.03125 44.71875 \nQ 8.5 49.078125 8.5 55.328125 \nQ 8.5 64.0625 14.71875 69.140625 \nQ 20.953125 74.21875 31.78125 74.21875 \nQ 42.671875 74.21875 48.875 69.140625 \nQ 55.078125 64.0625 55.078125 55.328125 \nQ 55.078125 49.078125 51.53125 44.71875 \nQ 48 40.375 41.703125 38.8125 \nQ 48.828125 37.15625 52.796875 32.3125 \nQ 56.78125 27.484375 56.78125 20.515625 \nQ 56.78125 9.90625 50.3125 4.234375 \nQ 43.84375 -1.421875 31.78125 -1.421875 \nQ 19.734375 -1.421875 13.25 4.234375 \nQ 6.78125 9.90625 6.78125 20.515625 \nQ 6.78125 27.484375 10.78125 32.3125 \nQ 14.796875 37.15625 21.921875 38.8125 \nz\nM 18.3125 54.390625 \nQ 18.3125 48.734375 21.84375 45.5625 \nQ 25.390625 42.390625 31.78125 42.390625 \nQ 38.140625 42.390625 41.71875 45.5625 \nQ 45.3125 48.734375 45.3125 54.390625 \nQ 45.3125 60.0625 41.71875 63.234375 \nQ 38.140625 66.40625 31.78125 66.40625 \nQ 25.390625 66.40625 21.84375 63.234375 \nQ 18.3125 60.0625 18.3125 54.390625 \nz\n\" id=\"DejaVuSans-56\"/>\n       </defs>\n       <use xlink:href=\"#DejaVuSans-48\"/>\n       <use x=\"63.623047\" xlink:href=\"#DejaVuSans-46\"/>\n       <use x=\"95.410156\" xlink:href=\"#DejaVuSans-56\"/>\n      </g>\n     </g>\n    </g>\n   </g>\n   <g id=\"matplotlib.axis_2\">\n    <g id=\"ytick_1\">\n     <g id=\"line2d_6\">\n      <defs>\n       <path d=\"M 0 0 \nL -3.5 0 \n\" id=\"m90f585eebc\" style=\"stroke:#000000;stroke-width:0.8;\"/>\n      </defs>\n      <g>\n       <use style=\"stroke:#000000;stroke-width:0.8;\" x=\"26.925\" xlink:href=\"#m90f585eebc\" y=\"210.980616\"/>\n      </g>\n     </g>\n     <g id=\"text_6\">\n      <!-- 0 -->\n      <g transform=\"translate(13.5625 214.779834)scale(0.1 -0.1)\">\n       <use xlink:href=\"#DejaVuSans-48\"/>\n      </g>\n     </g>\n    </g>\n    <g id=\"ytick_2\">\n     <g id=\"line2d_7\">\n      <g>\n       <use style=\"stroke:#000000;stroke-width:0.8;\" x=\"26.925\" xlink:href=\"#m90f585eebc\" y=\"173.599517\"/>\n      </g>\n     </g>\n     <g id=\"text_7\">\n      <!-- 2 -->\n      <g transform=\"translate(13.5625 177.398736)scale(0.1 -0.1)\">\n       <use xlink:href=\"#DejaVuSans-50\"/>\n      </g>\n     </g>\n    </g>\n    <g id=\"ytick_3\">\n     <g id=\"line2d_8\">\n      <g>\n       <use style=\"stroke:#000000;stroke-width:0.8;\" x=\"26.925\" xlink:href=\"#m90f585eebc\" y=\"136.218419\"/>\n      </g>\n     </g>\n     <g id=\"text_8\">\n      <!-- 4 -->\n      <g transform=\"translate(13.5625 140.017638)scale(0.1 -0.1)\">\n       <use xlink:href=\"#DejaVuSans-52\"/>\n      </g>\n     </g>\n    </g>\n    <g id=\"ytick_4\">\n     <g id=\"line2d_9\">\n      <g>\n       <use style=\"stroke:#000000;stroke-width:0.8;\" x=\"26.925\" xlink:href=\"#m90f585eebc\" y=\"98.837321\"/>\n      </g>\n     </g>\n     <g id=\"text_9\">\n      <!-- 6 -->\n      <g transform=\"translate(13.5625 102.63654)scale(0.1 -0.1)\">\n       <use xlink:href=\"#DejaVuSans-54\"/>\n      </g>\n     </g>\n    </g>\n    <g id=\"ytick_5\">\n     <g id=\"line2d_10\">\n      <g>\n       <use style=\"stroke:#000000;stroke-width:0.8;\" x=\"26.925\" xlink:href=\"#m90f585eebc\" y=\"61.456223\"/>\n      </g>\n     </g>\n     <g id=\"text_10\">\n      <!-- 8 -->\n      <g transform=\"translate(13.5625 65.255442)scale(0.1 -0.1)\">\n       <use xlink:href=\"#DejaVuSans-56\"/>\n      </g>\n     </g>\n    </g>\n    <g id=\"ytick_6\">\n     <g id=\"line2d_11\">\n      <g>\n       <use style=\"stroke:#000000;stroke-width:0.8;\" x=\"26.925\" xlink:href=\"#m90f585eebc\" y=\"24.075125\"/>\n      </g>\n     </g>\n     <g id=\"text_11\">\n      <!-- 10 -->\n      <g transform=\"translate(7.2 27.874343)scale(0.1 -0.1)\">\n       <defs>\n        <path d=\"M 12.40625 8.296875 \nL 28.515625 8.296875 \nL 28.515625 63.921875 \nL 10.984375 60.40625 \nL 10.984375 69.390625 \nL 28.421875 72.90625 \nL 38.28125 72.90625 \nL 38.28125 8.296875 \nL 54.390625 8.296875 \nL 54.390625 0 \nL 12.40625 0 \nz\n\" id=\"DejaVuSans-49\"/>\n       </defs>\n       <use xlink:href=\"#DejaVuSans-49\"/>\n       <use x=\"63.623047\" xlink:href=\"#DejaVuSans-48\"/>\n      </g>\n     </g>\n    </g>\n   </g>\n   <g id=\"line2d_12\">\n    <path clip-path=\"url(#p1df3a2feb3)\" d=\"M 28.706275 249.518125 \nL 32.319281 235.720612 \nL 36.222816 221.687195 \nL 40.126351 208.519576 \nL 44.029886 196.180951 \nL 47.933421 184.635284 \nL 51.836956 173.847313 \nL 55.740491 163.782543 \nL 59.644026 154.407251 \nL 63.547561 145.688487 \nL 67.451096 137.594067 \nL 71.354631 130.092581 \nL 75.258166 123.153387 \nL 79.161701 116.746617 \nL 83.065236 110.843171 \nL 86.968771 105.414719 \nL 90.872306 100.433703 \nL 94.775841 95.873336 \nL 98.679376 91.707599 \nL 102.582911 87.911248 \nL 106.486446 84.459805 \nL 110.389981 81.329564 \nL 114.293516 78.497592 \nL 118.197051 75.941723 \nL 122.100586 73.640563 \nL 126.004121 71.573489 \nL 130.688364 69.374096 \nL 135.372606 67.450398 \nL 140.056848 65.771153 \nL 144.74109 64.306715 \nL 150.206039 62.832368 \nL 156.451695 61.405274 \nL 163.478058 60.060056 \nL 171.285128 58.801795 \nL 182.215026 57.294125 \nL 211.101185 53.44473 \nL 222.031083 51.69774 \nL 232.180274 49.857409 \nL 243.110172 47.650732 \nL 257.162898 44.566544 \nL 277.46128 40.107425 \nL 286.049057 38.462847 \nL 293.07542 37.341572 \nL 299.321076 36.578845 \nL 304.786025 36.139306 \nL 309.470267 35.965028 \nL 314.154509 36.007283 \nL 318.838751 36.29581 \nL 322.742286 36.746935 \nL 326.645821 37.409801 \nL 330.549356 38.304162 \nL 334.452891 39.450541 \nL 338.356426 40.870235 \nL 341.479254 42.217577 \nL 344.602082 43.765601 \nL 347.72491 45.526273 \nL 350.847738 47.511878 \nL 353.970566 49.735016 \nL 357.093394 52.2086 \nL 360.216222 54.945863 \nL 363.33905 57.960351 \nL 366.461878 61.265925 \nL 369.925 65.291762 \nL 369.925 65.291762 \n\" style=\"fill:none;stroke:#1f77b4;stroke-linecap:square;stroke-width:1.5;\"/>\n   </g>\n   <g id=\"patch_3\">\n    <path d=\"M 26.925 224.64 \nL 26.925 7.2 \n\" style=\"fill:none;stroke:#000000;stroke-linecap:square;stroke-linejoin:miter;stroke-width:0.8;\"/>\n   </g>\n   <g id=\"patch_4\">\n    <path d=\"M 361.725 224.64 \nL 361.725 7.2 \n\" style=\"fill:none;stroke:#000000;stroke-linecap:square;stroke-linejoin:miter;stroke-width:0.8;\"/>\n   </g>\n   <g id=\"patch_5\">\n    <path d=\"M 26.925 224.64 \nL 361.725 224.64 \n\" style=\"fill:none;stroke:#000000;stroke-linecap:square;stroke-linejoin:miter;stroke-width:0.8;\"/>\n   </g>\n   <g id=\"patch_6\">\n    <path d=\"M 26.925 7.2 \nL 361.725 7.2 \n\" style=\"fill:none;stroke:#000000;stroke-linecap:square;stroke-linejoin:miter;stroke-width:0.8;\"/>\n   </g>\n  </g>\n </g>\n <defs>\n  <clipPath id=\"p1df3a2feb3\">\n   <rect height=\"217.44\" width=\"334.8\" x=\"26.925\" y=\"7.2\"/>\n  </clipPath>\n </defs>\n</svg>\n",
      "image/png": "[encoded data removed]"
     },
     "metadata": {
      "needs_background": "light"
     }
    }
   ],
   "source": [
    "plt.scatter(X.ravel(), y)\n",
    "lim = plt.axis()\n",
    "X_test = np.linspace(-0.1, 1.1, 500)[:, None]\n",
    "y_test = model.fit(X, y).predict(X_test)\n",
    "plt.plot(X_test.ravel(), y_test)\n",
    "plt.axis(lim)"
   ]
  },
  {
   "cell_type": "code",
   "execution_count": null,
   "metadata": {},
   "outputs": [],
   "source": []
  }
 ]
}