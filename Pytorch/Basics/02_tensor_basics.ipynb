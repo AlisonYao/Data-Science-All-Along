{
 "cells": [
  {
   "cell_type": "code",
   "execution_count": 33,
   "source": [
    "import torch\n",
    "import numpy as np"
   ],
   "outputs": [],
   "metadata": {}
  },
  {
   "cell_type": "code",
   "execution_count": 7,
   "source": [
    "x = torch.empty(3)\n",
    "print(x)\n",
    "x = torch.empty(2, 3)\n",
    "print(x)\n",
    "x = torch.empty(2, 3, 4)\n",
    "print(x)\n",
    "x = torch.empty(2, 2, 3, 4)\n",
    "print(x)"
   ],
   "outputs": [
    {
     "output_type": "stream",
     "name": "stdout",
     "text": [
      "tensor([9.1477e-41, 0.0000e+00, 4.2039e-45])\n",
      "tensor([[ 0.0000e+00, -2.5244e-29, -9.2336e-02],\n",
      "        [-2.5250e-29,  1.1210e-44,  0.0000e+00]])\n",
      "tensor([[[ 2.0000e+00,  1.4347e+00,  8.4078e-45,  3.6734e-40],\n",
      "         [ 7.5848e-30,  1.4013e-45,  0.0000e+00,  0.0000e+00],\n",
      "         [ 1.4013e-45,  0.0000e+00,  0.0000e+00,  0.0000e+00]],\n",
      "\n",
      "        [[ 0.0000e+00,  0.0000e+00,  7.3929e-30,  1.4013e-45],\n",
      "         [ 9.1477e-41, -2.5244e-29,  1.1210e-44,  0.0000e+00],\n",
      "         [ 1.4013e-45, -2.5244e-29,  7.6008e-30,  1.4013e-45]]])\n",
      "tensor([[[[ 0.0000e+00,  0.0000e+00,  0.0000e+00,  0.0000e+00],\n",
      "          [ 0.0000e+00,  0.0000e+00,  0.0000e+00,  0.0000e+00],\n",
      "          [ 0.0000e+00,  0.0000e+00,  0.0000e+00,  0.0000e+00]],\n",
      "\n",
      "         [[ 0.0000e+00,  0.0000e+00,  0.0000e+00,  0.0000e+00],\n",
      "          [ 0.0000e+00,  0.0000e+00,  0.0000e+00,  0.0000e+00],\n",
      "          [ 0.0000e+00,  0.0000e+00,  0.0000e+00,  0.0000e+00]]],\n",
      "\n",
      "\n",
      "        [[[ 0.0000e+00, -2.5244e-29,  0.0000e+00, -2.5244e-29],\n",
      "          [ 5.6052e-45,  0.0000e+00,  0.0000e+00,  0.0000e+00],\n",
      "          [ 3.3631e-44,  0.0000e+00,  9.1851e-41,  8.6156e+09]],\n",
      "\n",
      "         [[-1.4013e-45,  2.8026e-45,  3.1097e-18,  1.1143e-39],\n",
      "          [ 0.0000e+00,  0.0000e+00,  0.0000e+00,  0.0000e+00],\n",
      "          [ 0.0000e+00,  0.0000e+00,  0.0000e+00,  0.0000e+00]]]])\n"
     ]
    }
   ],
   "metadata": {}
  },
  {
   "cell_type": "code",
   "execution_count": 9,
   "source": [
    "x = torch.rand(2, 3)\n",
    "print(x)\n",
    "x = torch.zeros(2, 3)\n",
    "print(x)\n",
    "x = torch.ones(2, 3)\n",
    "print(x)"
   ],
   "outputs": [
    {
     "output_type": "stream",
     "name": "stdout",
     "text": [
      "tensor([[0.3066, 0.8591, 0.1843],\n",
      "        [0.4854, 0.1499, 0.0887]])\n",
      "tensor([[0., 0., 0.],\n",
      "        [0., 0., 0.]])\n",
      "tensor([[1., 1., 1.],\n",
      "        [1., 1., 1.]])\n"
     ]
    }
   ],
   "metadata": {}
  },
  {
   "cell_type": "code",
   "execution_count": 11,
   "source": [
    "x = torch.ones(2, 3, dtype=torch.int)\n",
    "print(x.dtype)\n",
    "x = torch.ones(2, 3, dtype=torch.double)\n",
    "print(x.dtype)\n",
    "x = torch.ones(2, 3, dtype=torch.float16)\n",
    "print(x.dtype)"
   ],
   "outputs": [
    {
     "output_type": "stream",
     "name": "stdout",
     "text": [
      "torch.int32\n",
      "torch.float64\n",
      "torch.float16\n"
     ]
    }
   ],
   "metadata": {}
  },
  {
   "cell_type": "code",
   "execution_count": 15,
   "source": [
    "x = torch.ones(2, 3)\n",
    "print(x.size())\n",
    "print(x.shape)"
   ],
   "outputs": [
    {
     "output_type": "stream",
     "name": "stdout",
     "text": [
      "torch.Size([2, 3])\n",
      "torch.Size([2, 3])\n"
     ]
    }
   ],
   "metadata": {}
  },
  {
   "cell_type": "code",
   "execution_count": 16,
   "source": [
    "x = torch.tensor([2.5, 6.9])\n",
    "x"
   ],
   "outputs": [
    {
     "output_type": "execute_result",
     "data": {
      "text/plain": [
       "tensor([2.5000, 6.9000])"
      ]
     },
     "metadata": {},
     "execution_count": 16
    }
   ],
   "metadata": {}
  },
  {
   "cell_type": "code",
   "execution_count": 20,
   "source": [
    "x = torch.rand(2, 2)\n",
    "y = torch.rand(2, 2)\n",
    "# element wise operation\n",
    "z = x + y\n",
    "print(z)\n",
    "z = torch.add(x, y)\n",
    "print(z)\n",
    "# in-place operation\n",
    "y.add_(x) ### anything with _ is in-place\n",
    "print(y)"
   ],
   "outputs": [
    {
     "output_type": "stream",
     "name": "stdout",
     "text": [
      "tensor([[0.2840, 1.3006],\n",
      "        [1.6794, 1.9393]])\n",
      "tensor([[0.2840, 1.3006],\n",
      "        [1.6794, 1.9393]])\n",
      "tensor([[0.2840, 1.3006],\n",
      "        [1.6794, 1.9393]])\n"
     ]
    }
   ],
   "metadata": {}
  },
  {
   "cell_type": "code",
   "execution_count": 22,
   "source": [
    "x = torch.rand(2, 2)\n",
    "y = torch.rand(2, 2)\n",
    "# element wise operation\n",
    "z = x - y\n",
    "print(z)\n",
    "z = torch.sub(x, y)\n",
    "print(z)\n",
    "# in-place operation\n",
    "x.sub_(y) ### anything with _ is in-place\n",
    "print(x)"
   ],
   "outputs": [
    {
     "output_type": "stream",
     "name": "stdout",
     "text": [
      "tensor([[-0.0688, -0.0933],\n",
      "        [ 0.3334,  0.4275]])\n",
      "tensor([[-0.0688, -0.0933],\n",
      "        [ 0.3334,  0.4275]])\n",
      "tensor([[-0.0688, -0.0933],\n",
      "        [ 0.3334,  0.4275]])\n"
     ]
    }
   ],
   "metadata": {}
  },
  {
   "cell_type": "code",
   "execution_count": 23,
   "source": [
    "x = torch.rand(2, 2)\n",
    "y = torch.rand(2, 2)\n",
    "# element wise operation\n",
    "z = x * y\n",
    "print(z)\n",
    "z = torch.mul(x, y)\n",
    "print(z)\n",
    "# in-place operation\n",
    "y.mul_(x) ### anything with _ is in-place\n",
    "print(y)"
   ],
   "outputs": [
    {
     "output_type": "stream",
     "name": "stdout",
     "text": [
      "tensor([[0.8074, 0.0928],\n",
      "        [0.1997, 0.2392]])\n",
      "tensor([[0.8074, 0.0928],\n",
      "        [0.1997, 0.2392]])\n",
      "tensor([[0.8074, 0.0928],\n",
      "        [0.1997, 0.2392]])\n"
     ]
    }
   ],
   "metadata": {}
  },
  {
   "cell_type": "code",
   "execution_count": 27,
   "source": [
    "x = torch.rand(2, 2)\n",
    "y = torch.rand(2, 2)\n",
    "# element wise operation\n",
    "z = x / y\n",
    "print(z)\n",
    "z = torch.div(x, y)\n",
    "print(z)\n",
    "# in-place operation\n",
    "x.div_(y) ### anything with _ is in-place\n",
    "print(x)"
   ],
   "outputs": [
    {
     "output_type": "stream",
     "name": "stdout",
     "text": [
      "tensor([[1.6641, 0.4048],\n",
      "        [2.2084, 1.2837]])\n",
      "tensor([[1.6641, 0.4048],\n",
      "        [2.2084, 1.2837]])\n",
      "tensor([[1.6641, 0.4048],\n",
      "        [2.2084, 1.2837]])\n"
     ]
    }
   ],
   "metadata": {}
  },
  {
   "cell_type": "code",
   "execution_count": 30,
   "source": [
    "x = torch.rand(5, 3)\n",
    "print(x)\n",
    "print(x[:, 0]) # column\n",
    "print(x[1, :]) # row\n",
    "print(x[1, 1]) # element\n",
    "print(x[1, 1].item()) # get element value; item() is only for one element"
   ],
   "outputs": [
    {
     "output_type": "stream",
     "name": "stdout",
     "text": [
      "tensor([[0.9083, 0.5013, 0.0297],\n",
      "        [0.2458, 0.6937, 0.2411],\n",
      "        [0.7888, 0.5521, 0.8835],\n",
      "        [0.0582, 0.1608, 0.6599],\n",
      "        [0.0756, 0.5395, 0.2408]])\n",
      "tensor([0.9083, 0.2458, 0.7888, 0.0582, 0.0756])\n",
      "tensor([0.2458, 0.6937, 0.2411])\n",
      "tensor(0.6937)\n",
      "0.6936569809913635\n"
     ]
    }
   ],
   "metadata": {}
  },
  {
   "cell_type": "code",
   "execution_count": 32,
   "source": [
    "x = torch.rand(4, 4)\n",
    "y = x.view(16)\n",
    "print(y)\n",
    "y = x.view(-1, 8)\n",
    "print(y)"
   ],
   "outputs": [
    {
     "output_type": "stream",
     "name": "stdout",
     "text": [
      "tensor([0.6202, 0.7341, 0.8362, 0.6971, 0.1937, 0.1623, 0.7280, 0.0409, 0.5771,\n",
      "        0.1953, 0.8092, 0.4588, 0.3513, 0.9328, 0.6795, 0.7336])\n",
      "tensor([[0.6202, 0.7341, 0.8362, 0.6971, 0.1937, 0.1623, 0.7280, 0.0409],\n",
      "        [0.5771, 0.1953, 0.8092, 0.4588, 0.3513, 0.9328, 0.6795, 0.7336]])\n"
     ]
    }
   ],
   "metadata": {}
  },
  {
   "cell_type": "code",
   "execution_count": 37,
   "source": [
    "a = torch.ones(5)\n",
    "print(a)\n",
    "b = a.numpy()\n",
    "print(b, type(b))\n",
    "### careful!!!!\n",
    "a.add_(1)\n",
    "print(a)\n",
    "print(b)"
   ],
   "outputs": [
    {
     "output_type": "stream",
     "name": "stdout",
     "text": [
      "tensor([1., 1., 1., 1., 1.])\n",
      "[1. 1. 1. 1. 1.] <class 'numpy.ndarray'>\n",
      "tensor([2., 2., 2., 2., 2.])\n",
      "[2. 2. 2. 2. 2.]\n"
     ]
    }
   ],
   "metadata": {}
  },
  {
   "cell_type": "code",
   "execution_count": 38,
   "source": [
    "a = np.ones(5)\n",
    "print(a)\n",
    "b = torch.from_numpy(a)\n",
    "print(b)\n",
    "### careful again!!\n",
    "a += 1\n",
    "print(a)\n",
    "print(b)"
   ],
   "outputs": [
    {
     "output_type": "stream",
     "name": "stdout",
     "text": [
      "[1. 1. 1. 1. 1.]\n",
      "tensor([1., 1., 1., 1., 1.], dtype=torch.float64)\n",
      "[2. 2. 2. 2. 2.]\n",
      "tensor([2., 2., 2., 2., 2.], dtype=torch.float64)\n"
     ]
    }
   ],
   "metadata": {}
  },
  {
   "cell_type": "code",
   "execution_count": 40,
   "source": [
    "print(torch.cuda.is_available()) # here is False\n",
    "if torch.cuda.is_available():\n",
    "    device = torch.device('cuda') \n",
    "    x = torch.ones(5, device=device) # on GPU\n",
    "    y = torch.ones(5) # on CPU\n",
    "    y = y.to(device) # to GPU\n",
    "    z = x + y # operate on GPU\n",
    "    z = z.to('cuda') # back to CPU"
   ],
   "outputs": [
    {
     "output_type": "stream",
     "name": "stdout",
     "text": [
      "False\n"
     ]
    }
   ],
   "metadata": {}
  },
  {
   "cell_type": "code",
   "execution_count": null,
   "source": [],
   "outputs": [],
   "metadata": {}
  }
 ],
 "metadata": {
  "orig_nbformat": 4,
  "language_info": {
   "name": "python"
  }
 },
 "nbformat": 4,
 "nbformat_minor": 2
}