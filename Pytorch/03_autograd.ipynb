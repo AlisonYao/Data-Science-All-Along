{
 "cells": [
  {
   "cell_type": "code",
   "execution_count": 1,
   "source": [
    "import torch\n",
    "import numpy as np"
   ],
   "outputs": [],
   "metadata": {}
  },
  {
   "cell_type": "code",
   "execution_count": 9,
   "source": [
    "x = torch.randn(3, requires_grad=True) # x ~ N(0, 1)\n",
    "print(x)\n",
    "y = x + 2\n",
    "print(y)\n",
    "z = y * y * 2\n",
    "z = z.mean() # z is a scalar\n",
    "print(z)\n",
    "z.backward() # dz/dx\n",
    "print(x.grad)"
   ],
   "outputs": [
    {
     "output_type": "stream",
     "name": "stdout",
     "text": [
      "tensor([-0.1927, -0.1789,  0.5723], requires_grad=True)\n",
      "tensor([1.8073, 1.8211, 2.5723], grad_fn=<AddBackward0>)\n",
      "tensor(8.7997, grad_fn=<MeanBackward0>)\n",
      "tensor([2.4097, 2.4282, 3.4297])\n"
     ]
    }
   ],
   "metadata": {}
  },
  {
   "cell_type": "code",
   "execution_count": 11,
   "source": [
    "x = torch.randn(3, requires_grad=True) # x ~ N(0, 1)\n",
    "print(x)\n",
    "y = x + 2\n",
    "print(y)\n",
    "z = y * y * 2 # z is a tensor\n",
    "print(z)\n",
    "v = torch.tensor([0.1, 1, 0.001], dtype=torch.float32)\n",
    "z.backward(v) # dz/dx\n",
    "print(x.grad)"
   ],
   "outputs": [
    {
     "output_type": "stream",
     "name": "stdout",
     "text": [
      "tensor([-0.0570, -0.2110, -0.2370], requires_grad=True)\n",
      "tensor([1.9430, 1.7890, 1.7630], grad_fn=<AddBackward0>)\n",
      "tensor([7.5505, 6.4012, 6.2161], grad_fn=<MulBackward0>)\n",
      "tensor([7.7720e-01, 7.1561e+00, 7.0519e-03])\n"
     ]
    }
   ],
   "metadata": {}
  },
  {
   "cell_type": "markdown",
   "source": [
    "## Convert to requires_grad=False"
   ],
   "metadata": {}
  },
  {
   "cell_type": "code",
   "execution_count": 12,
   "source": [
    "x = torch.randn(3, requires_grad=True) # x ~ N(0, 1)\n",
    "print(x)\n",
    "x.requires_grad_(False)\n",
    "print(x)"
   ],
   "outputs": [
    {
     "output_type": "stream",
     "name": "stdout",
     "text": [
      "tensor([ 1.1004,  3.0825, -0.8442], requires_grad=True)\n",
      "tensor([ 1.1004,  3.0825, -0.8442])\n"
     ]
    }
   ],
   "metadata": {}
  },
  {
   "cell_type": "code",
   "execution_count": 13,
   "source": [
    "x = torch.randn(3, requires_grad=True) # x ~ N(0, 1)\n",
    "print(x)\n",
    "y = x.detach()\n",
    "print(y)"
   ],
   "outputs": [
    {
     "output_type": "stream",
     "name": "stdout",
     "text": [
      "tensor([ 1.3086, -0.4258, -0.8347], requires_grad=True)\n",
      "tensor([ 1.3086, -0.4258, -0.8347])\n"
     ]
    }
   ],
   "metadata": {}
  },
  {
   "cell_type": "code",
   "execution_count": 15,
   "source": [
    "x = torch.randn(3, requires_grad=True) # x ~ N(0, 1)\n",
    "print(x)\n",
    "with torch.no_grad():\n",
    "    y = x + 2\n",
    "    print(y)"
   ],
   "outputs": [
    {
     "output_type": "stream",
     "name": "stdout",
     "text": [
      "tensor([-2.6077,  1.1148, -0.6651], requires_grad=True)\n",
      "tensor([-0.6077,  3.1148,  1.3349])\n"
     ]
    }
   ],
   "metadata": {}
  },
  {
   "cell_type": "code",
   "execution_count": 19,
   "source": [
    "### fake training session\n",
    "# grad will accumulate\n",
    "weights = torch.ones(4, requires_grad=True)\n",
    "for epoch in range(3):\n",
    "    model_output = (weights * 3).sum()\n",
    "    model_output.backward()\n",
    "    print(weights.grad)\n",
    "\n",
    "print()\n",
    "\n",
    "# this one does not accumulate\n",
    "weights = torch.ones(4, requires_grad=True)\n",
    "for epoch in range(3):\n",
    "    model_output = (weights * 3).sum()\n",
    "    model_output.backward()\n",
    "    print(weights.grad)\n",
    "    weights.grad.zero_()"
   ],
   "outputs": [
    {
     "output_type": "stream",
     "name": "stdout",
     "text": [
      "tensor([3., 3., 3., 3.])\n",
      "tensor([6., 6., 6., 6.])\n",
      "tensor([9., 9., 9., 9.])\n",
      "\n",
      "tensor([3., 3., 3., 3.])\n",
      "tensor([3., 3., 3., 3.])\n",
      "tensor([3., 3., 3., 3.])\n"
     ]
    }
   ],
   "metadata": {}
  },
  {
   "cell_type": "code",
   "execution_count": null,
   "source": [
    "### clear optimizer gradient as well\n",
    "weights = torch.ones(4, requires_grad=True)\n",
    "optimizer = torch.optim.SGD(weights, lr=0.01)\n",
    "optimizer.step()\n",
    "optimizer.zero_grad()"
   ],
   "outputs": [],
   "metadata": {}
  },
  {
   "cell_type": "code",
   "execution_count": null,
   "source": [],
   "outputs": [],
   "metadata": {}
  }
 ],
 "metadata": {
  "orig_nbformat": 4,
  "language_info": {
   "name": "python"
  }
 },
 "nbformat": 4,
 "nbformat_minor": 2
}