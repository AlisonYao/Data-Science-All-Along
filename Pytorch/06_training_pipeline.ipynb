{
 "cells": [
  {
   "cell_type": "markdown",
   "source": [
    "# Linear regression Steps 3 & 4"
   ],
   "metadata": {}
  },
  {
   "cell_type": "code",
   "execution_count": 2,
   "source": [
    "import torch\n",
    "import torch.nn as nn"
   ],
   "outputs": [],
   "metadata": {}
  },
  {
   "cell_type": "markdown",
   "source": [
    "## General Pipeline\n",
    "\n",
    "1. Design model (input & output size, forward pass)\n",
    "\n",
    "2. Construct loss & optimizer\n",
    "\n",
    "3. Training Loop\n",
    "\n",
    " - forward pass: compute prediction\n",
    " - backward pass: compute gradients\n",
    " - update weights"
   ],
   "metadata": {}
  },
  {
   "cell_type": "markdown",
   "source": [
    "## Automate Loss computation: Pytorch loss & Parameter updates: Pytorch optimizer"
   ],
   "metadata": {}
  },
  {
   "cell_type": "code",
   "execution_count": 3,
   "source": [
    "### let's say a linear regression f = w * x\n",
    "# and w = 2\n",
    "# so f = 2 * x\n",
    "X = torch.tensor([1, 2, 3, 4], dtype=torch.float32)\n",
    "Y = torch.tensor([2, 4, 6, 8], dtype=torch.float32)\n",
    "w = torch.tensor(0.0, dtype=torch.float32, requires_grad=True)\n",
    "\n",
    "# model prediction\n",
    "def forward(x):\n",
    "    return w * x\n",
    "\n",
    "print(f'Prediction before training: f(5) = {forward(5):.3f}')\n",
    "\n",
    "# Training\n",
    "learning_rate = 0.01\n",
    "n_iters = 100\n",
    "\n",
    "loss = nn.MSELoss()\n",
    "optimizer = torch.optim.SGD([w], lr=learning_rate)\n",
    "\n",
    "for epoch in range(n_iters):\n",
    "    # prediction = forward pass\n",
    "    y_pred = forward(X)\n",
    "\n",
    "    # loss\n",
    "    # loss is now a function\n",
    "    l = loss(Y, y_pred)\n",
    "\n",
    "    # gradients = backward pass\n",
    "    l.backward() # calc dl/dw\n",
    "\n",
    "    # update weights\n",
    "    optimizer.step()\n",
    "\n",
    "    # reset gradient after using it in this pass\n",
    "    # bc l.backward() will accumulate in w.grad\n",
    "    optimizer.zero_grad()\n",
    "\n",
    "    if epoch % 10 == 0:\n",
    "        print(f'epoch {epoch + 1}:, w = {w:.3f}, loss = {l:.8f}')\n",
    "\n",
    "print(f'Prediction after training: f(5) = {forward(5):.3f}')"
   ],
   "outputs": [
    {
     "output_type": "stream",
     "name": "stdout",
     "text": [
      "Prediction before training: f(5) = 0.000\n",
      "epoch 1:, w = 0.300, loss = 30.00000000\n",
      "epoch 11:, w = 1.665, loss = 1.16278565\n",
      "epoch 21:, w = 1.934, loss = 0.04506890\n",
      "epoch 31:, w = 1.987, loss = 0.00174685\n",
      "epoch 41:, w = 1.997, loss = 0.00006770\n",
      "epoch 51:, w = 1.999, loss = 0.00000262\n",
      "epoch 61:, w = 2.000, loss = 0.00000010\n",
      "epoch 71:, w = 2.000, loss = 0.00000000\n",
      "epoch 81:, w = 2.000, loss = 0.00000000\n",
      "epoch 91:, w = 2.000, loss = 0.00000000\n",
      "Prediction after training: f(5) = 10.000\n"
     ]
    }
   ],
   "metadata": {}
  },
  {
   "cell_type": "markdown",
   "source": [
    "## Automate model"
   ],
   "metadata": {}
  },
  {
   "cell_type": "code",
   "execution_count": 10,
   "source": [
    "### let's say a linear regression f = w * x\n",
    "# and w = 2\n",
    "# so f = 2 * x\n",
    "X = torch.tensor([1, 2, 3, 4], dtype=torch.float32)\n",
    "X = X.view(4, 1) # reshape to feed into the model\n",
    "Y = torch.tensor([2, 4, 6, 8], dtype=torch.float32)\n",
    "Y = Y.view(4, 1)\n",
    "\n",
    "n_samples, n_features = X.shape\n",
    "input_size = n_features\n",
    "output_size = n_features\n",
    "\n",
    "model = nn.Linear(input_size, output_size)\n",
    "\n",
    "X_test = torch.tensor([5], dtype=torch.float32)\n",
    "print(f'Prediction before training: f(5) = {model(X_test).item():.3f}')\n",
    "\n",
    "# Training\n",
    "learning_rate = 0.01\n",
    "n_iters = 100\n",
    "\n",
    "loss = nn.MSELoss()\n",
    "optimizer = torch.optim.SGD(model.parameters(), lr=learning_rate)\n",
    "\n",
    "for epoch in range(n_iters):\n",
    "    # prediction = forward pass\n",
    "    y_pred = model(X)\n",
    "\n",
    "    # loss\n",
    "    # loss is now a function\n",
    "    l = loss(Y, y_pred)\n",
    "\n",
    "    # gradients = backward pass\n",
    "    l.backward() # calc dl/dw\n",
    "\n",
    "    # update weights\n",
    "    optimizer.step()\n",
    "\n",
    "    # reset gradient after using it in this pass\n",
    "    # bc l.backward() will accumulate in w.grad\n",
    "    optimizer.zero_grad()\n",
    "\n",
    "    if epoch % 10 == 0:\n",
    "        [w, b] = model.parameters()\n",
    "        print(f'epoch {epoch + 1}:, w = {w[0][0].item():.3f}, loss = {l:.8f}')\n",
    "\n",
    "print(f'Prediction after training: f(5) = {model(X_test).item():.3f}')"
   ],
   "outputs": [
    {
     "output_type": "stream",
     "name": "stdout",
     "text": [
      "Prediction before training: f(5) = 0.613\n",
      "epoch 1:, w = 0.407, loss = 26.48719406\n",
      "epoch 11:, w = 1.590, loss = 0.73311377\n",
      "epoch 21:, w = 1.785, loss = 0.06401064\n",
      "epoch 31:, w = 1.821, loss = 0.04407754\n",
      "epoch 41:, w = 1.831, loss = 0.04109266\n",
      "epoch 51:, w = 1.837, loss = 0.03868996\n",
      "epoch 61:, w = 1.842, loss = 0.03643779\n",
      "epoch 71:, w = 1.846, loss = 0.03431689\n",
      "epoch 81:, w = 1.851, loss = 0.03231947\n",
      "epoch 91:, w = 1.855, loss = 0.03043831\n",
      "Prediction after training: f(5) = 9.710\n"
     ]
    }
   ],
   "metadata": {}
  },
  {
   "cell_type": "markdown",
   "source": [
    "### What if we do not have the model-in-mind in packages?"
   ],
   "metadata": {}
  },
  {
   "cell_type": "code",
   "execution_count": null,
   "source": [
    "class LinearRegression(nn.Module):\n",
    "\n",
    "    def __init__(self, input_dim,  output_dim):\n",
    "        super(LinearRegression, self).__init__()\n",
    "        # define layers\n",
    "        self.lin = nn.Linear(input_dim,  output_dim)\n",
    "    \n",
    "    def forward(self, x):\n",
    "        return self.lin(x)\n",
    "\n",
    "model = LinearRegression(input_size, output_size)"
   ],
   "outputs": [],
   "metadata": {}
  }
 ],
 "metadata": {
  "orig_nbformat": 4,
  "language_info": {
   "name": "python",
   "version": "3.7.0",
   "mimetype": "text/x-python",
   "codemirror_mode": {
    "name": "ipython",
    "version": 3
   },
   "pygments_lexer": "ipython3",
   "nbconvert_exporter": "python",
   "file_extension": ".py"
  },
  "kernelspec": {
   "name": "python3",
   "display_name": "Python 3.7.0 64-bit ('ds': conda)"
  },
  "interpreter": {
   "hash": "597c3c0e459f41ae29c6ba30388c7e35239002b09253c9d0c9b5ec401afa0069"
  }
 },
 "nbformat": 4,
 "nbformat_minor": 2
}