{
 "cells": [
  {
   "cell_type": "code",
   "execution_count": 13,
   "source": [
    "import torch\n",
    "import numpy as np"
   ],
   "outputs": [],
   "metadata": {}
  },
  {
   "cell_type": "code",
   "execution_count": 14,
   "source": [
    "### let's say a linear regression f = w * x\n",
    "# and w = 2\n",
    "# so f = 2 * x\n",
    "X = np.array([1, 2, 3, 4], dtype=np.float32)\n",
    "Y = np.array([2, 4, 6, 8], dtype=np.float32)\n",
    "w = 0.0"
   ],
   "outputs": [],
   "metadata": {}
  },
  {
   "cell_type": "code",
   "execution_count": 15,
   "source": [
    "# model prediction\n",
    "def forward(x):\n",
    "    return w * x"
   ],
   "outputs": [],
   "metadata": {}
  },
  {
   "cell_type": "code",
   "execution_count": 16,
   "source": [
    "# loss = MSE\n",
    "def loss(y, y_predicted):\n",
    "    return ((y_predicted - y) ** 2).mean()"
   ],
   "outputs": [],
   "metadata": {}
  },
  {
   "cell_type": "code",
   "execution_count": 17,
   "source": [
    "# gradient\n",
    "# MSE = 1/N * (w * x - y) ** 2\n",
    "# dJ/dw = 1/N * 2(w * x - y) * x\n",
    "def gradient(x, y, y_predicted):\n",
    "    return np.dot(2 * x, y_predicted - y).mean()"
   ],
   "outputs": [],
   "metadata": {}
  },
  {
   "cell_type": "code",
   "execution_count": 18,
   "source": [
    "print(f'Prediction before training: f(5) = {forward(5):.3f}')"
   ],
   "outputs": [
    {
     "output_type": "stream",
     "name": "stdout",
     "text": [
      "Prediction before training: f(5) = 0.000\n"
     ]
    }
   ],
   "metadata": {}
  },
  {
   "cell_type": "code",
   "execution_count": 19,
   "source": [
    "# Training\n",
    "learning_rate = 0.01\n",
    "n_iters = 10\n",
    "\n",
    "for epoch in range(n_iters):\n",
    "    # prediction = forward pass\n",
    "    y_pred = forward(X)\n",
    "    # loss\n",
    "    l = loss(Y, y_pred)\n",
    "    # gradients\n",
    "    dw = gradient(X, Y, y_pred)\n",
    "    # update weights\n",
    "    w -= learning_rate * dw\n",
    "\n",
    "    if epoch % 1 == 0:\n",
    "        print(f'epoch {epoch + 1}:, w = {w:.3f}, loss = {l:.8f}')\n",
    "\n",
    "print(f'Prediction after training: f(5) = {forward(5):.3f}')"
   ],
   "outputs": [
    {
     "output_type": "stream",
     "name": "stdout",
     "text": [
      "epoch 1:, w = 1.200, loss = 30.00000000\n",
      "epoch 2:, w = 1.680, loss = 4.79999924\n",
      "epoch 3:, w = 1.872, loss = 0.76800019\n",
      "epoch 4:, w = 1.949, loss = 0.12288000\n",
      "epoch 5:, w = 1.980, loss = 0.01966083\n",
      "epoch 6:, w = 1.992, loss = 0.00314570\n",
      "epoch 7:, w = 1.997, loss = 0.00050332\n",
      "epoch 8:, w = 1.999, loss = 0.00008053\n",
      "epoch 9:, w = 1.999, loss = 0.00001288\n",
      "epoch 10:, w = 2.000, loss = 0.00000206\n",
      "Prediction after training: f(5) = 9.999\n"
     ]
    }
   ],
   "metadata": {}
  },
  {
   "cell_type": "code",
   "execution_count": null,
   "source": [],
   "outputs": [],
   "metadata": {}
  }
 ],
 "metadata": {
  "orig_nbformat": 4,
  "language_info": {
   "name": "python",
   "version": "3.7.0",
   "mimetype": "text/x-python",
   "codemirror_mode": {
    "name": "ipython",
    "version": 3
   },
   "pygments_lexer": "ipython3",
   "nbconvert_exporter": "python",
   "file_extension": ".py"
  },
  "kernelspec": {
   "name": "python3",
   "display_name": "Python 3.7.0 64-bit ('ds': conda)"
  },
  "interpreter": {
   "hash": "597c3c0e459f41ae29c6ba30388c7e35239002b09253c9d0c9b5ec401afa0069"
  }
 },
 "nbformat": 4,
 "nbformat_minor": 2
}