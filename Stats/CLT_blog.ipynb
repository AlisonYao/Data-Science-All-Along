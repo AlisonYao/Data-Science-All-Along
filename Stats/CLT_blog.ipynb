{
 "cells": [
  {
   "cell_type": "code",
   "execution_count": 2,
   "metadata": {},
   "outputs": [],
   "source": [
    "import numpy as np\n",
    "import math\n",
    "import random\n",
    "import matplotlib.pyplot as plt\n",
    "import seaborn as sns"
   ]
  },
  {
   "cell_type": "markdown",
   "metadata": {},
   "source": [
    "# Distribution of Scores"
   ]
  },
  {
   "cell_type": "code",
   "execution_count": 8,
   "metadata": {},
   "outputs": [
    {
     "data": {
      "text/plain": [
       "[6, 34, 11, 98, 52, 34, 13, 4, 48, 68]"
      ]
     },
     "execution_count": 8,
     "metadata": {},
     "output_type": "execute_result"
    }
   ],
   "source": [
    "# Let's randomly generate 10 numbers ranging from 0 to 100\n",
    "N = 10 # sample size\n",
    "sample = []\n",
    "random.seed(123)\n",
    "for i in range(N):\n",
    "    sample.append(random.randint(0, 100))\n",
    "sample"
   ]
  },
  {
   "cell_type": "code",
   "execution_count": 9,
   "metadata": {},
   "outputs": [
    {
     "data": {
      "text/plain": [
       "36.8"
      ]
     },
     "execution_count": 9,
     "metadata": {},
     "output_type": "execute_result"
    }
   ],
   "source": [
    "# mean\n",
    "np.mean(np.array(sample))"
   ]
  },
  {
   "cell_type": "code",
   "execution_count": 10,
   "metadata": {},
   "outputs": [
    {
     "data": {
      "text/plain": [
       "28.89221348391293"
      ]
     },
     "execution_count": 10,
     "metadata": {},
     "output_type": "execute_result"
    }
   ],
   "source": [
    "# biased standatd deviation\n",
    "np.std(np.array(sample))"
   ]
  },
  {
   "cell_type": "markdown",
   "metadata": {},
   "source": [
    "# Coin Example"
   ]
  },
  {
   "cell_type": "code",
   "execution_count": 80,
   "metadata": {},
   "outputs": [
    {
     "name": "stdout",
     "output_type": "stream",
     "text": [
      "{'tail': 495, 'head': 505}\n"
     ]
    }
   ],
   "source": [
    "# toss 10 fair coins\n",
    "frequencies = {'tail': 0, 'head': 0}\n",
    "for i in range(1000):\n",
    "    one_fair_coin = random.choice(['head', 'tail'])\n",
    "    if one_fair_coin == 'head':\n",
    "        frequencies[one_fair_coin] += 1\n",
    "    else:\n",
    "        frequencies[one_fair_coin] += 1\n",
    "print(frequencies)"
   ]
  },
  {
   "cell_type": "code",
   "execution_count": 81,
   "metadata": {},
   "outputs": [
    {
     "data": {
      "image/png": "[encoded data removed]",
      "text/plain": [
       "<Figure size 432x288 with 1 Axes>"
      ]
     },
     "metadata": {
      "needs_background": "light"
     },
     "output_type": "display_data"
    }
   ],
   "source": [
    "coin_outcomes = [0, 1]\n",
    "# plt.bar(coin_outcomes, frequencies.values(), width=0.5)\n",
    "plt.bar(coin_outcomes, [500, 500], width=0.5)\n",
    "plt.xticks(coin_outcomes)\n",
    "plt.xlabel('Coin Flip Outcome')\n",
    "plt.ylabel('Frequency')\n",
    "plt.show()"
   ]
  },
  {
   "cell_type": "code",
   "execution_count": null,
   "metadata": {},
   "outputs": [],
   "source": []
  },
  {
   "cell_type": "code",
   "execution_count": null,
   "metadata": {},
   "outputs": [],
   "source": []
  }
 ],
 "metadata": {
  "interpreter": {
   "hash": "c2af661dfde0ec8c5a02714854a37f3c65c89f42c889f3c328b8a95cd0a9cdfa"
  },
  "kernelspec": {
   "display_name": "Python 3.7.0 64-bit ('ds': conda)",
   "name": "python3"
  },
  "language_info": {
   "codemirror_mode": {
    "name": "ipython",
    "version": 3
   },
   "file_extension": ".py",
   "mimetype": "text/x-python",
   "name": "python",
   "nbconvert_exporter": "python",
   "pygments_lexer": "ipython3",
   "version": "3.7.0"
  },
  "orig_nbformat": 4
 },
 "nbformat": 4,
 "nbformat_minor": 2
}
