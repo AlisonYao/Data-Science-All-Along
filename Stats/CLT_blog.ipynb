{
 "cells": [
  {
   "cell_type": "code",
   "execution_count": 1,
   "metadata": {},
   "outputs": [],
   "source": [
    "import numpy as np\n",
    "import math\n",
    "import random\n",
    "import matplotlib.pyplot as plt\n",
    "import seaborn as sns"
   ]
  },
  {
   "cell_type": "markdown",
   "metadata": {},
   "source": [
    "# Distribution of Scores"
   ]
  },
  {
   "cell_type": "code",
   "execution_count": 2,
   "metadata": {},
   "outputs": [
    {
     "data": {
      "text/plain": [
       "[6, 34, 11, 98, 52, 34, 13, 4, 48, 68]"
      ]
     },
     "execution_count": 2,
     "metadata": {},
     "output_type": "execute_result"
    }
   ],
   "source": [
    "# Let's randomly generate 10 numbers ranging from 0 to 100\n",
    "N = 10 # sample size\n",
    "sample = []\n",
    "random.seed(123)\n",
    "for i in range(N):\n",
    "    sample.append(random.randint(0, 100))\n",
    "sample"
   ]
  },
  {
   "cell_type": "code",
   "execution_count": 3,
   "metadata": {},
   "outputs": [
    {
     "data": {
      "text/plain": [
       "36.8"
      ]
     },
     "execution_count": 3,
     "metadata": {},
     "output_type": "execute_result"
    }
   ],
   "source": [
    "# mean\n",
    "np.mean(np.array(sample))"
   ]
  },
  {
   "cell_type": "code",
   "execution_count": 4,
   "metadata": {},
   "outputs": [
    {
     "data": {
      "text/plain": [
       "28.89221348391293"
      ]
     },
     "execution_count": 4,
     "metadata": {},
     "output_type": "execute_result"
    }
   ],
   "source": [
    "# biased standatd deviation\n",
    "np.std(np.array(sample))"
   ]
  },
  {
   "cell_type": "markdown",
   "metadata": {},
   "source": [
    "# Coin Example"
   ]
  },
  {
   "cell_type": "markdown",
   "metadata": {},
   "source": [
    "### 1. 1000 fair coins"
   ]
  },
  {
   "cell_type": "code",
   "execution_count": 5,
   "metadata": {},
   "outputs": [
    {
     "name": "stdout",
     "output_type": "stream",
     "text": [
      "{'tail': 499, 'head': 501}\n"
     ]
    }
   ],
   "source": [
    "# toss 1000 fair coins\n",
    "frequencies = {'tail': 0, 'head': 0}\n",
    "for i in range(1000):\n",
    "    one_fair_coin = random.choice(['head', 'tail'])\n",
    "    if one_fair_coin == 'head':\n",
    "        frequencies[one_fair_coin] += 1\n",
    "    else:\n",
    "        frequencies[one_fair_coin] += 1\n",
    "print(frequencies)"
   ]
  },
  {
   "cell_type": "code",
   "execution_count": 6,
   "metadata": {},
   "outputs": [
    {
     "data": {
      "image/png": "[encoded data removed]",
      "text/plain": [
       "<Figure size 432x288 with 1 Axes>"
      ]
     },
     "metadata": {
      "needs_background": "light"
     },
     "output_type": "display_data"
    }
   ],
   "source": [
    "coin_outcomes = [0, 1]\n",
    "### visalize the ideal 500/500 split\n",
    "plt.bar(coin_outcomes, [500, 500], width=0.5)\n",
    "### Please uncomment the next line if you want to visualize the actual outcome\n",
    "# plt.bar(coin_outcomes, frequencies.values(), width=0.5)\n",
    "plt.xticks(coin_outcomes)\n",
    "plt.xlabel('Coin Flip Outcome')\n",
    "plt.ylabel('Frequency')\n",
    "plt.show()"
   ]
  },
  {
   "cell_type": "markdown",
   "metadata": {},
   "source": [
    "### 2. 100000000000 of fair coins"
   ]
  },
  {
   "cell_type": "code",
   "execution_count": null,
   "metadata": {},
   "outputs": [],
   "source": [
    "# toss 100000000000 fair coins\n",
    "frequencies = {'tail': 0, 'head': 0}\n",
    "for i in range(100000000000):\n",
    "    one_fair_coin = random.choice(['head', 'tail'])\n",
    "    if one_fair_coin == 'head':\n",
    "        frequencies[one_fair_coin] += 1\n",
    "    else:\n",
    "        frequencies[one_fair_coin] += 1\n",
    "print(frequencies)"
   ]
  },
  {
   "cell_type": "code",
   "execution_count": 8,
   "metadata": {},
   "outputs": [
    {
     "data": {
      "image/png": "[encoded data removed]",
      "text/plain": [
       "<Figure size 432x288 with 1 Axes>"
      ]
     },
     "metadata": {
      "needs_background": "light"
     },
     "output_type": "display_data"
    }
   ],
   "source": [
    "coin_outcomes = [0, 1]\n",
    "### visalize the ideal 50000000000/50000000000 split\n",
    "plt.bar(coin_outcomes, [100000000000/2, 100000000000/2], width=0.5)\n",
    "### Please uncomment the next line if you want to visualize the actual outcome\n",
    "# plt.bar(coin_outcomes, frequencies.values(), width=0.5)\n",
    "plt.xticks(coin_outcomes)\n",
    "plt.xlabel('Coin Flip Outcome')\n",
    "plt.ylabel('Frequency')\n",
    "plt.show()"
   ]
  },
  {
   "cell_type": "markdown",
   "metadata": {},
   "source": [
    "### 3. Probability Distribution of groups of 2"
   ]
  },
  {
   "cell_type": "code",
   "execution_count": 13,
   "metadata": {},
   "outputs": [
    {
     "data": {
      "image/png": "[encoded data removed]",
      "text/plain": [
       "<Figure size 432x288 with 1 Axes>"
      ]
     },
     "metadata": {
      "needs_background": "light"
     },
     "output_type": "display_data"
    }
   ],
   "source": [
    "coin_outcomes = [0, 0.5, 1]\n",
    "plt.bar(coin_outcomes, [1/4, 1/2, 1/4], width=0.3)\n",
    "plt.xticks(coin_outcomes)\n",
    "plt.xlabel('Coin Flip Outcome')\n",
    "plt.ylabel('Probability')\n",
    "plt.show()"
   ]
  },
  {
   "cell_type": "markdown",
   "metadata": {},
   "source": [
    "### 4. Probability Distribution of groups of 3"
   ]
  },
  {
   "cell_type": "code",
   "execution_count": 16,
   "metadata": {},
   "outputs": [
    {
     "data": {
      "image/png": "[encoded data removed]",
      "text/plain": [
       "<Figure size 432x288 with 1 Axes>"
      ]
     },
     "metadata": {
      "needs_background": "light"
     },
     "output_type": "display_data"
    }
   ],
   "source": [
    "coin_outcomes = [0, 0.33, 0.67, 1]\n",
    "plt.bar(coin_outcomes, [1/8, 3/8, 3/8, 1/8], width=0.2)\n",
    "plt.xticks(coin_outcomes)\n",
    "plt.xlabel('Coin Flip Outcome')\n",
    "plt.ylabel('Probability')\n",
    "plt.show()"
   ]
  },
  {
   "cell_type": "markdown",
   "metadata": {},
   "source": [
    "### 5. Probability Distribution of groups of N - Generalization"
   ]
  },
  {
   "cell_type": "code",
   "execution_count": 67,
   "metadata": {},
   "outputs": [],
   "source": [
    "def yanghui_triangle(N):\n",
    "    triangle = [[1]]\n",
    "    if N == 1:\n",
    "        return triangle\n",
    "    old_triangle = yanghui_triangle(n-1)\n",
    "    last_line = old_triangle[-1]\n",
    "    new_line = [1]\n",
    "    for index, num in enumerate(last_line):\n",
    "        if index < len(last_line) - 1:\n",
    "            new_line.append(num + last_line[index + 1])\n",
    "    new_line.append(1)\n",
    "    old_triangle.append(new_line)\n",
    "    return old_triangle"
   ]
  },
  {
   "cell_type": "code",
   "execution_count": null,
   "metadata": {},
   "outputs": [
    {
     "data": {
      "text/plain": [
       "[[1], [1, 1], [1, 2, 1], [1, 3, 3, 1], [1, 4, 6, 4, 1]]"
      ]
     },
     "execution_count": 65,
     "metadata": {},
     "output_type": "execute_result"
    }
   ],
   "source": [
    "yanghui_triangle(5)"
   ]
  },
  {
   "cell_type": "code",
   "execution_count": 160,
   "metadata": {},
   "outputs": [
    {
     "data": {
      "image/png": "[encoded data removed]",
      "text/plain": [
       "<Figure size 432x288 with 1 Axes>"
      ]
     },
     "metadata": {
      "needs_background": "light"
     },
     "output_type": "display_data"
    }
   ],
   "source": [
    "N = 10\n",
    "coin_outcomes = [i * 1/N for i in range(N+1)]\n",
    "probabilities = list(np.array(yanghui_triangle(N+1)[-1])/2**N)\n",
    "assert len(coin_outcomes) == len(probabilities)\n",
    "plt.bar(coin_outcomes, probabilities, width=1/(N*2))\n",
    "plt.xticks(coin_outcomes)\n",
    "for i, v in enumerate(probabilities):\n",
    "    plt.text(coin_outcomes[i] - 0.04, v + 0.003, str(\"{:.4f}\".format(v)))\n",
    "plt.xlabel('Coin Flip Outcome')\n",
    "plt.ylabel('Probability')\n",
    "plt.show()"
   ]
  },
  {
   "cell_type": "markdown",
   "metadata": {},
   "source": [
    "### 6. Very large N"
   ]
  },
  {
   "cell_type": "code",
   "execution_count": 153,
   "metadata": {},
   "outputs": [
    {
     "data": {
      "image/png": "[encoded data removed]",
      "text/plain": [
       "<Figure size 432x288 with 1 Axes>"
      ]
     },
     "metadata": {
      "needs_background": "light"
     },
     "output_type": "display_data"
    }
   ],
   "source": [
    "N = 100\n",
    "coin_outcomes = [i * 1/N for i in range(N+1)]\n",
    "probabilities = list(np.array(yanghui_triangle(N+1)[-1])/2**N)\n",
    "assert len(coin_outcomes) == len(probabilities)\n",
    "plt.bar(coin_outcomes, probabilities, width = 0.01)\n",
    "# plt.xticks(coin_outcomes)\n",
    "# for i, v in enumerate(probabilities):\n",
    "#     plt.text(coin_outcomes[i] - 0.04, v + 0.003, str(\"{:.4f}\".format(v)))\n",
    "plt.xlabel('Coin Flip Outcome')\n",
    "plt.ylabel('Probability')\n",
    "plt.show()"
   ]
  },
  {
   "cell_type": "code",
   "execution_count": 157,
   "metadata": {},
   "outputs": [
    {
     "data": {
      "image/png": "[encoded data removed]",
      "text/plain": [
       "<Figure size 432x288 with 1 Axes>"
      ]
     },
     "metadata": {
      "needs_background": "light"
     },
     "output_type": "display_data"
    }
   ],
   "source": [
    "N = 1000\n",
    "coin_outcomes = [i * 1/N for i in range(N+1)]\n",
    "probabilities = list(np.array(yanghui_triangle(N+1)[-1])/2**N)\n",
    "assert len(coin_outcomes) == len(probabilities)\n",
    "plt.bar(coin_outcomes, probabilities, width = 0.01)\n",
    "# plt.xticks(coin_outcomes)\n",
    "# for i, v in enumerate(probabilities):\n",
    "#     plt.text(coin_outcomes[i] - 0.04, v + 0.003, str(\"{:.4f}\".format(v)))\n",
    "plt.xlabel('Coin Flip Outcome')\n",
    "plt.ylabel('Probability')\n",
    "plt.show()"
   ]
  },
  {
   "cell_type": "markdown",
   "metadata": {},
   "source": [
    "## Calculating Mean and SD"
   ]
  },
  {
   "cell_type": "code",
   "execution_count": 179,
   "metadata": {},
   "outputs": [
    {
     "name": "stdout",
     "output_type": "stream",
     "text": [
      "mean: 0.5\n",
      "  sd: 0.15811388300841897\n"
     ]
    }
   ],
   "source": [
    "# you can try out different N values\n",
    "N = 10\n",
    "coin_outcomes = [i * 1/N for i in range(N+1)]\n",
    "probabilities = list(np.array(yanghui_triangle(N+1)[-1])/2**N)\n",
    "\n",
    "mean = sum(np.array(coin_outcomes) * np.array(probabilities))\n",
    "sd = np.sqrt(sum(np.array(probabilities) * (np.array(coin_outcomes) - mean) ** 2))\n",
    "print('mean:', mean)\n",
    "print('  sd:', sd)"
   ]
  },
  {
   "cell_type": "code",
   "execution_count": null,
   "metadata": {},
   "outputs": [],
   "source": []
  }
 ],
 "metadata": {
  "interpreter": {
   "hash": "c2af661dfde0ec8c5a02714854a37f3c65c89f42c889f3c328b8a95cd0a9cdfa"
  },
  "kernelspec": {
   "display_name": "Python 3.7.0 64-bit ('ds': conda)",
   "name": "python3"
  },
  "language_info": {
   "codemirror_mode": {
    "name": "ipython",
    "version": 3
   },
   "file_extension": ".py",
   "mimetype": "text/x-python",
   "name": "python",
   "nbconvert_exporter": "python",
   "pygments_lexer": "ipython3",
   "version": "3.7.0"
  },
  "orig_nbformat": 4
 },
 "nbformat": 4,
 "nbformat_minor": 2
}
